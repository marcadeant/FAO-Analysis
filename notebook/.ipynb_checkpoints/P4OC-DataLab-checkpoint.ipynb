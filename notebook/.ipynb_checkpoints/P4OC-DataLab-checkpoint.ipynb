{
 "cells": [
  {
   "cell_type": "markdown",
   "id": "a68beb9e",
   "metadata": {},
   "source": [
    "# Unfooded Country Analysis from FAO R&D's department  \n",
    "\n",
    "## 1. Data preprocessing\n",
    "\n",
    "    1.1 Loading natives data with Pandas\n",
    "        1.1.1 Food resources availibility's by countries by product\n",
    "        1.1.2 Amout of food resources given to countries in food deficit\n",
    "        1.1.3 Food insecurity describes by the number of undernurished people\n",
    "        1.1.4 Population by countries\n",
    "    1.2 Have a quick look to our data distributions\n",
    "    1.3 How to deal with missing values\n",
    "\n",
    "## 2. Compute data for answering to Marc's requests\n",
    "\n",
    "    2.1 Unnourished people proportion in 2017\n",
    "    2.2 Number of people which can be fooded with global food stock\n",
    "    2.3 Number of people which can be fooded with vegetables\n",
    "    2.4 The use of global food stock across each countries\n",
    "\n",
    "\n",
    "## 3. Compute data for answering to Mélanie's requests\n",
    "\n",
    "    3.1 Solution for request 1\n",
    "    3.2 Solution for request 2\n",
    "    3.3 Solution for request 3"
   ]
  },
  {
   "cell_type": "markdown",
   "id": "2ef6751e",
   "metadata": {},
   "source": [
    "# 1. Data preprocessing\n",
    "## 1.1 Loading natives data into Python"
   ]
  },
  {
   "cell_type": "code",
   "execution_count": 1,
   "id": "181f0f0a",
   "metadata": {},
   "outputs": [],
   "source": [
    "import pandas as pd\n",
    "import numpy as np\n",
    "import matplotlib.pyplot as plt"
   ]
  },
  {
   "cell_type": "markdown",
   "id": "9a4a2f07",
   "metadata": {},
   "source": [
    "### 1.1.1 Availibility of food resources by countries by type of product"
   ]
  },
  {
   "cell_type": "code",
   "execution_count": 2,
   "id": "93983fa3",
   "metadata": {},
   "outputs": [
    {
     "ename": "FileNotFoundError",
     "evalue": "[Errno 2] No such file or directory: 'P4OC - FAO/dispo_alimentaire.csv'",
     "output_type": "error",
     "traceback": [
      "\u001b[1;31m---------------------------------------------------------------------------\u001b[0m",
      "\u001b[1;31mFileNotFoundError\u001b[0m                         Traceback (most recent call last)",
      "\u001b[1;32m<ipython-input-2-956d69932785>\u001b[0m in \u001b[0;36m<module>\u001b[1;34m\u001b[0m\n\u001b[1;32m----> 1\u001b[1;33m \u001b[0mdispo_alim\u001b[0m \u001b[1;33m=\u001b[0m \u001b[0mpd\u001b[0m\u001b[1;33m.\u001b[0m\u001b[0mread_csv\u001b[0m\u001b[1;33m(\u001b[0m\u001b[1;34m'P4OC - FAO/dispo_alimentaire.csv'\u001b[0m\u001b[1;33m,\u001b[0m \u001b[0mheader\u001b[0m\u001b[1;33m=\u001b[0m\u001b[1;36m0\u001b[0m\u001b[1;33m,\u001b[0m \u001b[0msep\u001b[0m\u001b[1;33m=\u001b[0m\u001b[1;34m\",\"\u001b[0m\u001b[1;33m)\u001b[0m\u001b[1;33m\u001b[0m\u001b[1;33m\u001b[0m\u001b[0m\n\u001b[0m",
      "\u001b[1;32m~\\anaconda3\\lib\\site-packages\\pandas\\io\\parsers.py\u001b[0m in \u001b[0;36mread_csv\u001b[1;34m(filepath_or_buffer, sep, delimiter, header, names, index_col, usecols, squeeze, prefix, mangle_dupe_cols, dtype, engine, converters, true_values, false_values, skipinitialspace, skiprows, skipfooter, nrows, na_values, keep_default_na, na_filter, verbose, skip_blank_lines, parse_dates, infer_datetime_format, keep_date_col, date_parser, dayfirst, cache_dates, iterator, chunksize, compression, thousands, decimal, lineterminator, quotechar, quoting, doublequote, escapechar, comment, encoding, dialect, error_bad_lines, warn_bad_lines, delim_whitespace, low_memory, memory_map, float_precision, storage_options)\u001b[0m\n\u001b[0;32m    608\u001b[0m     \u001b[0mkwds\u001b[0m\u001b[1;33m.\u001b[0m\u001b[0mupdate\u001b[0m\u001b[1;33m(\u001b[0m\u001b[0mkwds_defaults\u001b[0m\u001b[1;33m)\u001b[0m\u001b[1;33m\u001b[0m\u001b[1;33m\u001b[0m\u001b[0m\n\u001b[0;32m    609\u001b[0m \u001b[1;33m\u001b[0m\u001b[0m\n\u001b[1;32m--> 610\u001b[1;33m     \u001b[1;32mreturn\u001b[0m \u001b[0m_read\u001b[0m\u001b[1;33m(\u001b[0m\u001b[0mfilepath_or_buffer\u001b[0m\u001b[1;33m,\u001b[0m \u001b[0mkwds\u001b[0m\u001b[1;33m)\u001b[0m\u001b[1;33m\u001b[0m\u001b[1;33m\u001b[0m\u001b[0m\n\u001b[0m\u001b[0;32m    611\u001b[0m \u001b[1;33m\u001b[0m\u001b[0m\n\u001b[0;32m    612\u001b[0m \u001b[1;33m\u001b[0m\u001b[0m\n",
      "\u001b[1;32m~\\anaconda3\\lib\\site-packages\\pandas\\io\\parsers.py\u001b[0m in \u001b[0;36m_read\u001b[1;34m(filepath_or_buffer, kwds)\u001b[0m\n\u001b[0;32m    460\u001b[0m \u001b[1;33m\u001b[0m\u001b[0m\n\u001b[0;32m    461\u001b[0m     \u001b[1;31m# Create the parser.\u001b[0m\u001b[1;33m\u001b[0m\u001b[1;33m\u001b[0m\u001b[1;33m\u001b[0m\u001b[0m\n\u001b[1;32m--> 462\u001b[1;33m     \u001b[0mparser\u001b[0m \u001b[1;33m=\u001b[0m \u001b[0mTextFileReader\u001b[0m\u001b[1;33m(\u001b[0m\u001b[0mfilepath_or_buffer\u001b[0m\u001b[1;33m,\u001b[0m \u001b[1;33m**\u001b[0m\u001b[0mkwds\u001b[0m\u001b[1;33m)\u001b[0m\u001b[1;33m\u001b[0m\u001b[1;33m\u001b[0m\u001b[0m\n\u001b[0m\u001b[0;32m    463\u001b[0m \u001b[1;33m\u001b[0m\u001b[0m\n\u001b[0;32m    464\u001b[0m     \u001b[1;32mif\u001b[0m \u001b[0mchunksize\u001b[0m \u001b[1;32mor\u001b[0m \u001b[0miterator\u001b[0m\u001b[1;33m:\u001b[0m\u001b[1;33m\u001b[0m\u001b[1;33m\u001b[0m\u001b[0m\n",
      "\u001b[1;32m~\\anaconda3\\lib\\site-packages\\pandas\\io\\parsers.py\u001b[0m in \u001b[0;36m__init__\u001b[1;34m(self, f, engine, **kwds)\u001b[0m\n\u001b[0;32m    817\u001b[0m             \u001b[0mself\u001b[0m\u001b[1;33m.\u001b[0m\u001b[0moptions\u001b[0m\u001b[1;33m[\u001b[0m\u001b[1;34m\"has_index_names\"\u001b[0m\u001b[1;33m]\u001b[0m \u001b[1;33m=\u001b[0m \u001b[0mkwds\u001b[0m\u001b[1;33m[\u001b[0m\u001b[1;34m\"has_index_names\"\u001b[0m\u001b[1;33m]\u001b[0m\u001b[1;33m\u001b[0m\u001b[1;33m\u001b[0m\u001b[0m\n\u001b[0;32m    818\u001b[0m \u001b[1;33m\u001b[0m\u001b[0m\n\u001b[1;32m--> 819\u001b[1;33m         \u001b[0mself\u001b[0m\u001b[1;33m.\u001b[0m\u001b[0m_engine\u001b[0m \u001b[1;33m=\u001b[0m \u001b[0mself\u001b[0m\u001b[1;33m.\u001b[0m\u001b[0m_make_engine\u001b[0m\u001b[1;33m(\u001b[0m\u001b[0mself\u001b[0m\u001b[1;33m.\u001b[0m\u001b[0mengine\u001b[0m\u001b[1;33m)\u001b[0m\u001b[1;33m\u001b[0m\u001b[1;33m\u001b[0m\u001b[0m\n\u001b[0m\u001b[0;32m    820\u001b[0m \u001b[1;33m\u001b[0m\u001b[0m\n\u001b[0;32m    821\u001b[0m     \u001b[1;32mdef\u001b[0m \u001b[0mclose\u001b[0m\u001b[1;33m(\u001b[0m\u001b[0mself\u001b[0m\u001b[1;33m)\u001b[0m\u001b[1;33m:\u001b[0m\u001b[1;33m\u001b[0m\u001b[1;33m\u001b[0m\u001b[0m\n",
      "\u001b[1;32m~\\anaconda3\\lib\\site-packages\\pandas\\io\\parsers.py\u001b[0m in \u001b[0;36m_make_engine\u001b[1;34m(self, engine)\u001b[0m\n\u001b[0;32m   1048\u001b[0m             )\n\u001b[0;32m   1049\u001b[0m         \u001b[1;31m# error: Too many arguments for \"ParserBase\"\u001b[0m\u001b[1;33m\u001b[0m\u001b[1;33m\u001b[0m\u001b[1;33m\u001b[0m\u001b[0m\n\u001b[1;32m-> 1050\u001b[1;33m         \u001b[1;32mreturn\u001b[0m \u001b[0mmapping\u001b[0m\u001b[1;33m[\u001b[0m\u001b[0mengine\u001b[0m\u001b[1;33m]\u001b[0m\u001b[1;33m(\u001b[0m\u001b[0mself\u001b[0m\u001b[1;33m.\u001b[0m\u001b[0mf\u001b[0m\u001b[1;33m,\u001b[0m \u001b[1;33m**\u001b[0m\u001b[0mself\u001b[0m\u001b[1;33m.\u001b[0m\u001b[0moptions\u001b[0m\u001b[1;33m)\u001b[0m  \u001b[1;31m# type: ignore[call-arg]\u001b[0m\u001b[1;33m\u001b[0m\u001b[1;33m\u001b[0m\u001b[0m\n\u001b[0m\u001b[0;32m   1051\u001b[0m \u001b[1;33m\u001b[0m\u001b[0m\n\u001b[0;32m   1052\u001b[0m     \u001b[1;32mdef\u001b[0m \u001b[0m_failover_to_python\u001b[0m\u001b[1;33m(\u001b[0m\u001b[0mself\u001b[0m\u001b[1;33m)\u001b[0m\u001b[1;33m:\u001b[0m\u001b[1;33m\u001b[0m\u001b[1;33m\u001b[0m\u001b[0m\n",
      "\u001b[1;32m~\\anaconda3\\lib\\site-packages\\pandas\\io\\parsers.py\u001b[0m in \u001b[0;36m__init__\u001b[1;34m(self, src, **kwds)\u001b[0m\n\u001b[0;32m   1865\u001b[0m \u001b[1;33m\u001b[0m\u001b[0m\n\u001b[0;32m   1866\u001b[0m         \u001b[1;31m# open handles\u001b[0m\u001b[1;33m\u001b[0m\u001b[1;33m\u001b[0m\u001b[1;33m\u001b[0m\u001b[0m\n\u001b[1;32m-> 1867\u001b[1;33m         \u001b[0mself\u001b[0m\u001b[1;33m.\u001b[0m\u001b[0m_open_handles\u001b[0m\u001b[1;33m(\u001b[0m\u001b[0msrc\u001b[0m\u001b[1;33m,\u001b[0m \u001b[0mkwds\u001b[0m\u001b[1;33m)\u001b[0m\u001b[1;33m\u001b[0m\u001b[1;33m\u001b[0m\u001b[0m\n\u001b[0m\u001b[0;32m   1868\u001b[0m         \u001b[1;32massert\u001b[0m \u001b[0mself\u001b[0m\u001b[1;33m.\u001b[0m\u001b[0mhandles\u001b[0m \u001b[1;32mis\u001b[0m \u001b[1;32mnot\u001b[0m \u001b[1;32mNone\u001b[0m\u001b[1;33m\u001b[0m\u001b[1;33m\u001b[0m\u001b[0m\n\u001b[0;32m   1869\u001b[0m         \u001b[1;32mfor\u001b[0m \u001b[0mkey\u001b[0m \u001b[1;32min\u001b[0m \u001b[1;33m(\u001b[0m\u001b[1;34m\"storage_options\"\u001b[0m\u001b[1;33m,\u001b[0m \u001b[1;34m\"encoding\"\u001b[0m\u001b[1;33m,\u001b[0m \u001b[1;34m\"memory_map\"\u001b[0m\u001b[1;33m,\u001b[0m \u001b[1;34m\"compression\"\u001b[0m\u001b[1;33m)\u001b[0m\u001b[1;33m:\u001b[0m\u001b[1;33m\u001b[0m\u001b[1;33m\u001b[0m\u001b[0m\n",
      "\u001b[1;32m~\\anaconda3\\lib\\site-packages\\pandas\\io\\parsers.py\u001b[0m in \u001b[0;36m_open_handles\u001b[1;34m(self, src, kwds)\u001b[0m\n\u001b[0;32m   1360\u001b[0m         \u001b[0mLet\u001b[0m \u001b[0mthe\u001b[0m \u001b[0mreaders\u001b[0m \u001b[0mopen\u001b[0m \u001b[0mIOHanldes\u001b[0m \u001b[0mafter\u001b[0m \u001b[0mthey\u001b[0m \u001b[0mare\u001b[0m \u001b[0mdone\u001b[0m \u001b[1;32mwith\u001b[0m \u001b[0mtheir\u001b[0m \u001b[0mpotential\u001b[0m \u001b[0mraises\u001b[0m\u001b[1;33m.\u001b[0m\u001b[1;33m\u001b[0m\u001b[1;33m\u001b[0m\u001b[0m\n\u001b[0;32m   1361\u001b[0m         \"\"\"\n\u001b[1;32m-> 1362\u001b[1;33m         self.handles = get_handle(\n\u001b[0m\u001b[0;32m   1363\u001b[0m             \u001b[0msrc\u001b[0m\u001b[1;33m,\u001b[0m\u001b[1;33m\u001b[0m\u001b[1;33m\u001b[0m\u001b[0m\n\u001b[0;32m   1364\u001b[0m             \u001b[1;34m\"r\"\u001b[0m\u001b[1;33m,\u001b[0m\u001b[1;33m\u001b[0m\u001b[1;33m\u001b[0m\u001b[0m\n",
      "\u001b[1;32m~\\anaconda3\\lib\\site-packages\\pandas\\io\\common.py\u001b[0m in \u001b[0;36mget_handle\u001b[1;34m(path_or_buf, mode, encoding, compression, memory_map, is_text, errors, storage_options)\u001b[0m\n\u001b[0;32m    640\u001b[0m                 \u001b[0merrors\u001b[0m \u001b[1;33m=\u001b[0m \u001b[1;34m\"replace\"\u001b[0m\u001b[1;33m\u001b[0m\u001b[1;33m\u001b[0m\u001b[0m\n\u001b[0;32m    641\u001b[0m             \u001b[1;31m# Encoding\u001b[0m\u001b[1;33m\u001b[0m\u001b[1;33m\u001b[0m\u001b[1;33m\u001b[0m\u001b[0m\n\u001b[1;32m--> 642\u001b[1;33m             handle = open(\n\u001b[0m\u001b[0;32m    643\u001b[0m                 \u001b[0mhandle\u001b[0m\u001b[1;33m,\u001b[0m\u001b[1;33m\u001b[0m\u001b[1;33m\u001b[0m\u001b[0m\n\u001b[0;32m    644\u001b[0m                 \u001b[0mioargs\u001b[0m\u001b[1;33m.\u001b[0m\u001b[0mmode\u001b[0m\u001b[1;33m,\u001b[0m\u001b[1;33m\u001b[0m\u001b[1;33m\u001b[0m\u001b[0m\n",
      "\u001b[1;31mFileNotFoundError\u001b[0m: [Errno 2] No such file or directory: 'P4OC - FAO/dispo_alimentaire.csv'"
     ]
    }
   ],
   "source": [
    "dispo_alim = pd.read_csv('P4OC - FAO/dispo_alimentaire.csv', header=0, sep=\",\")"
   ]
  },
  {
   "cell_type": "code",
   "execution_count": null,
   "id": "c072a366",
   "metadata": {},
   "outputs": [],
   "source": [
    "dispo_alim"
   ]
  },
  {
   "cell_type": "code",
   "execution_count": null,
   "id": "cf908bae",
   "metadata": {},
   "outputs": [],
   "source": [
    "dispo_alim.isna().describe()"
   ]
  },
  {
   "cell_type": "markdown",
   "id": "1a6b71c9",
   "metadata": {},
   "source": [
    "### 1.1.2 Food resources given to countries in food deficit"
   ]
  },
  {
   "cell_type": "code",
   "execution_count": null,
   "id": "ca8079d5",
   "metadata": {},
   "outputs": [],
   "source": [
    "aide_alim = pd.read_csv('P4OC - FAO/aide_alimentaire.csv', header=0, sep=',')"
   ]
  },
  {
   "cell_type": "code",
   "execution_count": null,
   "id": "8a249b96",
   "metadata": {},
   "outputs": [],
   "source": [
    "aide_alim.head(10)"
   ]
  },
  {
   "cell_type": "code",
   "execution_count": null,
   "id": "1a761aec",
   "metadata": {},
   "outputs": [],
   "source": [
    "aide_alim.sort_values(['Pays bénéficiaire','Année'], ascending=True)"
   ]
  },
  {
   "cell_type": "code",
   "execution_count": null,
   "id": "1f8920cc",
   "metadata": {},
   "outputs": [],
   "source": [
    "aide_alim.isna().describe()"
   ]
  },
  {
   "cell_type": "markdown",
   "id": "e772b357",
   "metadata": {},
   "source": [
    "### 1.2.3 Food insecurity describe by the number of undernurished people"
   ]
  },
  {
   "cell_type": "code",
   "execution_count": null,
   "id": "b37b5b10",
   "metadata": {},
   "outputs": [],
   "source": [
    "col_types = {'Zone' : str, 'Année' : str, 'Valeur' : int}\n",
    "sous_alim = pd.read_csv('P4OC - FAO/sous_nutrition.csv', header=0, sep=',')"
   ]
  },
  {
   "cell_type": "code",
   "execution_count": null,
   "id": "66c56087",
   "metadata": {},
   "outputs": [],
   "source": [
    "sous_alim['Valeur'].isna().describe()"
   ]
  },
  {
   "cell_type": "code",
   "execution_count": null,
   "id": "9f2f8fd8",
   "metadata": {},
   "outputs": [],
   "source": [
    "sous_alim.head(5)"
   ]
  },
  {
   "cell_type": "code",
   "execution_count": null,
   "id": "366002d1",
   "metadata": {},
   "outputs": [],
   "source": [
    "sous_alim['Valeur'].isna()"
   ]
  },
  {
   "cell_type": "code",
   "execution_count": null,
   "id": "69852786",
   "metadata": {},
   "outputs": [],
   "source": []
  },
  {
   "cell_type": "markdown",
   "id": "0e99544b",
   "metadata": {},
   "source": [
    "### 1.2.4 Population by countries"
   ]
  },
  {
   "cell_type": "code",
   "execution_count": null,
   "id": "a15c2f94",
   "metadata": {},
   "outputs": [],
   "source": [
    "pop_pays = pd.read_csv('P4OC - FAO/population.csv', header=0, sep=',')"
   ]
  },
  {
   "cell_type": "code",
   "execution_count": null,
   "id": "dcab9f71",
   "metadata": {},
   "outputs": [],
   "source": [
    "pop_pays.head(5)"
   ]
  },
  {
   "cell_type": "code",
   "execution_count": null,
   "id": "667a1d26",
   "metadata": {},
   "outputs": [],
   "source": [
    "pop_pays[pop_pays['Année'] == 2017].set_index('Zone').head(5).plot.bar(y='Valeur')"
   ]
  },
  {
   "cell_type": "code",
   "execution_count": null,
   "id": "c502ba92",
   "metadata": {},
   "outputs": [],
   "source": [
    "pop_pays.isna().describe()"
   ]
  },
  {
   "cell_type": "code",
   "execution_count": null,
   "id": "8d4078a0",
   "metadata": {},
   "outputs": [],
   "source": [
    "pop_pays_2017_initial = pop_pays[pop_pays['Année'] == 2017][['Zone','Valeur']]\n",
    "pop_pays_2017 = pop_pays[pop_pays['Année'] == 2017][['Zone','Valeur']]"
   ]
  },
  {
   "cell_type": "markdown",
   "id": "15934b46",
   "metadata": {},
   "source": [
    "## 1.3 How to deal with missing values"
   ]
  },
  {
   "cell_type": "markdown",
   "id": "21c1c4cf",
   "metadata": {},
   "source": [
    "### 1.3.1 Food Unsecurity's data set"
   ]
  },
  {
   "cell_type": "code",
   "execution_count": null,
   "id": "68ff6e87",
   "metadata": {},
   "outputs": [],
   "source": [
    "# Le nombre totale de personne en sous nutrition \n",
    "col_types = {'Zone' : str, 'Année' : str, 'Valeur' : np.float64}\n",
    "sous_alim.dtypes"
   ]
  },
  {
   "cell_type": "code",
   "execution_count": null,
   "id": "c206d607",
   "metadata": {},
   "outputs": [],
   "source": []
  },
  {
   "cell_type": "code",
   "execution_count": null,
   "id": "662f6b34",
   "metadata": {},
   "outputs": [],
   "source": [
    "# convert string into float\n",
    "def convert_string_to_float(value):\n",
    "    \n",
    "    if value == '<0.1':\n",
    "        return 0.1\n",
    "    else :\n",
    "        return np.float64(value)\n",
    "    "
   ]
  },
  {
   "cell_type": "code",
   "execution_count": null,
   "id": "3b5a0548",
   "metadata": {},
   "outputs": [],
   "source": [
    "# proportion d'occurence '<0.1' dans Valeur \n",
    "sous_alim['Valeur'][sous_alim['Valeur'] == '<0.1'].count() / sous_alim['Valeur'].count()"
   ]
  },
  {
   "cell_type": "code",
   "execution_count": null,
   "id": "583a6b90",
   "metadata": {},
   "outputs": [],
   "source": [
    "# Delete country with unnourished pop missing values\n",
    "sous_alim['Valeur'] = pd.to_numeric(sous_alim['Valeur'], errors = 'coerce')\n",
    "sous_alim.dropna(inplace = True)\n"
   ]
  },
  {
   "cell_type": "code",
   "execution_count": null,
   "id": "ea3ceacb",
   "metadata": {},
   "outputs": [],
   "source": [
    "# Replace unnourished pop's value '<0.1' by 0.1\n",
    "## sous_alim['Valeur'] = sous_alim['Valeur'].apply(convert_string_to_float)\n",
    "## sous_alim.dropna(inplace=True)"
   ]
  },
  {
   "cell_type": "code",
   "execution_count": null,
   "id": "89949995",
   "metadata": {},
   "outputs": [],
   "source": [
    "# Saving cleaning data a do a copy\n",
    "sous_alim_copy = sous_alim.copy()"
   ]
  },
  {
   "cell_type": "markdown",
   "id": "e724c520",
   "metadata": {},
   "source": [
    "### 1.3.2 global food stock data"
   ]
  },
  {
   "cell_type": "code",
   "execution_count": null,
   "id": "94ea8e06",
   "metadata": {},
   "outputs": [],
   "source": [
    "# Suppression des lignes entièrement nulles\n",
    "\n",
    "dispo_alim.dropna(axis = 1, how='all') # drop des colonnes entièrement nulles\n",
    "dispo_alim = dispo_alim.replace(0, np.nan).dropna(how = 'all' , subset = dispo_alim.columns[3:])\n",
    "dispo_alim.replace(np.nan, 0, inplace=True) # On assume que toutes les valeurs manquantes soient nulles"
   ]
  },
  {
   "cell_type": "code",
   "execution_count": null,
   "id": "d1ff78ac",
   "metadata": {},
   "outputs": [],
   "source": [
    "dispo_alim.columns[3:]"
   ]
  },
  {
   "cell_type": "code",
   "execution_count": null,
   "id": "4e3662c5",
   "metadata": {},
   "outputs": [],
   "source": [
    "dispo_alim"
   ]
  },
  {
   "cell_type": "markdown",
   "id": "0cfebd72",
   "metadata": {},
   "source": [
    "## 2.1 Unnourished people proportion in 2017"
   ]
  },
  {
   "cell_type": "code",
   "execution_count": null,
   "id": "036605e9",
   "metadata": {},
   "outputs": [],
   "source": [
    "# La population mondiale en 2017\n",
    "tot_pop = pop_pays['Valeur'][pop_pays['Année'] == 2017].sum()"
   ]
  },
  {
   "cell_type": "code",
   "execution_count": null,
   "id": "1f994317",
   "metadata": {},
   "outputs": [],
   "source": [
    "# Population total en sous nutrition\n",
    "tot_pop_sous_alim = sous_alim_copy['Valeur'][sous_alim_copy['Année'] == '2016-2018'].sum()*1000"
   ]
  },
  {
   "cell_type": "code",
   "execution_count": null,
   "id": "15d6e5f9",
   "metadata": {},
   "outputs": [],
   "source": [
    "tot_pop_sous_alim"
   ]
  },
  {
   "cell_type": "code",
   "execution_count": null,
   "id": "22547da6",
   "metadata": {},
   "outputs": [],
   "source": [
    "prop_sous_alim = tot_pop_sous_alim / tot_pop"
   ]
  },
  {
   "cell_type": "code",
   "execution_count": null,
   "id": "07d88e70",
   "metadata": {},
   "outputs": [],
   "source": [
    "prop_sous_alim"
   ]
  },
  {
   "cell_type": "code",
   "execution_count": null,
   "id": "43ffa5db",
   "metadata": {},
   "outputs": [],
   "source": [
    "size_prop_sous = [prop_sous_alim, 1-prop_sous_alim]"
   ]
  },
  {
   "cell_type": "code",
   "execution_count": null,
   "id": "46b3f95b",
   "metadata": {},
   "outputs": [],
   "source": [
    "ranking_sous_alim_pays = sous_alim_copy[sous_alim_copy['Année'] == '2016-2018'][['Zone','Valeur']].sort_values(by='Valeur',ascending=False).head(10)"
   ]
  },
  {
   "cell_type": "code",
   "execution_count": null,
   "id": "911d186d",
   "metadata": {},
   "outputs": [],
   "source": [
    "\n",
    "plt.pie(size_prop_sous, labels=['Pop sous alimentée', 'Pop en suffisance alimentaire'], explode = (0.2,0), autopct='%1.1f%%', shadow = True)\n",
    "plt.legend(loc='upper right')\n",
    "plt.title(label = \"Unnourished people's proportion\")\n",
    "plt.show()"
   ]
  },
  {
   "cell_type": "code",
   "execution_count": null,
   "id": "dd324319",
   "metadata": {},
   "outputs": [],
   "source": [
    "sous_alim_pop_total = sous_alim_copy[sous_alim_copy['Année'] == '2016-2018']['Valeur'].sum()\n",
    "size = list(ranking_sous_alim_pays.Valeur/sous_alim_pop_total)\n",
    "autre_country = 1 - sum(size)"
   ]
  },
  {
   "cell_type": "code",
   "execution_count": null,
   "id": "7c1749f3",
   "metadata": {},
   "outputs": [],
   "source": [
    "len(size)"
   ]
  },
  {
   "cell_type": "code",
   "execution_count": null,
   "id": "f48d153b",
   "metadata": {},
   "outputs": [],
   "source": [
    "labels = [str(int(pos)) + '. ' + label for (pos, label) in zip (np.linspace(1,10,10),list(ranking_sous_alim_pays.Zone))]\n",
    "size.insert(0, autre_country)\n",
    "labels.insert(0, 'autres')"
   ]
  },
  {
   "cell_type": "code",
   "execution_count": null,
   "id": "49434aa9",
   "metadata": {},
   "outputs": [],
   "source": [
    "labels"
   ]
  },
  {
   "cell_type": "code",
   "execution_count": null,
   "id": "7ac7bfc9",
   "metadata": {},
   "outputs": [],
   "source": [
    "explode = [0 for i in range(1,12)]\n",
    "explode[1] = 0.1\n",
    "fig1, ax1  = plt.subplots(figsize=(5,6), subplot_kw=dict(aspect=\"equal\"))\n",
    "ax1.pie(size, labels=labels, autopct='%1.1f%%',\n",
    "       shadow = True, textprops=dict(color=\"w\", weight=\"bold\"), explode = explode)\n",
    "ax1.set_title(\"10 most unnourished countries in the world\")\n",
    "ax1.legend(labels,\n",
    "        loc='center left',        \n",
    "        bbox_to_anchor=(1, 0, 0.5, 1))\n",
    "plt.show()\n"
   ]
  },
  {
   "cell_type": "code",
   "execution_count": null,
   "id": "5346ea94",
   "metadata": {},
   "outputs": [],
   "source": [
    "del size, labels"
   ]
  },
  {
   "cell_type": "code",
   "execution_count": null,
   "id": "a1c3814a",
   "metadata": {},
   "outputs": [],
   "source": [
    "def func(pct, allvals):\n",
    "    absolute = int(np.round(pct/100.*np.sum(allvals)))\n",
    "    return \"{:.1f}%\\n({:d} g)\".format(pct, absolute)"
   ]
  },
  {
   "cell_type": "markdown",
   "id": "a8042d72",
   "metadata": {},
   "source": [
    "## 2.2 Volume of people which can be fooded with global food stock"
   ]
  },
  {
   "cell_type": "code",
   "execution_count": null,
   "id": "2170fce1",
   "metadata": {},
   "outputs": [],
   "source": [
    "dispo_alim_copy = dispo_alim.copy()"
   ]
  },
  {
   "cell_type": "code",
   "execution_count": null,
   "id": "2bbad096",
   "metadata": {},
   "outputs": [],
   "source": [
    "dispo_alim_copy.describe()"
   ]
  },
  {
   "cell_type": "code",
   "execution_count": null,
   "id": "50a1e515",
   "metadata": {},
   "outputs": [],
   "source": [
    "dispo_alim_copy['Disponibilité intérieure'] = dispo_alim_copy['Disponibilité intérieure'].replace(np.nan, 0)"
   ]
  },
  {
   "cell_type": "code",
   "execution_count": null,
   "id": "cba7dedc",
   "metadata": {},
   "outputs": [],
   "source": [
    "volume_dispo_global = dispo_alim_copy['Disponibilité alimentaire (Kcal/personne/jour)'].sum()"
   ]
  },
  {
   "cell_type": "code",
   "execution_count": null,
   "id": "7a07f6ba",
   "metadata": {
    "scrolled": true
   },
   "outputs": [],
   "source": [
    "dispo_alim_total_pays = dispo_alim_copy[['Zone', 'Disponibilité alimentaire (Kcal/personne/jour)']].groupby('Zone').sum().reset_index()"
   ]
  },
  {
   "cell_type": "code",
   "execution_count": null,
   "id": "12c9d738",
   "metadata": {},
   "outputs": [],
   "source": [
    "1"
   ]
  },
  {
   "cell_type": "code",
   "execution_count": null,
   "id": "20a3617f",
   "metadata": {},
   "outputs": [],
   "source": [
    "capacite_alim_pays = dispo_alim_total_pays.join(pop_pays_2017.set_index('Zone'), 'Zone').rename({'Disponibilité alimentaire (Kcal/personne/jour)' : 'Disponibilité alimentaire totale (Kcal/personne/jour)'})"
   ]
  },
  {
   "cell_type": "code",
   "execution_count": null,
   "id": "d5dfd9b9",
   "metadata": {},
   "outputs": [],
   "source": [
    "capacite_alim_pays['Disponibilité alimentaire totale'] = capacite_alim_pays['Disponibilité alimentaire (Kcal/personne/jour)'] * capacite_alim_pays['Valeur'] * 1000"
   ]
  },
  {
   "cell_type": "code",
   "execution_count": null,
   "id": "45d3e375",
   "metadata": {},
   "outputs": [],
   "source": [
    "# Disponibilité alimentaire mondiale en Kcal\n",
    "dispo_alim_total = capacite_alim_pays['Disponibilité alimentaire totale'].sum()\n",
    "# Apport journalier d'une personne adulte estimé à 2500 Kcal\n",
    "nb_theorique_pers = dispo_alim_total / 2500"
   ]
  },
  {
   "cell_type": "code",
   "execution_count": null,
   "id": "132a9768",
   "metadata": {},
   "outputs": [],
   "source": [
    "nb_theorique_pers"
   ]
  },
  {
   "cell_type": "markdown",
   "id": "5b5f847c",
   "metadata": {},
   "source": [
    "## 2.3 Number of people which can be fooded with vegetables"
   ]
  },
  {
   "cell_type": "code",
   "execution_count": null,
   "id": "424b4c90",
   "metadata": {},
   "outputs": [],
   "source": [
    "dispo_alim_total_pays_vege = dispo_alim[dispo_alim['Origine'] == 'vegetale'][['Zone','Disponibilité alimentaire (Kcal/personne/jour)']].groupby('Zone').sum().reset_index()"
   ]
  },
  {
   "cell_type": "code",
   "execution_count": null,
   "id": "51c14194",
   "metadata": {},
   "outputs": [],
   "source": [
    "capacite_alim_pays_vege = dispo_alim_total_pays_vege.join(pop_pays_2017.set_index('Zone'), 'Zone')"
   ]
  },
  {
   "cell_type": "code",
   "execution_count": null,
   "id": "17b372a3",
   "metadata": {},
   "outputs": [],
   "source": [
    "capacite_alim_pays_vege"
   ]
  },
  {
   "cell_type": "code",
   "execution_count": null,
   "id": "7442d4b5",
   "metadata": {},
   "outputs": [],
   "source": [
    "capacite_alim_pays_vege['Disponibilité Alimentaire totale'] = capacite_alim_pays_vege['Disponibilité alimentaire (Kcal/personne/jour)'] * capacite_alim_pays_vege['Valeur'] * 1000\n",
    "dispo_total_alim_vege = capacite_alim_pays_vege['Disponibilité Alimentaire totale'].sum()\n",
    "nb_theorique_pers_vege = dispo_total_alim_vege / 2500"
   ]
  },
  {
   "cell_type": "code",
   "execution_count": null,
   "id": "ba7e3d8c",
   "metadata": {},
   "outputs": [],
   "source": [
    "nb_theorique_pers_vege"
   ]
  },
  {
   "cell_type": "code",
   "execution_count": null,
   "id": "0314eee0",
   "metadata": {},
   "outputs": [],
   "source": [
    "prop_dispo_alim_animal = (dispo_alim_total - dispo_total_alim_vege)/ dispo_alim_total\n",
    "prop_dispo_alim_vege = dispo_total_alim_vege / dispo_alim_total\n",
    "plt.pie([prop_dispo_alim_vege, prop_dispo_alim_animal], labels=[\"Animal's food\",\"Vegetal's food\"], shadow=True, autopct='%1.1f%%')\n",
    "plt.title(\"Food Catagories world repartition\")\n",
    "plt.show()"
   ]
  },
  {
   "cell_type": "code",
   "execution_count": null,
   "id": "24459d20",
   "metadata": {},
   "outputs": [],
   "source": [
    "# écrire une fonction pour scaler le résultat produit végétale et produit animale\n",
    "\n",
    "def get_theorical_number(dispo_alim : pd.DataFrame, pop_pays : pd.DataFrame, origine='all') -> float :\n",
    "        \n",
    "        if origine != 'all':\n",
    "            dispo_alim_pays = dispo_alim[dispo_alim['Origine'] == origine][['Zone', 'Disponibilité alimentaire (Kcal/personne/jour)']].groupby('Zone').sum()\n",
    "        else :\n",
    "            dispo_alim_pays = dispo_alim[['Zone', 'Disponibilité alimentaire (Kcal/personne/jour)']].groupby('Zone').sum()\n",
    "        capacite_alim_pays = pop_pays.join(dispo_alim_pays, 'Zone')\n",
    "        capacite_alim_pays['Disponibilité alimentaire totale'] = capacite_alim_pays['Disponibilité alimentaire (Kcal/personne/jour)'] * capacite_alim_pays['Valeur'] * 1000\n",
    "        dispo_totale_alim = capacite_alim_pays['Disponibilité alimentaire totale'].sum()\n",
    "        theorical_number = dispo_totale_alim / 2500\n",
    "        return theorical_number"
   ]
  },
  {
   "cell_type": "code",
   "execution_count": null,
   "id": "7d335014",
   "metadata": {},
   "outputs": [],
   "source": [
    "get_theorical_number(dispo_alim, pop_pays_2017)"
   ]
  },
  {
   "cell_type": "markdown",
   "id": "23241ac1",
   "metadata": {},
   "source": [
    "## 2.4 The use of the world food stock "
   ]
  },
  {
   "cell_type": "code",
   "execution_count": null,
   "id": "c11880b8",
   "metadata": {},
   "outputs": [],
   "source": [
    "#disp_int = aliment_animaux + autre_utilisation + alim_humaine + export - perte"
   ]
  },
  {
   "cell_type": "code",
   "execution_count": null,
   "id": "b3c945be",
   "metadata": {},
   "outputs": [],
   "source": [
    "size = dispo_alim_copy[['Aliments pour animaux', 'Autres Utilisations', 'Exportations - Quantité','Nourriture', 'Pertes']].sum()"
   ]
  },
  {
   "cell_type": "code",
   "execution_count": null,
   "id": "b9ad6ea8",
   "metadata": {},
   "outputs": [],
   "source": [
    "dispo_alim_copy['Disponibilité intérieure'].sum()"
   ]
  },
  {
   "cell_type": "code",
   "execution_count": null,
   "id": "d6ea2e7e",
   "metadata": {},
   "outputs": [],
   "source": [
    "size / dispo_alim_copy['Disponibilité intérieure'].sum()"
   ]
  },
  {
   "cell_type": "code",
   "execution_count": null,
   "id": "904f6f93",
   "metadata": {},
   "outputs": [],
   "source": [
    "1304245.0 / 9848994.0"
   ]
  },
  {
   "cell_type": "code",
   "execution_count": null,
   "id": "4a875742",
   "metadata": {},
   "outputs": [],
   "source": [
    "sum(dispo_alim_copy[['Aliments pour animaux', 'Autres Utilisations', 'Exportations - Quantité','Nourriture', 'Pertes']].sum())"
   ]
  },
  {
   "cell_type": "code",
   "execution_count": null,
   "id": "e82ec462",
   "metadata": {},
   "outputs": [],
   "source": [
    "aide_alim['Valeur'].sum()"
   ]
  },
  {
   "cell_type": "code",
   "execution_count": null,
   "id": "fff52da0",
   "metadata": {},
   "outputs": [],
   "source": [
    "def func(pct, allvals):\n",
    "    absolute = int(np.round(pct/100. * np.sum(allvals)))\n",
    "    return \"{:.1f}%\\n({:d} m.t)\".format(pct, absolute)"
   ]
  },
  {
   "cell_type": "code",
   "execution_count": null,
   "id": "88a03ff8",
   "metadata": {},
   "outputs": [],
   "source": [
    "lambda pct, allvalls : func(pct,allvals)"
   ]
  },
  {
   "cell_type": "code",
   "execution_count": null,
   "id": "169d6a24",
   "metadata": {
    "scrolled": true
   },
   "outputs": [],
   "source": [
    "allvals = sum(size) - \n",
    "plt.figure(figsize=(6,10))\n",
    "plt.pie(x=size / allvals,\n",
    "        labels= ['Aliments pour animaux', 'Autres Utilisations', 'Exportations - Quantité','Nourriture', 'Pertes'], \n",
    "        shadow = True,\n",
    "        autopct = lambda pct : func(pct,allvals),\n",
    "        textprops=dict(color=\"black\", size=\"10\"),\n",
    "        explode = [0.1,0.1,0.1,0.1,0.1]\n",
    "       )\n",
    "plt.title(\"The use of global food stock\")\n",
    "plt.show()"
   ]
  },
  {
   "cell_type": "markdown",
   "id": "f4c22bbc",
   "metadata": {},
   "source": [
    "# 3. Compute data for answering to Mélanie's requests"
   ]
  },
  {
   "cell_type": "markdown",
   "id": "e977fedd",
   "metadata": {},
   "source": [
    "## 3.1.1 Top of Unnourished people proportion's by Country in 2017"
   ]
  },
  {
   "cell_type": "code",
   "execution_count": null,
   "id": "727e0776",
   "metadata": {},
   "outputs": [],
   "source": [
    "pop_pays_2017[['Zone', 'Valeur']]"
   ]
  },
  {
   "cell_type": "code",
   "execution_count": null,
   "id": "3253e7f6",
   "metadata": {},
   "outputs": [],
   "source": [
    "pop_pays_2017[pop_pays_2017['Zone'] == 'Dominique']"
   ]
  },
  {
   "cell_type": "code",
   "execution_count": null,
   "id": "0eac02e3",
   "metadata": {},
   "outputs": [],
   "source": [
    "sous_alim_copy = sous_alim.copy()"
   ]
  },
  {
   "cell_type": "code",
   "execution_count": null,
   "id": "be5e43fe",
   "metadata": {},
   "outputs": [],
   "source": [
    "sous_alim_copy.rename(columns={'Valeur' : 'pop_sous_alim'},inplace=True)"
   ]
  },
  {
   "cell_type": "code",
   "execution_count": null,
   "id": "131018e8",
   "metadata": {},
   "outputs": [],
   "source": [
    "sous_alim_copy"
   ]
  },
  {
   "cell_type": "code",
   "execution_count": null,
   "id": "b9f93465",
   "metadata": {},
   "outputs": [],
   "source": [
    "sous_alim_copy = sous_alim_copy[sous_alim_copy['Année'] == '2016-2018'][['Zone','pop_sous_alim']]"
   ]
  },
  {
   "cell_type": "code",
   "execution_count": null,
   "id": "e6590285",
   "metadata": {},
   "outputs": [],
   "source": [
    "prop_pop_sous_alim = sous_alim_copy.join(pop_pays_2017.set_index('Zone'),'Zone')"
   ]
  },
  {
   "cell_type": "code",
   "execution_count": null,
   "id": "dbffd8fd",
   "metadata": {},
   "outputs": [],
   "source": []
  },
  {
   "cell_type": "code",
   "execution_count": null,
   "id": "6bc67c4b",
   "metadata": {},
   "outputs": [],
   "source": [
    "# convertir la population sous alimentée en milliers d'hab\n",
    "prop_pop_sous_alim['pop_sous_alim'] = (prop_pop_sous_alim['pop_sous_alim'] * 1000)"
   ]
  },
  {
   "cell_type": "code",
   "execution_count": null,
   "id": "52b6736f",
   "metadata": {},
   "outputs": [],
   "source": []
  },
  {
   "cell_type": "code",
   "execution_count": null,
   "id": "4bcd29ef",
   "metadata": {},
   "outputs": [],
   "source": [
    "prop_pop_sous_alim.rename(columns={'Valeur' : 'pop_totale'}, inplace=True)"
   ]
  },
  {
   "cell_type": "code",
   "execution_count": null,
   "id": "53627694",
   "metadata": {},
   "outputs": [],
   "source": [
    "prop_pop_sous_alim['prop_pop_sous_alim'] = prop_pop_sous_alim['pop_sous_alim'] / prop_pop_sous_alim['pop_totale']"
   ]
  },
  {
   "cell_type": "code",
   "execution_count": null,
   "id": "8d6abc2a",
   "metadata": {},
   "outputs": [],
   "source": [
    "prop_pop_sous_alim.sort_values('prop_pop_sous_alim', ascending=False).head(12)"
   ]
  },
  {
   "cell_type": "code",
   "execution_count": null,
   "id": "65934097",
   "metadata": {},
   "outputs": [],
   "source": [
    "distribution = prop_pop_sous_alim.sort_values('prop_pop_sous_alim', ascending=False).head(12)\n",
    "\n",
    "indexs = [(row,column) for row in range(0,4) for column in range(0,3)]\n",
    "\n",
    "fig, axs = plt.subplots(4,3,figsize=(12,8))\n",
    "axes_number = 0\n",
    "for index in indexs : \n",
    "    size = distribution.iloc[axes_number].prop_pop_sous_alim\n",
    "    inv_size = 1 - size\n",
    "    title = distribution.iloc[axes_number].Zone\n",
    "    axs[index].pie(x= [size, inv_size], explode = [0.2,0], autopct ='%1.1f%%' )\n",
    "    axs[index].set_title(str(axes_number + 1) + '. '+ title)\n",
    "    axes_number+=1\n",
    "fig.legend(labels=['Unnourished prop','Well-fooded prop'],\n",
    "          title='Legends')"
   ]
  },
  {
   "cell_type": "markdown",
   "id": "8d8d49dc",
   "metadata": {},
   "source": [
    "## 3.2 Top 10 of  most supported food aid countries since 2013"
   ]
  },
  {
   "cell_type": "code",
   "execution_count": null,
   "id": "1ea3209d",
   "metadata": {},
   "outputs": [],
   "source": [
    "aide_alim_copy = aide_alim.copy()"
   ]
  },
  {
   "cell_type": "code",
   "execution_count": null,
   "id": "6be5345b",
   "metadata": {},
   "outputs": [],
   "source": [
    "aide_alim_copy.rename(columns={'Valeur' : 'Qte Aide'}, inplace = True)\n",
    "aide_alim_index = aide_alim_copy[aide_alim[\"Année\"] >= 2013].groupby(by=['Pays bénéficiaire', 'Année']).agg({'Qte Aide' : 'sum'})\n"
   ]
  },
  {
   "cell_type": "code",
   "execution_count": null,
   "id": "a873db60",
   "metadata": {},
   "outputs": [],
   "source": [
    "global_supported_df = aide_alim_index.reset_index().drop(columns=['Année']).groupby(by='Pays bénéficiaire').sum().sort_values('Qte Aide', ascending = False)\n",
    "top_supported_df = global_supported_df.head(10)\n",
    "other_supported_df = global_supported_df.iloc[11:,:].sum()\n",
    "other_supported_df = top_supported_df.append(other_supported_df, ignore_index = True).set_index(top_supported_df.index.insert(11, \"Other\"))"
   ]
  },
  {
   "cell_type": "code",
   "execution_count": null,
   "id": "bd1c3914",
   "metadata": {},
   "outputs": [],
   "source": [
    "top_supported_df.index.insert(11,\"Other\")"
   ]
  },
  {
   "cell_type": "code",
   "execution_count": null,
   "id": "8358cb76",
   "metadata": {},
   "outputs": [],
   "source": []
  },
  {
   "cell_type": "code",
   "execution_count": null,
   "id": "16c934d8",
   "metadata": {},
   "outputs": [],
   "source": [
    "prop_ = top_supported_df['Qte Aide'] / top_supported_df['Qte Aide'].sum()\n",
    "prop_other = other_supported_df['Qte Aide'] / other_supported_df['Qte Aide'].sum()"
   ]
  },
  {
   "cell_type": "code",
   "execution_count": null,
   "id": "beccfead",
   "metadata": {},
   "outputs": [],
   "source": [
    "prop_"
   ]
  },
  {
   "cell_type": "code",
   "execution_count": null,
   "id": "ddbe453d",
   "metadata": {},
   "outputs": [],
   "source": [
    "fig, axs = plt.subplots(1,2,figsize=(15,5))\n",
    "axs[0].pie(prop_, labels=top_supported_df.index, autopct = '%1.1f%%', normalize = True, shadow=True)\n",
    "axs[1].pie(prop_other, labels = other_supported_df.index, autopct = '%1.1f%%', normalize = True, shadow=True)\n",
    "plt.title(\"10 most supported countries in 2017\")"
   ]
  },
  {
   "cell_type": "code",
   "execution_count": null,
   "id": "f7a5861f",
   "metadata": {},
   "outputs": [],
   "source": [
    "# Etudier la quantité d'aide en t/hab sous alimenté pour évaluer le soutient reçu du pays bénéficiaire entre 2013 et 2016"
   ]
  },
  {
   "cell_type": "code",
   "execution_count": null,
   "id": "a4989d43",
   "metadata": {},
   "outputs": [],
   "source": [
    "# Qte d'aide moyenne reçue entre 2013 et 2016 \n",
    "mean_aide_alim = aide_alim_copy.groupby(by=['Pays bénéficiaire', 'Année']).sum().reset_index().groupby(by=['Pays bénéficiaire']).mean().drop(columns=['Année'])\n"
   ]
  },
  {
   "cell_type": "code",
   "execution_count": null,
   "id": "04256d0a",
   "metadata": {},
   "outputs": [],
   "source": [
    "mean_aide_alim"
   ]
  },
  {
   "cell_type": "code",
   "execution_count": null,
   "id": "2a135d51",
   "metadata": {},
   "outputs": [],
   "source": [
    "sous_alim_copy = sous_alim.copy()"
   ]
  },
  {
   "cell_type": "code",
   "execution_count": null,
   "id": "0f95fcef",
   "metadata": {},
   "outputs": [],
   "source": [
    "# Reformatter la colonne Année\n",
    "lambda x : int(x.split('-')[0]) + 1\n",
    "sous_alim_copy['Année'] = sous_alim_copy['Année'].apply(lambda x : int(x.split('-')[0]) + 1)"
   ]
  },
  {
   "cell_type": "code",
   "execution_count": null,
   "id": "280c364a",
   "metadata": {},
   "outputs": [],
   "source": [
    "sous_alim_2017 = sous_alim_copy[sous_alim_copy['Année'] == 2017].rename(columns={'Zone' : 'Pays bénéficiaire'})"
   ]
  },
  {
   "cell_type": "code",
   "execution_count": null,
   "id": "cca2a9fd",
   "metadata": {},
   "outputs": [],
   "source": [
    "ratio_aide_pays = sous_alim_2017.join(mean_aide_alim, 'Pays bénéficiaire')"
   ]
  },
  {
   "cell_type": "code",
   "execution_count": null,
   "id": "ac9f76f1",
   "metadata": {},
   "outputs": [],
   "source": [
    "# Nan : Qte d'aide manquante pour le pays concerné\n",
    "ratio_aide_pays"
   ]
  },
  {
   "cell_type": "code",
   "execution_count": null,
   "id": "8b2a0e98",
   "metadata": {},
   "outputs": [],
   "source": [
    "ratio_aide_pays.dropna(inplace=True)"
   ]
  },
  {
   "cell_type": "code",
   "execution_count": null,
   "id": "d15c0f0b",
   "metadata": {},
   "outputs": [],
   "source": [
    "ratio_aide_pays.rename(columns={'Valeur' : 'pop_sous_alim'}, inplace=True)"
   ]
  },
  {
   "cell_type": "code",
   "execution_count": null,
   "id": "e183a8b2",
   "metadata": {},
   "outputs": [],
   "source": [
    "ratio_aide_pays['Qte Aide (kg/hab)']  = round(((ratio_aide_pays['Qte Aide']) * 1000 / (ratio_aide_pays['pop_sous_alim'] * 1000000)), 4)"
   ]
  },
  {
   "cell_type": "code",
   "execution_count": null,
   "id": "ddbc9d2b",
   "metadata": {},
   "outputs": [],
   "source": [
    "ranking_ratio_aide_pays = ratio_aide_pays.sort_values('Qte Aide (kg/hab)', ascending = False)"
   ]
  },
  {
   "cell_type": "code",
   "execution_count": null,
   "id": "f4a0e2fe",
   "metadata": {},
   "outputs": [],
   "source": [
    "ranking_ratio_aide_pays"
   ]
  },
  {
   "cell_type": "markdown",
   "id": "1bd6f02d",
   "metadata": {},
   "source": [
    "## 3.3 Food Capacity "
   ]
  },
  {
   "cell_type": "code",
   "execution_count": null,
   "id": "9e6846d6",
   "metadata": {},
   "outputs": [],
   "source": [
    "# Etudier l'impact des aides sur la quantité disponible par habitant dans les pays les plus déficitaires.\n",
    "# Objectif : Prioriser les aides pour les pays les plus déficitaires "
   ]
  },
  {
   "cell_type": "code",
   "execution_count": null,
   "id": "645150f6",
   "metadata": {},
   "outputs": [],
   "source": [
    "# Les pays avec le plus de disponibilité par hab pour "
   ]
  },
  {
   "cell_type": "code",
   "execution_count": null,
   "id": "68beda42",
   "metadata": {},
   "outputs": [],
   "source": [
    "dispo_alim_copy = dispo_alim.copy()\n",
    "pop_pays_2017 = pop_pays_2017_initial.copy()"
   ]
  },
  {
   "cell_type": "code",
   "execution_count": null,
   "id": "d853ef04",
   "metadata": {},
   "outputs": [],
   "source": [
    "# Colonne flux et colonne utilisation\n",
    "\n",
    "dispo_alim_copy['Disponibilité intérieur calculée 1'] = dispo_alim['Importations - Quantité'] + dispo_alim['Production'] + dispo_alim['Exportations - Quantité']\n",
    "dispo_alim_copy['Disponibilité intérieur calculée 2'] = dispo_alim['Nourriture'] + dispo_alim['Autres Utilisations']  + dispo_alim['Exportations - Quantité'] + dispo_alim['Aliments pour animaux']"
   ]
  },
  {
   "cell_type": "code",
   "execution_count": null,
   "id": "8a479e16",
   "metadata": {},
   "outputs": [],
   "source": [
    "dispo_alim_copy['Disponibilité intérieur calculée 1']"
   ]
  },
  {
   "cell_type": "code",
   "execution_count": null,
   "id": "fa994468",
   "metadata": {},
   "outputs": [],
   "source": [
    "(dispo_alim_copy['Disponibilité intérieur calculée 1'] - dispo_alim_copy['Disponibilité intérieure']).hist()"
   ]
  },
  {
   "cell_type": "code",
   "execution_count": null,
   "id": "bad6f325",
   "metadata": {},
   "outputs": [],
   "source": [
    "(dispo_alim_copy['Disponibilité intérieur calculée 2'] - dispo_alim_copy['Disponibilité intérieure']).hist()"
   ]
  },
  {
   "cell_type": "code",
   "execution_count": null,
   "id": "0d432213",
   "metadata": {},
   "outputs": [],
   "source": [
    "dispo_alim_copy = dispo_alim_copy.groupby(by=['Zone']).sum()[['Disponibilité alimentaire (Kcal/personne/jour)']]\n",
    "pop_pays_2017_index = pop_pays_2017.set_index('Zone')"
   ]
  },
  {
   "cell_type": "code",
   "execution_count": null,
   "id": "149538a0",
   "metadata": {},
   "outputs": [],
   "source": [
    "dispo_alim_copy"
   ]
  },
  {
   "cell_type": "code",
   "execution_count": null,
   "id": "c0dd1222",
   "metadata": {},
   "outputs": [],
   "source": [
    "pop_pays_2017.set_index('Zone')"
   ]
  },
  {
   "cell_type": "code",
   "execution_count": null,
   "id": "37b41e8e",
   "metadata": {},
   "outputs": [],
   "source": [
    "dispo_alim_copy.loc['France']"
   ]
  },
  {
   "cell_type": "code",
   "execution_count": null,
   "id": "478c2953",
   "metadata": {},
   "outputs": [],
   "source": [
    "dispo_int_pop = pd.concat([dispo_alim_copy, pop_pays_2017_index], axis = 1)"
   ]
  },
  {
   "cell_type": "code",
   "execution_count": null,
   "id": "c657f964",
   "metadata": {},
   "outputs": [],
   "source": [
    "dispo_int_pop.loc['France']"
   ]
  },
  {
   "cell_type": "code",
   "execution_count": null,
   "id": "b09ae0a4",
   "metadata": {},
   "outputs": [],
   "source": [
    "dispo_int_pop['Dispo / hab'] = dispo_int_pop['Disponibilité alimentaire (Kcal/personne/jour)']"
   ]
  },
  {
   "cell_type": "code",
   "execution_count": null,
   "id": "87e90410",
   "metadata": {},
   "outputs": [],
   "source": [
    "dispo_int_pop.reset_index(inplace=True)"
   ]
  },
  {
   "cell_type": "code",
   "execution_count": null,
   "id": "09d52cbc",
   "metadata": {},
   "outputs": [],
   "source": [
    "dispo_int_pop.sort_values('Disponibilité alimentaire (Kcal/personne/jour)', ascending = True)"
   ]
  },
  {
   "cell_type": "code",
   "execution_count": null,
   "id": "e042952d",
   "metadata": {},
   "outputs": [],
   "source": [
    "pays_riche_alim = dispo_int_pop.sort_values('Dispo / hab',ascending = False).head(15)\n",
    "pays_pauvre_alim = dispo_int_pop.sort_values('Dispo / hab',ascending = True).head(15)"
   ]
  },
  {
   "cell_type": "code",
   "execution_count": null,
   "id": "9f3016f2",
   "metadata": {},
   "outputs": [],
   "source": [
    "pays_riche_alim"
   ]
  },
  {
   "cell_type": "code",
   "execution_count": null,
   "id": "79bbbeda",
   "metadata": {},
   "outputs": [],
   "source": [
    "pays_pauvre_alim\n"
   ]
  },
  {
   "cell_type": "code",
   "execution_count": null,
   "id": "52d120ad",
   "metadata": {},
   "outputs": [],
   "source": [
    "# Quantité nécessaire en nutriment pour une alimentation équilibrée et un apport de 2500Kcal\n",
    "# 15 % proteine --> 375 Kcal / 4\n",
    "# 40 % lipide --> 1000 Kcal / 9 \n",
    "# 45 % glucide --> 1125 Kcal / 4"
   ]
  },
  {
   "cell_type": "code",
   "execution_count": null,
   "id": "66ffb555",
   "metadata": {},
   "outputs": [],
   "source": [
    "apport_kg = sum([375/4 , 1000/9, 1125/4])"
   ]
  },
  {
   "cell_type": "code",
   "execution_count": null,
   "id": "e563ad44",
   "metadata": {},
   "outputs": [],
   "source": [
    "apport_kg"
   ]
  },
  {
   "cell_type": "code",
   "execution_count": null,
   "id": "04e8e485",
   "metadata": {},
   "outputs": [],
   "source": [
    "def func_kcal(pct):\n",
    "    absolute = int(np.round(pct/100. * 2500))\n",
    "    return \"{:.1f}%\\n({:d} Kcal)\".format(pct, absolute)"
   ]
  },
  {
   "cell_type": "code",
   "execution_count": null,
   "id": "421e7655",
   "metadata": {},
   "outputs": [],
   "source": [
    "def func_g(pct):\n",
    "    absolute = int(np.round(pct/100. * apport_kg))\n",
    "    return \"{:.1f}%\\n({:d} g)\".format(pct, absolute)"
   ]
  },
  {
   "cell_type": "code",
   "execution_count": null,
   "id": "08ce7d9e",
   "metadata": {},
   "outputs": [],
   "source": [
    "fig, axs = plt.subplots(1,2,figsize=(10,8))\n",
    "axs[0].pie(x=[0.15, 0.40, 0.45], labels = ['proteins', 'lipids', 'glucids'], shadow = True, autopct = lambda pct : func_kcal(pct))\n",
    "axs[1].pie(x=[0.15, 0.40, 0.45], labels = ['proteins', 'lipids', 'glucids'], shadow = True, autopct = lambda pct : func_g(pct))\n",
    "fig.suptitle(\"nutriment-adult's proportion recommanded\")"
   ]
  },
  {
   "cell_type": "code",
   "execution_count": null,
   "id": "423b1fd8",
   "metadata": {},
   "outputs": [],
   "source": [
    "#Portion alimentaire est d'1kg par jour et par personne\n",
    "seuil_thoerique_an = 356"
   ]
  },
  {
   "cell_type": "code",
   "execution_count": null,
   "id": "8a22c3d9",
   "metadata": {},
   "outputs": [],
   "source": [
    "dispo_alim_copy = dispo_alim.copy()\n",
    "dispo_alim_pays = pd.DataFrame(dispo_alim_copy.groupby(by='Zone').sum()['Nourriture'])\n",
    "pop_pays_2017.set_index('Zone', inplace=True)\n",
    "couver_alimentaire_pays = pd.concat([dispo_alim_pays, pop_pays_2017], axis = 1)"
   ]
  },
  {
   "cell_type": "code",
   "execution_count": null,
   "id": "47173fd0",
   "metadata": {},
   "outputs": [],
   "source": [
    "couver_alimentaire_pays['couverture alimentaire (kg / hab)'] = (couver_alimentaire_pays['Nourriture']*1000) / (couver_alimentaire_pays['Valeur'] *365)"
   ]
  },
  {
   "cell_type": "code",
   "execution_count": null,
   "id": "4b7ae437",
   "metadata": {},
   "outputs": [],
   "source": [
    "couver_alimentaire_pays.dropna(inplace=True)"
   ]
  },
  {
   "cell_type": "code",
   "execution_count": null,
   "id": "4bff67fa",
   "metadata": {},
   "outputs": [],
   "source": [
    "couver_alimentaire_pays.loc['Mali']"
   ]
  },
  {
   "cell_type": "code",
   "execution_count": null,
   "id": "935fdb5a",
   "metadata": {},
   "outputs": [],
   "source": [
    "couver_alimentaire_pays.sort_values('couverture alimentaire (kg / hab)', ascending = False)"
   ]
  },
  {
   "cell_type": "code",
   "execution_count": null,
   "id": "2b52d712",
   "metadata": {},
   "outputs": [],
   "source": [
    "couver_alimentaire_pays.reset_index(inplace = True)"
   ]
  },
  {
   "cell_type": "code",
   "execution_count": null,
   "id": "1aa80a6b",
   "metadata": {},
   "outputs": [],
   "source": [
    "nb_pays_sup_seuil = pd.DataFrame((couver_alimentaire_pays['couverture alimentaire (kg / hab)'] > 1.)).describe().loc['freq']\n",
    "nb_total_pays = len(couver_alimentaire_pays)\n",
    "nb_pays_inf_seuil =  nb_total_pays - nb_pays_sup_seuil\n",
    "x = list(nb_pays_sup_seuil/nb_total_pays) + list(nb_pays_inf_seuil/nb_total_pays)"
   ]
  },
  {
   "cell_type": "code",
   "execution_count": null,
   "id": "8bb77f38",
   "metadata": {},
   "outputs": [],
   "source": [
    "serie_categorise = pd.cut(couver_alimentaire_pays['couverture alimentaire (kg / hab)'], bins = [0,1,1.5,2,3,10], labels = ['very poor', 'poor', 'sufficient', 'rich','very rich'])\n",
    "\n",
    "couver_alimentaire_pays.groupby(serie_categorise)['Zone'].count() / couver_alimentaire_pays.groupby(serie_categorise)['Zone'].count().sum()\n",
    "prop_rich_alim_pays = couver_alimentaire_pays.groupby(serie_categorise)['Zone'].count() / couver_alimentaire_pays.groupby(serie_categorise)['Zone'].count().sum()\n"
   ]
  },
  {
   "cell_type": "code",
   "execution_count": null,
   "id": "d7879485",
   "metadata": {},
   "outputs": [],
   "source": [
    "fig, axe = plt.subplots(1,2, figsize=(10,6))\n",
    "axe[0].pie(x, labels=['food surplus', 'food deficit'], shadow=True, explode=[0,0.1], autopct = '%1.1f%%')\n",
    "axe[0].set_title(\"Food deficit / food surplus countries's proportion\")\n",
    "axe[1].pie(prop_rich_alim_pays, labels =['very poor', 'poor', 'sufficient', 'rich','very rich'], autopct = '%1.1f%%')"
   ]
  },
  {
   "cell_type": "code",
   "execution_count": null,
   "id": "3f63ebdd",
   "metadata": {},
   "outputs": [],
   "source": []
  }
 ],
 "metadata": {
  "kernelspec": {
   "display_name": "Python 3",
   "language": "python",
   "name": "python3"
  },
  "language_info": {
   "codemirror_mode": {
    "name": "ipython",
    "version": 3
   },
   "file_extension": ".py",
   "mimetype": "text/x-python",
   "name": "python",
   "nbconvert_exporter": "python",
   "pygments_lexer": "ipython3",
   "version": "3.8.8"
  }
 },
 "nbformat": 4,
 "nbformat_minor": 5
}
