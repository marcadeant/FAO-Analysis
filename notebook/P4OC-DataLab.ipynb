{
 "cells": [
  {
   "cell_type": "markdown",
   "id": "a68beb9e",
   "metadata": {},
   "source": [
    "# Unfooded Country Analysis from FAO R&D's department  \n",
    "\n",
    "## 1. Data preprocessing\n",
    "\n",
    "    1.1 Loading natives data with Pandas\n",
    "        1.1.1 Food resources availibility's by countries by product\n",
    "        1.1.2 Amout of food resources given to countries in food deficit\n",
    "        1.1.3 Food insecurity describes by the number of undernurished people\n",
    "        1.1.4 Population by countries\n",
    "    1.2 Have a quick look to our data distributions\n",
    "    1.3 How to deal with missing values\n",
    "\n",
    "## 2. Compute data for answering to Marc's requests\n",
    "\n",
    "    2.1 Unnourished people proportion in 2017\n",
    "    2.2 Number of people which can be fooded with global food stock\n",
    "    2.3 Number of people which can be fooded with vegetables\n",
    "    2.4 The use of global food stock across each countries\n",
    "\n",
    "\n",
    "## 3. Compute data for answering to Mélanie's requests\n",
    "\n",
    "    3.1 Solution for request 1\n",
    "    3.2 Solution for request 2\n",
    "    3.3 Solution for request 3"
   ]
  },
  {
   "cell_type": "markdown",
   "id": "2ef6751e",
   "metadata": {},
   "source": [
    "# 1. Data preprocessing\n",
    "## 1.1 Loading natives data into Python"
   ]
  },
  {
   "cell_type": "code",
   "execution_count": null,
   "id": "181f0f0a",
   "metadata": {},
   "outputs": [],
   "source": [
    "import pandas as pd\n",
    "import numpy as np\n",
    "import matplotlib.pyplot as plt"
   ]
  },
  {
   "cell_type": "markdown",
   "id": "9a4a2f07",
   "metadata": {},
   "source": [
    "### 1.1.1 Availibility of food resources by countries by type of product"
   ]
  },
  {
   "cell_type": "code",
   "execution_count": null,
   "id": "93983fa3",
   "metadata": {},
   "outputs": [],
   "source": [
    "dispo_alim = pd.read_csv('P4OC - FAO/dispo_alimentaire.csv', header=0, sep=\",\")"
   ]
  },
  {
   "cell_type": "code",
   "execution_count": null,
   "id": "c072a366",
   "metadata": {},
   "outputs": [],
   "source": [
    "dispo_alim"
   ]
  },
  {
   "cell_type": "code",
   "execution_count": null,
   "id": "cf908bae",
   "metadata": {},
   "outputs": [],
   "source": [
    "dispo_alim.isna().describe()"
   ]
  },
  {
   "cell_type": "code",
   "execution_count": null,
   "id": "f94172e0",
   "metadata": {},
   "outputs": [],
   "source": [
    "dispo_alim_animaux = dispo_alim[dispo_alim['Aliments pour animaux'].isna() == False]"
   ]
  },
  {
   "cell_type": "code",
   "execution_count": null,
   "id": "1d237e84",
   "metadata": {},
   "outputs": [],
   "source": [
    "dispo_alim_copy = dispo_alim.copy()"
   ]
  },
  {
   "cell_type": "code",
   "execution_count": null,
   "id": "db54c0a9",
   "metadata": {},
   "outputs": [],
   "source": [
    "dispo_alim_copy = dispo_alim_copy.replace(np.nan, 0)"
   ]
  },
  {
   "cell_type": "code",
   "execution_count": null,
   "id": "657759e0",
   "metadata": {},
   "outputs": [],
   "source": [
    "dispo_alim_copy[dispo_alim_copy['Produit'] == 'Abats Comestible']"
   ]
  },
  {
   "cell_type": "code",
   "execution_count": null,
   "id": "005023b8",
   "metadata": {},
   "outputs": [],
   "source": [
    "dispo_alim_copy[dispo_alim_copy['Produit'] == 'Abats Comestible']['Disponibilité alimentaire (Kcal/personne/jour)'].plot.hist()\n",
    "plt.show()"
   ]
  },
  {
   "cell_type": "markdown",
   "id": "1a6b71c9",
   "metadata": {},
   "source": [
    "### 1.1.2 Food resources given to countries in food deficit"
   ]
  },
  {
   "cell_type": "code",
   "execution_count": null,
   "id": "ca8079d5",
   "metadata": {},
   "outputs": [],
   "source": [
    "aide_alim = pd.read_csv('P4OC - FAO/aide_alimentaire.csv', header=0, sep=',')"
   ]
  },
  {
   "cell_type": "code",
   "execution_count": null,
   "id": "8a249b96",
   "metadata": {},
   "outputs": [],
   "source": [
    "aide_alim.head(10)"
   ]
  },
  {
   "cell_type": "code",
   "execution_count": null,
   "id": "1a761aec",
   "metadata": {},
   "outputs": [],
   "source": [
    "aide_alim.sort_values(['Pays bénéficiaire','Année'], ascending=True)"
   ]
  },
  {
   "cell_type": "markdown",
   "id": "e772b357",
   "metadata": {},
   "source": [
    "### 1.2.3 Food insecurity describe by the number of undernurished people"
   ]
  },
  {
   "cell_type": "code",
   "execution_count": null,
   "id": "b37b5b10",
   "metadata": {},
   "outputs": [],
   "source": [
    "col_types = {'Zone' : str, 'Année' : str, 'Valeur' : int}\n",
    "sous_alim = pd.read_csv('P4OC - FAO/sous_nutrition.csv', header=0, sep=',')"
   ]
  },
  {
   "cell_type": "code",
   "execution_count": null,
   "id": "66c56087",
   "metadata": {},
   "outputs": [],
   "source": [
    "sous_alim['Valeur'].isna().describe()"
   ]
  },
  {
   "cell_type": "code",
   "execution_count": null,
   "id": "9f2f8fd8",
   "metadata": {},
   "outputs": [],
   "source": [
    "sous_alim.head(5)"
   ]
  },
  {
   "cell_type": "code",
   "execution_count": null,
   "id": "366002d1",
   "metadata": {},
   "outputs": [],
   "source": [
    "sous_alim['Valeur'].isna()"
   ]
  },
  {
   "cell_type": "code",
   "execution_count": null,
   "id": "69852786",
   "metadata": {},
   "outputs": [],
   "source": [
    "# Suppression des lignes avec des valeurs manquantes\n",
    "sous_alim[sous_alim['Valeur'].isna()==False]"
   ]
  },
  {
   "cell_type": "markdown",
   "id": "0e99544b",
   "metadata": {},
   "source": [
    "### 1.2.4 Population by countries"
   ]
  },
  {
   "cell_type": "code",
   "execution_count": null,
   "id": "a15c2f94",
   "metadata": {},
   "outputs": [],
   "source": [
    "pop_pays = pd.read_csv('P4OC - FAO/population.csv', header=0, sep=',')"
   ]
  },
  {
   "cell_type": "code",
   "execution_count": null,
   "id": "dcab9f71",
   "metadata": {},
   "outputs": [],
   "source": [
    "pop_pays.head(5)"
   ]
  },
  {
   "cell_type": "code",
   "execution_count": null,
   "id": "667a1d26",
   "metadata": {},
   "outputs": [],
   "source": [
    "pop_pays[pop_pays['Année'] == 2017].set_index('Zone').head(5).plot.bar(y='Valeur')"
   ]
  },
  {
   "cell_type": "code",
   "execution_count": null,
   "id": "c502ba92",
   "metadata": {},
   "outputs": [],
   "source": [
    "pop_pays.isna().describe()"
   ]
  },
  {
   "cell_type": "markdown",
   "id": "15934b46",
   "metadata": {},
   "source": [
    "## 1.3 How to deal with missing values"
   ]
  },
  {
   "cell_type": "markdown",
   "id": "21c1c4cf",
   "metadata": {},
   "source": [
    "### 1.3.1 Food Unsecurity's data set"
   ]
  },
  {
   "cell_type": "code",
   "execution_count": null,
   "id": "68ff6e87",
   "metadata": {},
   "outputs": [],
   "source": [
    "# Le nombre totale de personne en sous nutrition \n",
    "col_types = {'Zone' : str, 'Année' : str, 'Valeur' : np.float64}\n",
    "sous_alim.dtypes"
   ]
  },
  {
   "cell_type": "code",
   "execution_count": null,
   "id": "c206d607",
   "metadata": {},
   "outputs": [],
   "source": [
    "sous_alim[sous_alim['Valeur'] == '<0.1']['Valeur']"
   ]
  },
  {
   "cell_type": "code",
   "execution_count": null,
   "id": "662f6b34",
   "metadata": {},
   "outputs": [],
   "source": [
    "# convert string into float\n",
    "def convert_string_to_float(value):\n",
    "    \n",
    "    if value == '<0.1':\n",
    "        return 0.1\n",
    "    else :\n",
    "        return np.float64(value)\n",
    "    "
   ]
  },
  {
   "cell_type": "code",
   "execution_count": null,
   "id": "7855bf89",
   "metadata": {},
   "outputs": [],
   "source": [
    "sous_alim_copy = sous_alim.copy()"
   ]
  },
  {
   "cell_type": "code",
   "execution_count": null,
   "id": "3b5a0548",
   "metadata": {},
   "outputs": [],
   "source": [
    "# proportion d'occurence '<0.1' dans Valeur \n",
    "sous_alim['Valeur'][sous_alim['Valeur'] == '<0.1'].count() / sous_alim['Valeur'].count()"
   ]
  },
  {
   "cell_type": "code",
   "execution_count": null,
   "id": "583a6b90",
   "metadata": {},
   "outputs": [],
   "source": [
    "# replace nan value and convert string\n",
    "sous_alim_copy['Valeur'] = sous_alim_copy['Valeur'].apply(convert_string_to_float).replace(np.nan, 0)"
   ]
  },
  {
   "cell_type": "markdown",
   "id": "0cfebd72",
   "metadata": {},
   "source": [
    "## 2.1 Unnourished people proportion in 2017"
   ]
  },
  {
   "cell_type": "code",
   "execution_count": null,
   "id": "036605e9",
   "metadata": {},
   "outputs": [],
   "source": [
    "# La population mondiale en 2017\n",
    "tot_pop = pop_pays['Valeur'][pop_pays['Année'] == 2017].sum()"
   ]
  },
  {
   "cell_type": "code",
   "execution_count": null,
   "id": "1f994317",
   "metadata": {},
   "outputs": [],
   "source": [
    "# Population total en sous nutrition\n",
    "tot_pop_sous_alim = sous_alim_copy['Valeur'][sous_alim_copy['Année'] == '2016-2018'].sum()*1000"
   ]
  },
  {
   "cell_type": "code",
   "execution_count": null,
   "id": "15d6e5f9",
   "metadata": {},
   "outputs": [],
   "source": [
    "tot_pop_sous_alim"
   ]
  },
  {
   "cell_type": "code",
   "execution_count": null,
   "id": "22547da6",
   "metadata": {},
   "outputs": [],
   "source": [
    "prop_sous_alim = tot_pop_sous_alim / tot_pop"
   ]
  },
  {
   "cell_type": "code",
   "execution_count": null,
   "id": "07d88e70",
   "metadata": {},
   "outputs": [],
   "source": [
    "prop_sous_alim"
   ]
  },
  {
   "cell_type": "code",
   "execution_count": null,
   "id": "43ffa5db",
   "metadata": {},
   "outputs": [],
   "source": [
    "size_prop_sous = [prop_sous_alim, 1-prop_sous_alim]"
   ]
  },
  {
   "cell_type": "code",
   "execution_count": null,
   "id": "46b3f95b",
   "metadata": {},
   "outputs": [],
   "source": [
    "ranking_sous_alim_pays = sous_alim_copy[sous_alim_copy['Année'] == '2016-2018'][['Zone','Valeur']].sort_values(by='Valeur',ascending=False).head(10)"
   ]
  },
  {
   "cell_type": "code",
   "execution_count": null,
   "id": "911d186d",
   "metadata": {},
   "outputs": [],
   "source": [
    "plt.pie(size_prop_sous, labels=['Pop sous alimentée', 'Pop en suffisance alimentaire'], explode = (0.2,0), autopct='%1.1f%%', shadow = True)\n",
    "plt.legend(loc='upper right')\n",
    "plt.show()"
   ]
  },
  {
   "cell_type": "code",
   "execution_count": null,
   "id": "dd324319",
   "metadata": {},
   "outputs": [],
   "source": [
    "sous_alim_pop_total = sous_alim_copy[sous_alim_copy['Année'] == '2016-2018']['Valeur'].sum()\n",
    "size = list(ranking_sous_alim_pays.Valeur/sous_alim_pop_total)\n",
    "autre_country = 1 - sum(size)"
   ]
  },
  {
   "cell_type": "code",
   "execution_count": null,
   "id": "f48d153b",
   "metadata": {},
   "outputs": [],
   "source": [
    "labels = list(ranking_sous_alim_pays.Zone)\n",
    "size.insert(0,autre_country)\n",
    "labels.insert(0,'autres')"
   ]
  },
  {
   "cell_type": "code",
   "execution_count": null,
   "id": "7ac7bfc9",
   "metadata": {},
   "outputs": [],
   "source": [
    "fig1, ax1  = plt.subplots(figsize=(5,6), subplot_kw=dict(aspect=\"equal\"))\n",
    "ax1.pie(size, labels=labels, autopct='%1.1f%%',\n",
    "       shadow = True, textprops=dict(color=\"w\", weight=\"bold\"))\n",
    "ax1.set_title(\"10 most unnourished countries in the world\")\n",
    "ax1.legend(labels,\n",
    "        loc='center left',        \n",
    "        bbox_to_anchor=(1, 0, 0.5, 1))\n",
    "plt.show()\n"
   ]
  },
  {
   "cell_type": "code",
   "execution_count": null,
   "id": "5346ea94",
   "metadata": {},
   "outputs": [],
   "source": [
    "del size, labels"
   ]
  },
  {
   "cell_type": "code",
   "execution_count": null,
   "id": "a1c3814a",
   "metadata": {},
   "outputs": [],
   "source": [
    "def func(pct, allvals):\n",
    "    absolute = int(np.round(pct/100.*np.sum(allvals)))\n",
    "    return \"{:.1f}%\\n({:d} g)\".format(pct, absolute)"
   ]
  },
  {
   "cell_type": "markdown",
   "id": "a8042d72",
   "metadata": {},
   "source": [
    "## 2.2 Volume of people which can be fooded with global food stock"
   ]
  },
  {
   "cell_type": "code",
   "execution_count": null,
   "id": "2170fce1",
   "metadata": {},
   "outputs": [],
   "source": [
    "dispo_alim_copy = dispo_alim.copy()"
   ]
  },
  {
   "cell_type": "code",
   "execution_count": null,
   "id": "2bbad096",
   "metadata": {},
   "outputs": [],
   "source": [
    "dispo_alim.describe()"
   ]
  },
  {
   "cell_type": "code",
   "execution_count": null,
   "id": "50a1e515",
   "metadata": {},
   "outputs": [],
   "source": [
    "dispo_alim_copy['Disponibilité intérieure'] = dispo_alim_copy['Disponibilité intérieure'].replace(np.nan, 0)"
   ]
  },
  {
   "cell_type": "code",
   "execution_count": null,
   "id": "cba7dedc",
   "metadata": {},
   "outputs": [],
   "source": [
    "volume_dispo_global = dispo_alim_copy['Disponibilité alimentaire (Kcal/personne/jour)'].sum()"
   ]
  },
  {
   "cell_type": "code",
   "execution_count": null,
   "id": "7a07f6ba",
   "metadata": {
    "scrolled": true
   },
   "outputs": [],
   "source": [
    "dispo_alim_total_pays = dispo_alim_copy[['Zone', 'Disponibilité alimentaire (Kcal/personne/jour)']].groupby('Zone').sum().reset_index()"
   ]
  },
  {
   "cell_type": "code",
   "execution_count": null,
   "id": "0fef085b",
   "metadata": {},
   "outputs": [],
   "source": [
    "pop_pays_2017"
   ]
  },
  {
   "cell_type": "code",
   "execution_count": null,
   "id": "12c9d738",
   "metadata": {},
   "outputs": [],
   "source": [
    "pop_pays_2017 = pop_pays[pop_pays['Année'] == 2017][['Zone','Valeur']]"
   ]
  },
  {
   "cell_type": "code",
   "execution_count": null,
   "id": "20a3617f",
   "metadata": {},
   "outputs": [],
   "source": [
    "capacite_alim_pays = dispo_alim_total_pays.join(pop_pays_2017.set_index('Zone'), 'Zone').rename({'Disponibilité alimentaire (Kcal/personne/jour)' : 'Disponibilité alimentaire totale (Kcal/personne/jour)'})"
   ]
  },
  {
   "cell_type": "code",
   "execution_count": null,
   "id": "d5dfd9b9",
   "metadata": {},
   "outputs": [],
   "source": [
    "capacite_alim_pays['Disponibilité alimentaire totale'] = capacite_alim_pays['Disponibilité alimentaire (Kcal/personne/jour)'] * capacite_alim_pays['Valeur'] * 1000"
   ]
  },
  {
   "cell_type": "code",
   "execution_count": null,
   "id": "45d3e375",
   "metadata": {},
   "outputs": [],
   "source": [
    "# Disponibilité alimentaire mondiale en Kcal\n",
    "dispo_alim_total = capacite_alim_pays['Disponibilité alimentaire totale'].sum()\n",
    "# Apport journalier d'une personne adulte estimé à 2500 Kcal\n",
    "nb_theorique_pers = dispo_alim_total / 2500"
   ]
  },
  {
   "cell_type": "code",
   "execution_count": null,
   "id": "132a9768",
   "metadata": {},
   "outputs": [],
   "source": [
    "nb_theorique_pers"
   ]
  },
  {
   "cell_type": "markdown",
   "id": "5b5f847c",
   "metadata": {},
   "source": [
    "## 2.3 Number of people which can be fooded with vegetables"
   ]
  },
  {
   "cell_type": "code",
   "execution_count": null,
   "id": "424b4c90",
   "metadata": {},
   "outputs": [],
   "source": [
    "dispo_alim_total_pays_vege = dispo_alim[dispo_alim['Origine'] == 'vegetale'][['Zone','Disponibilité alimentaire (Kcal/personne/jour)']].groupby('Zone').sum().reset_index()"
   ]
  },
  {
   "cell_type": "code",
   "execution_count": null,
   "id": "51c14194",
   "metadata": {},
   "outputs": [],
   "source": [
    "capacite_alim_pays_vege = dispo_alim_total_pays_vege.join(pop_pays_2017.set_index('Zone'), 'Zone')"
   ]
  },
  {
   "cell_type": "code",
   "execution_count": null,
   "id": "17b372a3",
   "metadata": {},
   "outputs": [],
   "source": [
    "capacite_alim_pays_vege"
   ]
  },
  {
   "cell_type": "code",
   "execution_count": null,
   "id": "7442d4b5",
   "metadata": {},
   "outputs": [],
   "source": [
    "capacite_alim_pays_vege['Disponibilité Alimentaire totale'] = capacite_alim_pays_vege['Disponibilité alimentaire (Kcal/personne/jour)'] * capacite_alim_pays_vege['Valeur'] * 1000\n",
    "dispo_total_alim_vege = capacite_alim_pays_vege['Disponibilité Alimentaire totale'].sum()\n",
    "nb_theorique_pers_vege = dispo_total_alim_vege / 2500"
   ]
  },
  {
   "cell_type": "code",
   "execution_count": null,
   "id": "ba7e3d8c",
   "metadata": {},
   "outputs": [],
   "source": [
    "nb_theorique_pers_vege"
   ]
  },
  {
   "cell_type": "code",
   "execution_count": null,
   "id": "24459d20",
   "metadata": {},
   "outputs": [],
   "source": [
    "# écrire une fonction pour scaler le résultat produit végétale et produit animale\n",
    "\n",
    "def get_theorical_number(dispo_alim : pd.DataFrame, pop_pays : pd.DataFrame, origine='all') -> float :\n",
    "        \n",
    "        if origine != 'all':\n",
    "            dispo_alim_pays = dispo_alim[dispo_alim['Origine'] == origine][['Zone', 'Disponibilité alimentaire (Kcal/personne/jour)']].groupby('Zone').sum()\n",
    "        else :\n",
    "            dispo_alim_pays = dispo_alim[['Zone', 'Disponibilité alimentaire (Kcal/personne/jour)']].groupby('Zone').sum()\n",
    "        capacite_alim_pays = pop_pays.join(dispo_alim_pays, 'Zone')\n",
    "        capacite_alim_pays['Disponibilité alimentaire totale'] = capacite_alim_pays['Disponibilité alimentaire (Kcal/personne/jour)'] * capacite_alim_pays['Valeur'] * 1000\n",
    "        dispo_totale_alim = capacite_alim_pays['Disponibilité alimentaire totale'].sum()\n",
    "        theorical_number = dispo_totale_alim / 2500\n",
    "        return theorical_number"
   ]
  },
  {
   "cell_type": "code",
   "execution_count": null,
   "id": "7d335014",
   "metadata": {},
   "outputs": [],
   "source": [
    "get_theorical_number(dispo_alim, pop_pays_2017)"
   ]
  },
  {
   "cell_type": "markdown",
   "id": "23241ac1",
   "metadata": {},
   "source": [
    "## 2.4 The use of the world food stock "
   ]
  },
  {
   "cell_type": "code",
   "execution_count": null,
   "id": "c11880b8",
   "metadata": {},
   "outputs": [],
   "source": [
    "disp_int = aliment_animaux + autre_utilisation + alim_humaine + export - perte"
   ]
  },
  {
   "cell_type": "code",
   "execution_count": null,
   "id": "b3c945be",
   "metadata": {},
   "outputs": [],
   "source": [
    "dispo_alim_copy[['Aliments pour animaux', 'Autres Utilisations', 'Exportations - Quantité','Nourriture', 'Pertes']].sum()"
   ]
  },
  {
   "cell_type": "code",
   "execution_count": null,
   "id": "b9ad6ea8",
   "metadata": {},
   "outputs": [],
   "source": [
    "\n",
    "dispo_alim_copy['Disponibilité intérieure'].sum()"
   ]
  },
  {
   "cell_type": "code",
   "execution_count": null,
   "id": "4a875742",
   "metadata": {},
   "outputs": [],
   "source": [
    "sum(dispo_alim_copy[['Aliments pour animaux', 'Autres Utilisations', 'Exportations - Quantité','Nourriture', 'Pertes']].sum())"
   ]
  },
  {
   "cell_type": "code",
   "execution_count": null,
   "id": "e82ec462",
   "metadata": {},
   "outputs": [],
   "source": [
    "aide_alim['Valeur'].sum()"
   ]
  },
  {
   "cell_type": "code",
   "execution_count": null,
   "id": "10657756",
   "metadata": {},
   "outputs": [],
   "source": [
    "\n",
    "8851382.0 - 453698.0"
   ]
  },
  {
   "cell_type": "code",
   "execution_count": null,
   "id": "5ec65b09",
   "metadata": {},
   "outputs": [],
   "source": []
  }
 ],
 "metadata": {
  "kernelspec": {
   "display_name": "Python 3",
   "language": "python",
   "name": "python3"
  },
  "language_info": {
   "codemirror_mode": {
    "name": "ipython",
    "version": 3
   },
   "file_extension": ".py",
   "mimetype": "text/x-python",
   "name": "python",
   "nbconvert_exporter": "python",
   "pygments_lexer": "ipython3",
   "version": "3.8.8"
  }
 },
 "nbformat": 4,
 "nbformat_minor": 5
}
