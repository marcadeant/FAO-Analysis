{
 "cells": [
  {
   "cell_type": "markdown",
   "id": "a68beb9e",
   "metadata": {},
   "source": [
    "# Unfooded Country Analysis from FAO R&D's department  \n",
    "\n",
    "## 1. Data preprocessing\n",
    "\n",
    "    1.1 Loading natives data with Pandas\n",
    "        1.1.1 Food resources availibility's by countries by product\n",
    "        1.1.2 Amout of food resources given to countries in food deficit\n",
    "        1.1.3 Food insecurity describes by the number of undernurished people\n",
    "        1.1.4 Population by countries\n",
    "    1.2 Have a quick look to our data distributions\n",
    "    1.3 How to deal with missing values\n",
    "\n",
    "## 2. Compute data for answering to Marc's requests\n",
    "\n",
    "    2.1 Unnourished people proportion in 2017\n",
    "    2.2 Number of people which can be fooded with global food stock\n",
    "    2.3 Number of people which can be fooded with vegetables\n",
    "    2.4 The use of global food stock across each countries\n",
    "\n",
    "\n",
    "## 3. Compute data for answering to Mélanie's requests\n",
    "\n",
    "    3.1 Solution for request 1\n",
    "    3.2 Solution for request 2\n",
    "    3.3 Solution for request 3"
   ]
  },
  {
   "cell_type": "markdown",
   "id": "2ef6751e",
   "metadata": {},
   "source": [
    "# 1. Data preprocessing\n",
    "## 1.1 Loading natives data into Python"
   ]
  },
  {
   "cell_type": "code",
   "execution_count": 1,
   "id": "181f0f0a",
   "metadata": {},
   "outputs": [],
   "source": [
    "import pandas as pd\n",
    "import numpy as np\n",
    "import matplotlib.pyplot as plt"
   ]
  },
  {
   "cell_type": "code",
   "execution_count": 2,
   "id": "2b0e6683",
   "metadata": {},
   "outputs": [
    {
     "name": "stdout",
     "output_type": "stream",
     "text": [
      "C:\\Users\\antoi\\FAO-Analysis\\notebook\n"
     ]
    }
   ],
   "source": [
    "import os\n",
    "print(os.getcwd())"
   ]
  },
  {
   "cell_type": "markdown",
   "id": "9a4a2f07",
   "metadata": {},
   "source": [
    "### 1.1.1 Availibility of food resources by countries by type of product"
   ]
  },
  {
   "cell_type": "code",
   "execution_count": 3,
   "id": "93983fa3",
   "metadata": {},
   "outputs": [],
   "source": [
    "dispo_alim = pd.read_csv(\"../dispo_alimentaire.csv\", header=0, sep=\",\")"
   ]
  },
  {
   "cell_type": "code",
   "execution_count": 4,
   "id": "c072a366",
   "metadata": {},
   "outputs": [
    {
     "data": {
      "text/html": [
       "<div>\n",
       "<style scoped>\n",
       "    .dataframe tbody tr th:only-of-type {\n",
       "        vertical-align: middle;\n",
       "    }\n",
       "\n",
       "    .dataframe tbody tr th {\n",
       "        vertical-align: top;\n",
       "    }\n",
       "\n",
       "    .dataframe thead th {\n",
       "        text-align: right;\n",
       "    }\n",
       "</style>\n",
       "<table border=\"1\" class=\"dataframe\">\n",
       "  <thead>\n",
       "    <tr style=\"text-align: right;\">\n",
       "      <th></th>\n",
       "      <th>Zone</th>\n",
       "      <th>Produit</th>\n",
       "      <th>Origine</th>\n",
       "      <th>Aliments pour animaux</th>\n",
       "      <th>Autres Utilisations</th>\n",
       "      <th>Disponibilité alimentaire (Kcal/personne/jour)</th>\n",
       "      <th>Disponibilité alimentaire en quantité (kg/personne/an)</th>\n",
       "      <th>Disponibilité de matière grasse en quantité (g/personne/jour)</th>\n",
       "      <th>Disponibilité de protéines en quantité (g/personne/jour)</th>\n",
       "      <th>Disponibilité intérieure</th>\n",
       "      <th>Exportations - Quantité</th>\n",
       "      <th>Importations - Quantité</th>\n",
       "      <th>Nourriture</th>\n",
       "      <th>Pertes</th>\n",
       "      <th>Production</th>\n",
       "      <th>Semences</th>\n",
       "      <th>Traitement</th>\n",
       "      <th>Variation de stock</th>\n",
       "    </tr>\n",
       "  </thead>\n",
       "  <tbody>\n",
       "    <tr>\n",
       "      <th>0</th>\n",
       "      <td>Afghanistan</td>\n",
       "      <td>Abats Comestible</td>\n",
       "      <td>animale</td>\n",
       "      <td>NaN</td>\n",
       "      <td>NaN</td>\n",
       "      <td>5.0</td>\n",
       "      <td>1.72</td>\n",
       "      <td>0.20</td>\n",
       "      <td>0.77</td>\n",
       "      <td>53.0</td>\n",
       "      <td>NaN</td>\n",
       "      <td>NaN</td>\n",
       "      <td>53.0</td>\n",
       "      <td>NaN</td>\n",
       "      <td>53.0</td>\n",
       "      <td>NaN</td>\n",
       "      <td>NaN</td>\n",
       "      <td>NaN</td>\n",
       "    </tr>\n",
       "    <tr>\n",
       "      <th>1</th>\n",
       "      <td>Afghanistan</td>\n",
       "      <td>Agrumes, Autres</td>\n",
       "      <td>vegetale</td>\n",
       "      <td>NaN</td>\n",
       "      <td>NaN</td>\n",
       "      <td>1.0</td>\n",
       "      <td>1.29</td>\n",
       "      <td>0.01</td>\n",
       "      <td>0.02</td>\n",
       "      <td>41.0</td>\n",
       "      <td>2.0</td>\n",
       "      <td>40.0</td>\n",
       "      <td>39.0</td>\n",
       "      <td>2.0</td>\n",
       "      <td>3.0</td>\n",
       "      <td>NaN</td>\n",
       "      <td>NaN</td>\n",
       "      <td>NaN</td>\n",
       "    </tr>\n",
       "    <tr>\n",
       "      <th>2</th>\n",
       "      <td>Afghanistan</td>\n",
       "      <td>Aliments pour enfants</td>\n",
       "      <td>vegetale</td>\n",
       "      <td>NaN</td>\n",
       "      <td>NaN</td>\n",
       "      <td>1.0</td>\n",
       "      <td>0.06</td>\n",
       "      <td>0.01</td>\n",
       "      <td>0.03</td>\n",
       "      <td>2.0</td>\n",
       "      <td>NaN</td>\n",
       "      <td>2.0</td>\n",
       "      <td>2.0</td>\n",
       "      <td>NaN</td>\n",
       "      <td>NaN</td>\n",
       "      <td>NaN</td>\n",
       "      <td>NaN</td>\n",
       "      <td>NaN</td>\n",
       "    </tr>\n",
       "    <tr>\n",
       "      <th>3</th>\n",
       "      <td>Afghanistan</td>\n",
       "      <td>Ananas</td>\n",
       "      <td>vegetale</td>\n",
       "      <td>NaN</td>\n",
       "      <td>NaN</td>\n",
       "      <td>0.0</td>\n",
       "      <td>0.00</td>\n",
       "      <td>NaN</td>\n",
       "      <td>NaN</td>\n",
       "      <td>0.0</td>\n",
       "      <td>NaN</td>\n",
       "      <td>0.0</td>\n",
       "      <td>0.0</td>\n",
       "      <td>NaN</td>\n",
       "      <td>NaN</td>\n",
       "      <td>NaN</td>\n",
       "      <td>NaN</td>\n",
       "      <td>NaN</td>\n",
       "    </tr>\n",
       "    <tr>\n",
       "      <th>4</th>\n",
       "      <td>Afghanistan</td>\n",
       "      <td>Bananes</td>\n",
       "      <td>vegetale</td>\n",
       "      <td>NaN</td>\n",
       "      <td>NaN</td>\n",
       "      <td>4.0</td>\n",
       "      <td>2.70</td>\n",
       "      <td>0.02</td>\n",
       "      <td>0.05</td>\n",
       "      <td>82.0</td>\n",
       "      <td>NaN</td>\n",
       "      <td>82.0</td>\n",
       "      <td>82.0</td>\n",
       "      <td>NaN</td>\n",
       "      <td>NaN</td>\n",
       "      <td>NaN</td>\n",
       "      <td>NaN</td>\n",
       "      <td>NaN</td>\n",
       "    </tr>\n",
       "    <tr>\n",
       "      <th>...</th>\n",
       "      <td>...</td>\n",
       "      <td>...</td>\n",
       "      <td>...</td>\n",
       "      <td>...</td>\n",
       "      <td>...</td>\n",
       "      <td>...</td>\n",
       "      <td>...</td>\n",
       "      <td>...</td>\n",
       "      <td>...</td>\n",
       "      <td>...</td>\n",
       "      <td>...</td>\n",
       "      <td>...</td>\n",
       "      <td>...</td>\n",
       "      <td>...</td>\n",
       "      <td>...</td>\n",
       "      <td>...</td>\n",
       "      <td>...</td>\n",
       "      <td>...</td>\n",
       "    </tr>\n",
       "    <tr>\n",
       "      <th>15600</th>\n",
       "      <td>Îles Salomon</td>\n",
       "      <td>Viande de Suides</td>\n",
       "      <td>animale</td>\n",
       "      <td>NaN</td>\n",
       "      <td>NaN</td>\n",
       "      <td>45.0</td>\n",
       "      <td>4.70</td>\n",
       "      <td>4.28</td>\n",
       "      <td>1.41</td>\n",
       "      <td>3.0</td>\n",
       "      <td>NaN</td>\n",
       "      <td>0.0</td>\n",
       "      <td>3.0</td>\n",
       "      <td>NaN</td>\n",
       "      <td>2.0</td>\n",
       "      <td>NaN</td>\n",
       "      <td>NaN</td>\n",
       "      <td>NaN</td>\n",
       "    </tr>\n",
       "    <tr>\n",
       "      <th>15601</th>\n",
       "      <td>Îles Salomon</td>\n",
       "      <td>Viande de Volailles</td>\n",
       "      <td>animale</td>\n",
       "      <td>NaN</td>\n",
       "      <td>NaN</td>\n",
       "      <td>11.0</td>\n",
       "      <td>3.34</td>\n",
       "      <td>0.69</td>\n",
       "      <td>1.14</td>\n",
       "      <td>2.0</td>\n",
       "      <td>NaN</td>\n",
       "      <td>2.0</td>\n",
       "      <td>2.0</td>\n",
       "      <td>NaN</td>\n",
       "      <td>0.0</td>\n",
       "      <td>NaN</td>\n",
       "      <td>NaN</td>\n",
       "      <td>NaN</td>\n",
       "    </tr>\n",
       "    <tr>\n",
       "      <th>15602</th>\n",
       "      <td>Îles Salomon</td>\n",
       "      <td>Viande, Autre</td>\n",
       "      <td>animale</td>\n",
       "      <td>NaN</td>\n",
       "      <td>NaN</td>\n",
       "      <td>0.0</td>\n",
       "      <td>0.06</td>\n",
       "      <td>NaN</td>\n",
       "      <td>0.04</td>\n",
       "      <td>0.0</td>\n",
       "      <td>NaN</td>\n",
       "      <td>0.0</td>\n",
       "      <td>0.0</td>\n",
       "      <td>NaN</td>\n",
       "      <td>NaN</td>\n",
       "      <td>NaN</td>\n",
       "      <td>NaN</td>\n",
       "      <td>NaN</td>\n",
       "    </tr>\n",
       "    <tr>\n",
       "      <th>15603</th>\n",
       "      <td>Îles Salomon</td>\n",
       "      <td>Vin</td>\n",
       "      <td>vegetale</td>\n",
       "      <td>NaN</td>\n",
       "      <td>NaN</td>\n",
       "      <td>0.0</td>\n",
       "      <td>0.07</td>\n",
       "      <td>NaN</td>\n",
       "      <td>NaN</td>\n",
       "      <td>0.0</td>\n",
       "      <td>0.0</td>\n",
       "      <td>0.0</td>\n",
       "      <td>0.0</td>\n",
       "      <td>NaN</td>\n",
       "      <td>NaN</td>\n",
       "      <td>NaN</td>\n",
       "      <td>NaN</td>\n",
       "      <td>NaN</td>\n",
       "    </tr>\n",
       "    <tr>\n",
       "      <th>15604</th>\n",
       "      <td>Îles Salomon</td>\n",
       "      <td>Épices, Autres</td>\n",
       "      <td>vegetale</td>\n",
       "      <td>NaN</td>\n",
       "      <td>NaN</td>\n",
       "      <td>4.0</td>\n",
       "      <td>0.48</td>\n",
       "      <td>0.21</td>\n",
       "      <td>0.15</td>\n",
       "      <td>0.0</td>\n",
       "      <td>0.0</td>\n",
       "      <td>0.0</td>\n",
       "      <td>0.0</td>\n",
       "      <td>NaN</td>\n",
       "      <td>0.0</td>\n",
       "      <td>NaN</td>\n",
       "      <td>NaN</td>\n",
       "      <td>NaN</td>\n",
       "    </tr>\n",
       "  </tbody>\n",
       "</table>\n",
       "<p>15605 rows × 18 columns</p>\n",
       "</div>"
      ],
      "text/plain": [
       "               Zone                Produit   Origine  Aliments pour animaux  \\\n",
       "0       Afghanistan       Abats Comestible   animale                    NaN   \n",
       "1       Afghanistan        Agrumes, Autres  vegetale                    NaN   \n",
       "2       Afghanistan  Aliments pour enfants  vegetale                    NaN   \n",
       "3       Afghanistan                 Ananas  vegetale                    NaN   \n",
       "4       Afghanistan                Bananes  vegetale                    NaN   \n",
       "...             ...                    ...       ...                    ...   \n",
       "15600  Îles Salomon       Viande de Suides   animale                    NaN   \n",
       "15601  Îles Salomon    Viande de Volailles   animale                    NaN   \n",
       "15602  Îles Salomon          Viande, Autre   animale                    NaN   \n",
       "15603  Îles Salomon                    Vin  vegetale                    NaN   \n",
       "15604  Îles Salomon         Épices, Autres  vegetale                    NaN   \n",
       "\n",
       "       Autres Utilisations  Disponibilité alimentaire (Kcal/personne/jour)  \\\n",
       "0                      NaN                                             5.0   \n",
       "1                      NaN                                             1.0   \n",
       "2                      NaN                                             1.0   \n",
       "3                      NaN                                             0.0   \n",
       "4                      NaN                                             4.0   \n",
       "...                    ...                                             ...   \n",
       "15600                  NaN                                            45.0   \n",
       "15601                  NaN                                            11.0   \n",
       "15602                  NaN                                             0.0   \n",
       "15603                  NaN                                             0.0   \n",
       "15604                  NaN                                             4.0   \n",
       "\n",
       "       Disponibilité alimentaire en quantité (kg/personne/an)  \\\n",
       "0                                                   1.72        \n",
       "1                                                   1.29        \n",
       "2                                                   0.06        \n",
       "3                                                   0.00        \n",
       "4                                                   2.70        \n",
       "...                                                  ...        \n",
       "15600                                               4.70        \n",
       "15601                                               3.34        \n",
       "15602                                               0.06        \n",
       "15603                                               0.07        \n",
       "15604                                               0.48        \n",
       "\n",
       "       Disponibilité de matière grasse en quantité (g/personne/jour)  \\\n",
       "0                                                   0.20               \n",
       "1                                                   0.01               \n",
       "2                                                   0.01               \n",
       "3                                                    NaN               \n",
       "4                                                   0.02               \n",
       "...                                                  ...               \n",
       "15600                                               4.28               \n",
       "15601                                               0.69               \n",
       "15602                                                NaN               \n",
       "15603                                                NaN               \n",
       "15604                                               0.21               \n",
       "\n",
       "       Disponibilité de protéines en quantité (g/personne/jour)  \\\n",
       "0                                                   0.77          \n",
       "1                                                   0.02          \n",
       "2                                                   0.03          \n",
       "3                                                    NaN          \n",
       "4                                                   0.05          \n",
       "...                                                  ...          \n",
       "15600                                               1.41          \n",
       "15601                                               1.14          \n",
       "15602                                               0.04          \n",
       "15603                                                NaN          \n",
       "15604                                               0.15          \n",
       "\n",
       "       Disponibilité intérieure  Exportations - Quantité  \\\n",
       "0                          53.0                      NaN   \n",
       "1                          41.0                      2.0   \n",
       "2                           2.0                      NaN   \n",
       "3                           0.0                      NaN   \n",
       "4                          82.0                      NaN   \n",
       "...                         ...                      ...   \n",
       "15600                       3.0                      NaN   \n",
       "15601                       2.0                      NaN   \n",
       "15602                       0.0                      NaN   \n",
       "15603                       0.0                      0.0   \n",
       "15604                       0.0                      0.0   \n",
       "\n",
       "       Importations - Quantité  Nourriture  Pertes  Production  Semences  \\\n",
       "0                          NaN        53.0     NaN        53.0       NaN   \n",
       "1                         40.0        39.0     2.0         3.0       NaN   \n",
       "2                          2.0         2.0     NaN         NaN       NaN   \n",
       "3                          0.0         0.0     NaN         NaN       NaN   \n",
       "4                         82.0        82.0     NaN         NaN       NaN   \n",
       "...                        ...         ...     ...         ...       ...   \n",
       "15600                      0.0         3.0     NaN         2.0       NaN   \n",
       "15601                      2.0         2.0     NaN         0.0       NaN   \n",
       "15602                      0.0         0.0     NaN         NaN       NaN   \n",
       "15603                      0.0         0.0     NaN         NaN       NaN   \n",
       "15604                      0.0         0.0     NaN         0.0       NaN   \n",
       "\n",
       "       Traitement  Variation de stock  \n",
       "0             NaN                 NaN  \n",
       "1             NaN                 NaN  \n",
       "2             NaN                 NaN  \n",
       "3             NaN                 NaN  \n",
       "4             NaN                 NaN  \n",
       "...           ...                 ...  \n",
       "15600         NaN                 NaN  \n",
       "15601         NaN                 NaN  \n",
       "15602         NaN                 NaN  \n",
       "15603         NaN                 NaN  \n",
       "15604         NaN                 NaN  \n",
       "\n",
       "[15605 rows x 18 columns]"
      ]
     },
     "execution_count": 4,
     "metadata": {},
     "output_type": "execute_result"
    }
   ],
   "source": [
    "dispo_alim"
   ]
  },
  {
   "cell_type": "code",
   "execution_count": 5,
   "id": "cf908bae",
   "metadata": {},
   "outputs": [
    {
     "data": {
      "text/html": [
       "<div>\n",
       "<style scoped>\n",
       "    .dataframe tbody tr th:only-of-type {\n",
       "        vertical-align: middle;\n",
       "    }\n",
       "\n",
       "    .dataframe tbody tr th {\n",
       "        vertical-align: top;\n",
       "    }\n",
       "\n",
       "    .dataframe thead th {\n",
       "        text-align: right;\n",
       "    }\n",
       "</style>\n",
       "<table border=\"1\" class=\"dataframe\">\n",
       "  <thead>\n",
       "    <tr style=\"text-align: right;\">\n",
       "      <th></th>\n",
       "      <th>Zone</th>\n",
       "      <th>Produit</th>\n",
       "      <th>Origine</th>\n",
       "      <th>Aliments pour animaux</th>\n",
       "      <th>Autres Utilisations</th>\n",
       "      <th>Disponibilité alimentaire (Kcal/personne/jour)</th>\n",
       "      <th>Disponibilité alimentaire en quantité (kg/personne/an)</th>\n",
       "      <th>Disponibilité de matière grasse en quantité (g/personne/jour)</th>\n",
       "      <th>Disponibilité de protéines en quantité (g/personne/jour)</th>\n",
       "      <th>Disponibilité intérieure</th>\n",
       "      <th>Exportations - Quantité</th>\n",
       "      <th>Importations - Quantité</th>\n",
       "      <th>Nourriture</th>\n",
       "      <th>Pertes</th>\n",
       "      <th>Production</th>\n",
       "      <th>Semences</th>\n",
       "      <th>Traitement</th>\n",
       "      <th>Variation de stock</th>\n",
       "    </tr>\n",
       "  </thead>\n",
       "  <tbody>\n",
       "    <tr>\n",
       "      <th>count</th>\n",
       "      <td>15605</td>\n",
       "      <td>15605</td>\n",
       "      <td>15605</td>\n",
       "      <td>15605</td>\n",
       "      <td>15605</td>\n",
       "      <td>15605</td>\n",
       "      <td>15605</td>\n",
       "      <td>15605</td>\n",
       "      <td>15605</td>\n",
       "      <td>15605</td>\n",
       "      <td>15605</td>\n",
       "      <td>15605</td>\n",
       "      <td>15605</td>\n",
       "      <td>15605</td>\n",
       "      <td>15605</td>\n",
       "      <td>15605</td>\n",
       "      <td>15605</td>\n",
       "      <td>15605</td>\n",
       "    </tr>\n",
       "    <tr>\n",
       "      <th>unique</th>\n",
       "      <td>1</td>\n",
       "      <td>1</td>\n",
       "      <td>1</td>\n",
       "      <td>2</td>\n",
       "      <td>2</td>\n",
       "      <td>2</td>\n",
       "      <td>2</td>\n",
       "      <td>2</td>\n",
       "      <td>2</td>\n",
       "      <td>2</td>\n",
       "      <td>2</td>\n",
       "      <td>2</td>\n",
       "      <td>2</td>\n",
       "      <td>2</td>\n",
       "      <td>2</td>\n",
       "      <td>2</td>\n",
       "      <td>2</td>\n",
       "      <td>2</td>\n",
       "    </tr>\n",
       "    <tr>\n",
       "      <th>top</th>\n",
       "      <td>False</td>\n",
       "      <td>False</td>\n",
       "      <td>False</td>\n",
       "      <td>True</td>\n",
       "      <td>True</td>\n",
       "      <td>False</td>\n",
       "      <td>False</td>\n",
       "      <td>False</td>\n",
       "      <td>False</td>\n",
       "      <td>False</td>\n",
       "      <td>False</td>\n",
       "      <td>False</td>\n",
       "      <td>False</td>\n",
       "      <td>True</td>\n",
       "      <td>False</td>\n",
       "      <td>True</td>\n",
       "      <td>True</td>\n",
       "      <td>True</td>\n",
       "    </tr>\n",
       "    <tr>\n",
       "      <th>freq</th>\n",
       "      <td>15605</td>\n",
       "      <td>15605</td>\n",
       "      <td>15605</td>\n",
       "      <td>12885</td>\n",
       "      <td>10109</td>\n",
       "      <td>14241</td>\n",
       "      <td>14015</td>\n",
       "      <td>11794</td>\n",
       "      <td>11561</td>\n",
       "      <td>15382</td>\n",
       "      <td>12226</td>\n",
       "      <td>14852</td>\n",
       "      <td>14015</td>\n",
       "      <td>11327</td>\n",
       "      <td>9180</td>\n",
       "      <td>13514</td>\n",
       "      <td>13313</td>\n",
       "      <td>8829</td>\n",
       "    </tr>\n",
       "  </tbody>\n",
       "</table>\n",
       "</div>"
      ],
      "text/plain": [
       "         Zone Produit Origine Aliments pour animaux Autres Utilisations  \\\n",
       "count   15605   15605   15605                 15605               15605   \n",
       "unique      1       1       1                     2                   2   \n",
       "top     False   False   False                  True                True   \n",
       "freq    15605   15605   15605                 12885               10109   \n",
       "\n",
       "       Disponibilité alimentaire (Kcal/personne/jour)  \\\n",
       "count                                           15605   \n",
       "unique                                              2   \n",
       "top                                             False   \n",
       "freq                                            14241   \n",
       "\n",
       "       Disponibilité alimentaire en quantité (kg/personne/an)  \\\n",
       "count                                               15605       \n",
       "unique                                                  2       \n",
       "top                                                 False       \n",
       "freq                                                14015       \n",
       "\n",
       "       Disponibilité de matière grasse en quantité (g/personne/jour)  \\\n",
       "count                                               15605              \n",
       "unique                                                  2              \n",
       "top                                                 False              \n",
       "freq                                                11794              \n",
       "\n",
       "       Disponibilité de protéines en quantité (g/personne/jour)  \\\n",
       "count                                               15605         \n",
       "unique                                                  2         \n",
       "top                                                 False         \n",
       "freq                                                11561         \n",
       "\n",
       "       Disponibilité intérieure Exportations - Quantité  \\\n",
       "count                     15605                   15605   \n",
       "unique                        2                       2   \n",
       "top                       False                   False   \n",
       "freq                      15382                   12226   \n",
       "\n",
       "       Importations - Quantité Nourriture Pertes Production Semences  \\\n",
       "count                    15605      15605  15605      15605    15605   \n",
       "unique                       2          2      2          2        2   \n",
       "top                      False      False   True      False     True   \n",
       "freq                     14852      14015  11327       9180    13514   \n",
       "\n",
       "       Traitement Variation de stock  \n",
       "count       15605              15605  \n",
       "unique          2                  2  \n",
       "top          True               True  \n",
       "freq        13313               8829  "
      ]
     },
     "execution_count": 5,
     "metadata": {},
     "output_type": "execute_result"
    }
   ],
   "source": [
    "dispo_alim.isna().describe()"
   ]
  },
  {
   "cell_type": "markdown",
   "id": "1a6b71c9",
   "metadata": {},
   "source": [
    "### 1.1.2 Food resources given to countries in food deficit"
   ]
  },
  {
   "cell_type": "code",
   "execution_count": 6,
   "id": "ca8079d5",
   "metadata": {},
   "outputs": [],
   "source": [
    "aide_alim = pd.read_csv('../aide_alimentaire.csv', header=0, sep=',')"
   ]
  },
  {
   "cell_type": "code",
   "execution_count": 7,
   "id": "8a249b96",
   "metadata": {},
   "outputs": [
    {
     "data": {
      "text/html": [
       "<div>\n",
       "<style scoped>\n",
       "    .dataframe tbody tr th:only-of-type {\n",
       "        vertical-align: middle;\n",
       "    }\n",
       "\n",
       "    .dataframe tbody tr th {\n",
       "        vertical-align: top;\n",
       "    }\n",
       "\n",
       "    .dataframe thead th {\n",
       "        text-align: right;\n",
       "    }\n",
       "</style>\n",
       "<table border=\"1\" class=\"dataframe\">\n",
       "  <thead>\n",
       "    <tr style=\"text-align: right;\">\n",
       "      <th></th>\n",
       "      <th>Pays bénéficiaire</th>\n",
       "      <th>Année</th>\n",
       "      <th>Produit</th>\n",
       "      <th>Valeur</th>\n",
       "    </tr>\n",
       "  </thead>\n",
       "  <tbody>\n",
       "    <tr>\n",
       "      <th>0</th>\n",
       "      <td>Afghanistan</td>\n",
       "      <td>2013</td>\n",
       "      <td>Autres non-céréales</td>\n",
       "      <td>682</td>\n",
       "    </tr>\n",
       "    <tr>\n",
       "      <th>1</th>\n",
       "      <td>Afghanistan</td>\n",
       "      <td>2014</td>\n",
       "      <td>Autres non-céréales</td>\n",
       "      <td>335</td>\n",
       "    </tr>\n",
       "    <tr>\n",
       "      <th>2</th>\n",
       "      <td>Afghanistan</td>\n",
       "      <td>2013</td>\n",
       "      <td>Blé et Farin</td>\n",
       "      <td>39224</td>\n",
       "    </tr>\n",
       "    <tr>\n",
       "      <th>3</th>\n",
       "      <td>Afghanistan</td>\n",
       "      <td>2014</td>\n",
       "      <td>Blé et Farin</td>\n",
       "      <td>15160</td>\n",
       "    </tr>\n",
       "    <tr>\n",
       "      <th>4</th>\n",
       "      <td>Afghanistan</td>\n",
       "      <td>2013</td>\n",
       "      <td>Céréales</td>\n",
       "      <td>40504</td>\n",
       "    </tr>\n",
       "    <tr>\n",
       "      <th>5</th>\n",
       "      <td>Afghanistan</td>\n",
       "      <td>2014</td>\n",
       "      <td>Céréales</td>\n",
       "      <td>15989</td>\n",
       "    </tr>\n",
       "    <tr>\n",
       "      <th>6</th>\n",
       "      <td>Afghanistan</td>\n",
       "      <td>2013</td>\n",
       "      <td>Fruits secs, total</td>\n",
       "      <td>85</td>\n",
       "    </tr>\n",
       "    <tr>\n",
       "      <th>7</th>\n",
       "      <td>Afghanistan</td>\n",
       "      <td>2013</td>\n",
       "      <td>Huiles végétales</td>\n",
       "      <td>11087</td>\n",
       "    </tr>\n",
       "    <tr>\n",
       "      <th>8</th>\n",
       "      <td>Afghanistan</td>\n",
       "      <td>2014</td>\n",
       "      <td>Huiles végétales</td>\n",
       "      <td>8185</td>\n",
       "    </tr>\n",
       "    <tr>\n",
       "      <th>9</th>\n",
       "      <td>Afghanistan</td>\n",
       "      <td>2013</td>\n",
       "      <td>Légumineuses Sèches,Tot.</td>\n",
       "      <td>11761</td>\n",
       "    </tr>\n",
       "  </tbody>\n",
       "</table>\n",
       "</div>"
      ],
      "text/plain": [
       "  Pays bénéficiaire  Année                   Produit  Valeur\n",
       "0       Afghanistan   2013       Autres non-céréales     682\n",
       "1       Afghanistan   2014       Autres non-céréales     335\n",
       "2       Afghanistan   2013              Blé et Farin   39224\n",
       "3       Afghanistan   2014              Blé et Farin   15160\n",
       "4       Afghanistan   2013                  Céréales   40504\n",
       "5       Afghanistan   2014                  Céréales   15989\n",
       "6       Afghanistan   2013        Fruits secs, total      85\n",
       "7       Afghanistan   2013          Huiles végétales   11087\n",
       "8       Afghanistan   2014          Huiles végétales    8185\n",
       "9       Afghanistan   2013  Légumineuses Sèches,Tot.   11761"
      ]
     },
     "execution_count": 7,
     "metadata": {},
     "output_type": "execute_result"
    }
   ],
   "source": [
    "aide_alim.head(10)"
   ]
  },
  {
   "cell_type": "code",
   "execution_count": 8,
   "id": "1a761aec",
   "metadata": {},
   "outputs": [
    {
     "data": {
      "text/html": [
       "<div>\n",
       "<style scoped>\n",
       "    .dataframe tbody tr th:only-of-type {\n",
       "        vertical-align: middle;\n",
       "    }\n",
       "\n",
       "    .dataframe tbody tr th {\n",
       "        vertical-align: top;\n",
       "    }\n",
       "\n",
       "    .dataframe thead th {\n",
       "        text-align: right;\n",
       "    }\n",
       "</style>\n",
       "<table border=\"1\" class=\"dataframe\">\n",
       "  <thead>\n",
       "    <tr style=\"text-align: right;\">\n",
       "      <th></th>\n",
       "      <th>Pays bénéficiaire</th>\n",
       "      <th>Année</th>\n",
       "      <th>Produit</th>\n",
       "      <th>Valeur</th>\n",
       "    </tr>\n",
       "  </thead>\n",
       "  <tbody>\n",
       "    <tr>\n",
       "      <th>0</th>\n",
       "      <td>Afghanistan</td>\n",
       "      <td>2013</td>\n",
       "      <td>Autres non-céréales</td>\n",
       "      <td>682</td>\n",
       "    </tr>\n",
       "    <tr>\n",
       "      <th>2</th>\n",
       "      <td>Afghanistan</td>\n",
       "      <td>2013</td>\n",
       "      <td>Blé et Farin</td>\n",
       "      <td>39224</td>\n",
       "    </tr>\n",
       "    <tr>\n",
       "      <th>4</th>\n",
       "      <td>Afghanistan</td>\n",
       "      <td>2013</td>\n",
       "      <td>Céréales</td>\n",
       "      <td>40504</td>\n",
       "    </tr>\n",
       "    <tr>\n",
       "      <th>6</th>\n",
       "      <td>Afghanistan</td>\n",
       "      <td>2013</td>\n",
       "      <td>Fruits secs, total</td>\n",
       "      <td>85</td>\n",
       "    </tr>\n",
       "    <tr>\n",
       "      <th>7</th>\n",
       "      <td>Afghanistan</td>\n",
       "      <td>2013</td>\n",
       "      <td>Huiles végétales</td>\n",
       "      <td>11087</td>\n",
       "    </tr>\n",
       "    <tr>\n",
       "      <th>...</th>\n",
       "      <td>...</td>\n",
       "      <td>...</td>\n",
       "      <td>...</td>\n",
       "      <td>...</td>\n",
       "    </tr>\n",
       "    <tr>\n",
       "      <th>372</th>\n",
       "      <td>Éthiopie</td>\n",
       "      <td>2015</td>\n",
       "      <td>Huiles végétales</td>\n",
       "      <td>1826</td>\n",
       "    </tr>\n",
       "    <tr>\n",
       "      <th>375</th>\n",
       "      <td>Éthiopie</td>\n",
       "      <td>2015</td>\n",
       "      <td>Légumineuses Sèches,Tot.</td>\n",
       "      <td>10519</td>\n",
       "    </tr>\n",
       "    <tr>\n",
       "      <th>378</th>\n",
       "      <td>Éthiopie</td>\n",
       "      <td>2015</td>\n",
       "      <td>Mélanges et préparations</td>\n",
       "      <td>4512</td>\n",
       "    </tr>\n",
       "    <tr>\n",
       "      <th>381</th>\n",
       "      <td>Éthiopie</td>\n",
       "      <td>2015</td>\n",
       "      <td>Non-céréales</td>\n",
       "      <td>15151</td>\n",
       "    </tr>\n",
       "    <tr>\n",
       "      <th>386</th>\n",
       "      <td>Éthiopie</td>\n",
       "      <td>2015</td>\n",
       "      <td>Sucre, total</td>\n",
       "      <td>2400</td>\n",
       "    </tr>\n",
       "  </tbody>\n",
       "</table>\n",
       "<p>1475 rows × 4 columns</p>\n",
       "</div>"
      ],
      "text/plain": [
       "    Pays bénéficiaire  Année                   Produit  Valeur\n",
       "0         Afghanistan   2013       Autres non-céréales     682\n",
       "2         Afghanistan   2013              Blé et Farin   39224\n",
       "4         Afghanistan   2013                  Céréales   40504\n",
       "6         Afghanistan   2013        Fruits secs, total      85\n",
       "7         Afghanistan   2013          Huiles végétales   11087\n",
       "..                ...    ...                       ...     ...\n",
       "372          Éthiopie   2015          Huiles végétales    1826\n",
       "375          Éthiopie   2015  Légumineuses Sèches,Tot.   10519\n",
       "378          Éthiopie   2015  Mélanges et préparations    4512\n",
       "381          Éthiopie   2015              Non-céréales   15151\n",
       "386          Éthiopie   2015              Sucre, total    2400\n",
       "\n",
       "[1475 rows x 4 columns]"
      ]
     },
     "execution_count": 8,
     "metadata": {},
     "output_type": "execute_result"
    }
   ],
   "source": [
    "aide_alim.sort_values(['Pays bénéficiaire','Année'], ascending=True)"
   ]
  },
  {
   "cell_type": "code",
   "execution_count": 9,
   "id": "1f8920cc",
   "metadata": {},
   "outputs": [
    {
     "data": {
      "text/html": [
       "<div>\n",
       "<style scoped>\n",
       "    .dataframe tbody tr th:only-of-type {\n",
       "        vertical-align: middle;\n",
       "    }\n",
       "\n",
       "    .dataframe tbody tr th {\n",
       "        vertical-align: top;\n",
       "    }\n",
       "\n",
       "    .dataframe thead th {\n",
       "        text-align: right;\n",
       "    }\n",
       "</style>\n",
       "<table border=\"1\" class=\"dataframe\">\n",
       "  <thead>\n",
       "    <tr style=\"text-align: right;\">\n",
       "      <th></th>\n",
       "      <th>Pays bénéficiaire</th>\n",
       "      <th>Année</th>\n",
       "      <th>Produit</th>\n",
       "      <th>Valeur</th>\n",
       "    </tr>\n",
       "  </thead>\n",
       "  <tbody>\n",
       "    <tr>\n",
       "      <th>count</th>\n",
       "      <td>1475</td>\n",
       "      <td>1475</td>\n",
       "      <td>1475</td>\n",
       "      <td>1475</td>\n",
       "    </tr>\n",
       "    <tr>\n",
       "      <th>unique</th>\n",
       "      <td>1</td>\n",
       "      <td>1</td>\n",
       "      <td>1</td>\n",
       "      <td>1</td>\n",
       "    </tr>\n",
       "    <tr>\n",
       "      <th>top</th>\n",
       "      <td>False</td>\n",
       "      <td>False</td>\n",
       "      <td>False</td>\n",
       "      <td>False</td>\n",
       "    </tr>\n",
       "    <tr>\n",
       "      <th>freq</th>\n",
       "      <td>1475</td>\n",
       "      <td>1475</td>\n",
       "      <td>1475</td>\n",
       "      <td>1475</td>\n",
       "    </tr>\n",
       "  </tbody>\n",
       "</table>\n",
       "</div>"
      ],
      "text/plain": [
       "       Pays bénéficiaire  Année Produit Valeur\n",
       "count               1475   1475    1475   1475\n",
       "unique                 1      1       1      1\n",
       "top                False  False   False  False\n",
       "freq                1475   1475    1475   1475"
      ]
     },
     "execution_count": 9,
     "metadata": {},
     "output_type": "execute_result"
    }
   ],
   "source": [
    "aide_alim.isna().describe()"
   ]
  },
  {
   "cell_type": "markdown",
   "id": "e772b357",
   "metadata": {},
   "source": [
    "### 1.2.3 Food insecurity describe by the number of undernurished people"
   ]
  },
  {
   "cell_type": "code",
   "execution_count": 10,
   "id": "b37b5b10",
   "metadata": {},
   "outputs": [],
   "source": [
    "col_types = {'Zone' : str, 'Année' : str, 'Valeur' : int}\n",
    "sous_alim = pd.read_csv('../sous_nutrition.csv', header=0, sep=',')"
   ]
  },
  {
   "cell_type": "code",
   "execution_count": 11,
   "id": "66c56087",
   "metadata": {},
   "outputs": [
    {
     "data": {
      "text/plain": [
       "count      1218\n",
       "unique        2\n",
       "top       False\n",
       "freq        624\n",
       "Name: Valeur, dtype: object"
      ]
     },
     "execution_count": 11,
     "metadata": {},
     "output_type": "execute_result"
    }
   ],
   "source": [
    "sous_alim['Valeur'].isna().describe()"
   ]
  },
  {
   "cell_type": "code",
   "execution_count": 12,
   "id": "9f2f8fd8",
   "metadata": {},
   "outputs": [
    {
     "data": {
      "text/html": [
       "<div>\n",
       "<style scoped>\n",
       "    .dataframe tbody tr th:only-of-type {\n",
       "        vertical-align: middle;\n",
       "    }\n",
       "\n",
       "    .dataframe tbody tr th {\n",
       "        vertical-align: top;\n",
       "    }\n",
       "\n",
       "    .dataframe thead th {\n",
       "        text-align: right;\n",
       "    }\n",
       "</style>\n",
       "<table border=\"1\" class=\"dataframe\">\n",
       "  <thead>\n",
       "    <tr style=\"text-align: right;\">\n",
       "      <th></th>\n",
       "      <th>Zone</th>\n",
       "      <th>Année</th>\n",
       "      <th>Valeur</th>\n",
       "    </tr>\n",
       "  </thead>\n",
       "  <tbody>\n",
       "    <tr>\n",
       "      <th>0</th>\n",
       "      <td>Afghanistan</td>\n",
       "      <td>2012-2014</td>\n",
       "      <td>8.6</td>\n",
       "    </tr>\n",
       "    <tr>\n",
       "      <th>1</th>\n",
       "      <td>Afghanistan</td>\n",
       "      <td>2013-2015</td>\n",
       "      <td>8.8</td>\n",
       "    </tr>\n",
       "    <tr>\n",
       "      <th>2</th>\n",
       "      <td>Afghanistan</td>\n",
       "      <td>2014-2016</td>\n",
       "      <td>8.9</td>\n",
       "    </tr>\n",
       "    <tr>\n",
       "      <th>3</th>\n",
       "      <td>Afghanistan</td>\n",
       "      <td>2015-2017</td>\n",
       "      <td>9.7</td>\n",
       "    </tr>\n",
       "    <tr>\n",
       "      <th>4</th>\n",
       "      <td>Afghanistan</td>\n",
       "      <td>2016-2018</td>\n",
       "      <td>10.5</td>\n",
       "    </tr>\n",
       "  </tbody>\n",
       "</table>\n",
       "</div>"
      ],
      "text/plain": [
       "          Zone      Année Valeur\n",
       "0  Afghanistan  2012-2014    8.6\n",
       "1  Afghanistan  2013-2015    8.8\n",
       "2  Afghanistan  2014-2016    8.9\n",
       "3  Afghanistan  2015-2017    9.7\n",
       "4  Afghanistan  2016-2018   10.5"
      ]
     },
     "execution_count": 12,
     "metadata": {},
     "output_type": "execute_result"
    }
   ],
   "source": [
    "sous_alim.head(5)"
   ]
  },
  {
   "cell_type": "code",
   "execution_count": 13,
   "id": "366002d1",
   "metadata": {},
   "outputs": [
    {
     "data": {
      "text/plain": [
       "0       False\n",
       "1       False\n",
       "2       False\n",
       "3       False\n",
       "4       False\n",
       "        ...  \n",
       "1213     True\n",
       "1214     True\n",
       "1215     True\n",
       "1216     True\n",
       "1217     True\n",
       "Name: Valeur, Length: 1218, dtype: bool"
      ]
     },
     "execution_count": 13,
     "metadata": {},
     "output_type": "execute_result"
    }
   ],
   "source": [
    "sous_alim['Valeur'].isna()"
   ]
  },
  {
   "cell_type": "markdown",
   "id": "0e99544b",
   "metadata": {},
   "source": [
    "### 1.2.4 Population by countries"
   ]
  },
  {
   "cell_type": "code",
   "execution_count": 14,
   "id": "a15c2f94",
   "metadata": {},
   "outputs": [],
   "source": [
    "pop_pays = pd.read_csv('../population.csv', header=0, sep=',')"
   ]
  },
  {
   "cell_type": "code",
   "execution_count": 15,
   "id": "dcab9f71",
   "metadata": {},
   "outputs": [
    {
     "data": {
      "text/html": [
       "<div>\n",
       "<style scoped>\n",
       "    .dataframe tbody tr th:only-of-type {\n",
       "        vertical-align: middle;\n",
       "    }\n",
       "\n",
       "    .dataframe tbody tr th {\n",
       "        vertical-align: top;\n",
       "    }\n",
       "\n",
       "    .dataframe thead th {\n",
       "        text-align: right;\n",
       "    }\n",
       "</style>\n",
       "<table border=\"1\" class=\"dataframe\">\n",
       "  <thead>\n",
       "    <tr style=\"text-align: right;\">\n",
       "      <th></th>\n",
       "      <th>Zone</th>\n",
       "      <th>Année</th>\n",
       "      <th>Valeur</th>\n",
       "    </tr>\n",
       "  </thead>\n",
       "  <tbody>\n",
       "    <tr>\n",
       "      <th>0</th>\n",
       "      <td>Afghanistan</td>\n",
       "      <td>2013</td>\n",
       "      <td>32269.589</td>\n",
       "    </tr>\n",
       "    <tr>\n",
       "      <th>1</th>\n",
       "      <td>Afghanistan</td>\n",
       "      <td>2014</td>\n",
       "      <td>33370.794</td>\n",
       "    </tr>\n",
       "    <tr>\n",
       "      <th>2</th>\n",
       "      <td>Afghanistan</td>\n",
       "      <td>2015</td>\n",
       "      <td>34413.603</td>\n",
       "    </tr>\n",
       "    <tr>\n",
       "      <th>3</th>\n",
       "      <td>Afghanistan</td>\n",
       "      <td>2016</td>\n",
       "      <td>35383.032</td>\n",
       "    </tr>\n",
       "    <tr>\n",
       "      <th>4</th>\n",
       "      <td>Afghanistan</td>\n",
       "      <td>2017</td>\n",
       "      <td>36296.113</td>\n",
       "    </tr>\n",
       "  </tbody>\n",
       "</table>\n",
       "</div>"
      ],
      "text/plain": [
       "          Zone  Année     Valeur\n",
       "0  Afghanistan   2013  32269.589\n",
       "1  Afghanistan   2014  33370.794\n",
       "2  Afghanistan   2015  34413.603\n",
       "3  Afghanistan   2016  35383.032\n",
       "4  Afghanistan   2017  36296.113"
      ]
     },
     "execution_count": 15,
     "metadata": {},
     "output_type": "execute_result"
    }
   ],
   "source": [
    "pop_pays.head(5)"
   ]
  },
  {
   "cell_type": "code",
   "execution_count": 16,
   "id": "667a1d26",
   "metadata": {},
   "outputs": [
    {
     "data": {
      "text/plain": [
       "<AxesSubplot:xlabel='Zone'>"
      ]
     },
     "execution_count": 16,
     "metadata": {},
     "output_type": "execute_result"
    },
    {
     "data": {
      "image/png": "[encoded data removed]",
      "text/plain": [
       "<Figure size 432x288 with 1 Axes>"
      ]
     },
     "metadata": {
      "needs_background": "light"
     },
     "output_type": "display_data"
    }
   ],
   "source": [
    "pop_pays[pop_pays['Année'] == 2017].set_index('Zone').head(5).plot.bar(y='Valeur')"
   ]
  },
  {
   "cell_type": "code",
   "execution_count": 17,
   "id": "c502ba92",
   "metadata": {},
   "outputs": [
    {
     "data": {
      "text/html": [
       "<div>\n",
       "<style scoped>\n",
       "    .dataframe tbody tr th:only-of-type {\n",
       "        vertical-align: middle;\n",
       "    }\n",
       "\n",
       "    .dataframe tbody tr th {\n",
       "        vertical-align: top;\n",
       "    }\n",
       "\n",
       "    .dataframe thead th {\n",
       "        text-align: right;\n",
       "    }\n",
       "</style>\n",
       "<table border=\"1\" class=\"dataframe\">\n",
       "  <thead>\n",
       "    <tr style=\"text-align: right;\">\n",
       "      <th></th>\n",
       "      <th>Zone</th>\n",
       "      <th>Année</th>\n",
       "      <th>Valeur</th>\n",
       "    </tr>\n",
       "  </thead>\n",
       "  <tbody>\n",
       "    <tr>\n",
       "      <th>count</th>\n",
       "      <td>1416</td>\n",
       "      <td>1416</td>\n",
       "      <td>1416</td>\n",
       "    </tr>\n",
       "    <tr>\n",
       "      <th>unique</th>\n",
       "      <td>1</td>\n",
       "      <td>1</td>\n",
       "      <td>1</td>\n",
       "    </tr>\n",
       "    <tr>\n",
       "      <th>top</th>\n",
       "      <td>False</td>\n",
       "      <td>False</td>\n",
       "      <td>False</td>\n",
       "    </tr>\n",
       "    <tr>\n",
       "      <th>freq</th>\n",
       "      <td>1416</td>\n",
       "      <td>1416</td>\n",
       "      <td>1416</td>\n",
       "    </tr>\n",
       "  </tbody>\n",
       "</table>\n",
       "</div>"
      ],
      "text/plain": [
       "         Zone  Année Valeur\n",
       "count    1416   1416   1416\n",
       "unique      1      1      1\n",
       "top     False  False  False\n",
       "freq     1416   1416   1416"
      ]
     },
     "execution_count": 17,
     "metadata": {},
     "output_type": "execute_result"
    }
   ],
   "source": [
    "pop_pays.isna().describe()"
   ]
  },
  {
   "cell_type": "code",
   "execution_count": 168,
   "id": "8d4078a0",
   "metadata": {},
   "outputs": [],
   "source": [
    "pop_pays_2017 = pop_pays[pop_pays['Année'] == 2017][['Zone','Valeur']]"
   ]
  },
  {
   "cell_type": "markdown",
   "id": "15934b46",
   "metadata": {},
   "source": [
    "## 1.3 How to deal with missing values"
   ]
  },
  {
   "cell_type": "markdown",
   "id": "21c1c4cf",
   "metadata": {},
   "source": [
    "### 1.3.1 Food Unsecurity's data set"
   ]
  },
  {
   "cell_type": "code",
   "execution_count": 19,
   "id": "68ff6e87",
   "metadata": {},
   "outputs": [
    {
     "data": {
      "text/plain": [
       "Zone      object\n",
       "Année     object\n",
       "Valeur    object\n",
       "dtype: object"
      ]
     },
     "execution_count": 19,
     "metadata": {},
     "output_type": "execute_result"
    }
   ],
   "source": [
    "# Le nombre totale de personne en sous nutrition \n",
    "col_types = {'Zone' : str, 'Année' : str, 'Valeur' : np.float64}\n",
    "sous_alim.dtypes"
   ]
  },
  {
   "cell_type": "code",
   "execution_count": 20,
   "id": "662f6b34",
   "metadata": {},
   "outputs": [],
   "source": [
    "# convert string into float\n",
    "def convert_string_to_float(value):\n",
    "    \n",
    "    if value == '<0.1':\n",
    "        return 0.1\n",
    "    else :\n",
    "        return np.float64(value)\n",
    "    "
   ]
  },
  {
   "cell_type": "code",
   "execution_count": 21,
   "id": "3b5a0548",
   "metadata": {},
   "outputs": [
    {
     "data": {
      "text/plain": [
       "0.19230769230769232"
      ]
     },
     "execution_count": 21,
     "metadata": {},
     "output_type": "execute_result"
    }
   ],
   "source": [
    "# proportion d'occurence '<0.1' dans Valeur \n",
    "sous_alim['Valeur'][sous_alim['Valeur'] == '<0.1'].count() / sous_alim['Valeur'].count()"
   ]
  },
  {
   "cell_type": "code",
   "execution_count": 22,
   "id": "583a6b90",
   "metadata": {},
   "outputs": [],
   "source": [
    "# Delete country with unnourished pop missing values\n",
    "sous_alim['Valeur'] = pd.to_numeric(sous_alim['Valeur'], errors = 'coerce')\n",
    "sous_alim.dropna(inplace = True)\n"
   ]
  },
  {
   "cell_type": "code",
   "execution_count": 23,
   "id": "ea3ceacb",
   "metadata": {},
   "outputs": [],
   "source": [
    "# Replace unnourished pop's value '<0.1' by 0.1\n",
    "## sous_alim['Valeur'] = sous_alim['Valeur'].apply(convert_string_to_float)\n",
    "## sous_alim.dropna(inplace=True)"
   ]
  },
  {
   "cell_type": "code",
   "execution_count": 24,
   "id": "89949995",
   "metadata": {},
   "outputs": [],
   "source": [
    "# Saving cleaning data a do a copy\n",
    "sous_alim_copy = sous_alim.copy()"
   ]
  },
  {
   "cell_type": "markdown",
   "id": "e724c520",
   "metadata": {},
   "source": [
    "### 1.3.2 global food stock data"
   ]
  },
  {
   "cell_type": "code",
   "execution_count": 25,
   "id": "94ea8e06",
   "metadata": {},
   "outputs": [],
   "source": [
    "# Suppression des lignes entièrement nulles\n",
    "\n",
    "dispo_alim.dropna(axis = 1, how='all') # drop des colonnes entièrement nulles\n",
    "dispo_alim = dispo_alim.replace(0, np.nan).dropna(how = 'all' , subset = dispo_alim.columns[3:])\n",
    "dispo_alim.replace(np.nan, 0, inplace=True) # On assume que toutes les valeurs manquantes soient nulles"
   ]
  },
  {
   "cell_type": "markdown",
   "id": "0cfebd72",
   "metadata": {},
   "source": [
    "## 2.1 Unnourished people proportion in 2017"
   ]
  },
  {
   "cell_type": "code",
   "execution_count": 26,
   "id": "036605e9",
   "metadata": {},
   "outputs": [],
   "source": [
    "# La population mondiale en 2017\n",
    "tot_pop = pop_pays['Valeur'][pop_pays['Année'] == 2017].sum()"
   ]
  },
  {
   "cell_type": "code",
   "execution_count": 27,
   "id": "1f994317",
   "metadata": {},
   "outputs": [],
   "source": [
    "# Population total en sous nutrition\n",
    "tot_pop_sous_alim = sous_alim_copy['Valeur'][sous_alim_copy['Année'] == '2016-2018'].sum()*1000"
   ]
  },
  {
   "cell_type": "code",
   "execution_count": 28,
   "id": "15d6e5f9",
   "metadata": {},
   "outputs": [
    {
     "data": {
      "text/plain": [
       "535700.0"
      ]
     },
     "execution_count": 28,
     "metadata": {},
     "output_type": "execute_result"
    }
   ],
   "source": [
    "tot_pop_sous_alim"
   ]
  },
  {
   "cell_type": "code",
   "execution_count": 29,
   "id": "22547da6",
   "metadata": {},
   "outputs": [],
   "source": [
    "prop_sous_alim = tot_pop_sous_alim / tot_pop"
   ]
  },
  {
   "cell_type": "code",
   "execution_count": 30,
   "id": "07d88e70",
   "metadata": {},
   "outputs": [
    {
     "data": {
      "text/plain": [
       "0.07097118203283073"
      ]
     },
     "execution_count": 30,
     "metadata": {},
     "output_type": "execute_result"
    }
   ],
   "source": [
    "prop_sous_alim"
   ]
  },
  {
   "cell_type": "markdown",
   "id": "4799824d",
   "metadata": {},
   "source": [
    "## Visuel"
   ]
  },
  {
   "cell_type": "code",
   "execution_count": 31,
   "id": "43ffa5db",
   "metadata": {},
   "outputs": [],
   "source": [
    "size_prop_sous = [prop_sous_alim, 1-prop_sous_alim]"
   ]
  },
  {
   "cell_type": "code",
   "execution_count": 32,
   "id": "46b3f95b",
   "metadata": {},
   "outputs": [],
   "source": [
    "ranking_sous_alim_pays = sous_alim_copy[sous_alim_copy['Année'] == '2016-2018'][['Zone','Valeur']].sort_values(by='Valeur',ascending=False).head(10)"
   ]
  },
  {
   "cell_type": "code",
   "execution_count": 33,
   "id": "911d186d",
   "metadata": {},
   "outputs": [
    {
     "data": {
      "image/png": "[encoded data removed]",
      "text/plain": [
       "<Figure size 432x288 with 1 Axes>"
      ]
     },
     "metadata": {},
     "output_type": "display_data"
    }
   ],
   "source": [
    "\n",
    "plt.pie(size_prop_sous, labels=['Pop sous alimentée', 'Pop en suffisance alimentaire'], explode = (0.2,0), autopct='%1.1f%%', shadow = True)\n",
    "plt.legend(loc='upper right')\n",
    "plt.title(label = \"Unnourished people's proportion\")\n",
    "plt.show()"
   ]
  },
  {
   "cell_type": "code",
   "execution_count": 34,
   "id": "dd324319",
   "metadata": {},
   "outputs": [],
   "source": [
    "sous_alim_pop_total = sous_alim_copy[sous_alim_copy['Année'] == '2016-2018']['Valeur'].sum()\n",
    "size = list(ranking_sous_alim_pays.Valeur/sous_alim_pop_total)\n",
    "autre_country = 1 - sum(size)"
   ]
  },
  {
   "cell_type": "code",
   "execution_count": 35,
   "id": "f48d153b",
   "metadata": {},
   "outputs": [],
   "source": [
    "labels = [str(int(pos)) + '. ' + label for (pos, label) in zip (np.linspace(1,10,10),list(ranking_sous_alim_pays.Zone))]\n",
    "size.insert(0, autre_country)\n",
    "labels.insert(0, 'autres')"
   ]
  },
  {
   "cell_type": "code",
   "execution_count": 36,
   "id": "7ac7bfc9",
   "metadata": {},
   "outputs": [
    {
     "data": {
      "image/png": "[encoded data removed]",
      "text/plain": [
       "<Figure size 360x432 with 1 Axes>"
      ]
     },
     "metadata": {},
     "output_type": "display_data"
    }
   ],
   "source": [
    "explode = [0 for i in range(1,12)]\n",
    "explode[1] = 0.1\n",
    "fig1, ax1  = plt.subplots(figsize=(5,6), subplot_kw=dict(aspect=\"equal\"))\n",
    "ax1.pie(size, labels=labels, autopct='%1.1f%%',\n",
    "       shadow = True, textprops=dict(color=\"w\", weight=\"bold\"), explode = explode)\n",
    "ax1.set_title(\"10 most unnourished countries in the world\")\n",
    "ax1.legend(labels,\n",
    "        loc='center left',        \n",
    "        bbox_to_anchor=(1, 0, 0.5, 1))\n",
    "plt.show()\n"
   ]
  },
  {
   "cell_type": "markdown",
   "id": "a8042d72",
   "metadata": {},
   "source": [
    "## 2.2 Volume of people which can be fooded with global food stock"
   ]
  },
  {
   "cell_type": "code",
   "execution_count": 37,
   "id": "2170fce1",
   "metadata": {},
   "outputs": [],
   "source": [
    "dispo_alim_copy = dispo_alim.copy()"
   ]
  },
  {
   "cell_type": "code",
   "execution_count": 38,
   "id": "2bbad096",
   "metadata": {},
   "outputs": [
    {
     "data": {
      "text/html": [
       "<div>\n",
       "<style scoped>\n",
       "    .dataframe tbody tr th:only-of-type {\n",
       "        vertical-align: middle;\n",
       "    }\n",
       "\n",
       "    .dataframe tbody tr th {\n",
       "        vertical-align: top;\n",
       "    }\n",
       "\n",
       "    .dataframe thead th {\n",
       "        text-align: right;\n",
       "    }\n",
       "</style>\n",
       "<table border=\"1\" class=\"dataframe\">\n",
       "  <thead>\n",
       "    <tr style=\"text-align: right;\">\n",
       "      <th></th>\n",
       "      <th>Aliments pour animaux</th>\n",
       "      <th>Autres Utilisations</th>\n",
       "      <th>Disponibilité alimentaire (Kcal/personne/jour)</th>\n",
       "      <th>Disponibilité alimentaire en quantité (kg/personne/an)</th>\n",
       "      <th>Disponibilité de matière grasse en quantité (g/personne/jour)</th>\n",
       "      <th>Disponibilité de protéines en quantité (g/personne/jour)</th>\n",
       "      <th>Disponibilité intérieure</th>\n",
       "      <th>Exportations - Quantité</th>\n",
       "      <th>Importations - Quantité</th>\n",
       "      <th>Nourriture</th>\n",
       "      <th>Pertes</th>\n",
       "      <th>Production</th>\n",
       "      <th>Semences</th>\n",
       "      <th>Traitement</th>\n",
       "      <th>Variation de stock</th>\n",
       "    </tr>\n",
       "  </thead>\n",
       "  <tbody>\n",
       "    <tr>\n",
       "      <th>count</th>\n",
       "      <td>13484.000000</td>\n",
       "      <td>13484.000000</td>\n",
       "      <td>13484.000000</td>\n",
       "      <td>13484.000000</td>\n",
       "      <td>13484.000000</td>\n",
       "      <td>13484.000000</td>\n",
       "      <td>13484.000000</td>\n",
       "      <td>13484.000000</td>\n",
       "      <td>13484.000000</td>\n",
       "      <td>13484.000000</td>\n",
       "      <td>13484.000000</td>\n",
       "      <td>13484.000000</td>\n",
       "      <td>13484.000000</td>\n",
       "      <td>13484.000000</td>\n",
       "      <td>13484.000000</td>\n",
       "    </tr>\n",
       "    <tr>\n",
       "      <th>mean</th>\n",
       "      <td>96.725378</td>\n",
       "      <td>64.151810</td>\n",
       "      <td>36.742955</td>\n",
       "      <td>9.062737</td>\n",
       "      <td>1.122294</td>\n",
       "      <td>1.049105</td>\n",
       "      <td>730.420795</td>\n",
       "      <td>100.278701</td>\n",
       "      <td>96.117843</td>\n",
       "      <td>361.632898</td>\n",
       "      <td>33.647137</td>\n",
       "      <td>742.337585</td>\n",
       "      <td>11.471448</td>\n",
       "      <td>163.503931</td>\n",
       "      <td>-7.742658</td>\n",
       "    </tr>\n",
       "    <tr>\n",
       "      <th>std</th>\n",
       "      <td>1913.796919</td>\n",
       "      <td>3241.925642</td>\n",
       "      <td>109.932409</td>\n",
       "      <td>25.036236</td>\n",
       "      <td>3.468144</td>\n",
       "      <td>3.359549</td>\n",
       "      <td>9681.060826</td>\n",
       "      <td>1003.492965</td>\n",
       "      <td>752.320985</td>\n",
       "      <td>4562.443550</td>\n",
       "      <td>628.858147</td>\n",
       "      <td>9969.682766</td>\n",
       "      <td>209.625139</td>\n",
       "      <td>4294.713597</td>\n",
       "      <td>389.832663</td>\n",
       "    </tr>\n",
       "    <tr>\n",
       "      <th>min</th>\n",
       "      <td>0.000000</td>\n",
       "      <td>0.000000</td>\n",
       "      <td>-21.000000</td>\n",
       "      <td>-1.930000</td>\n",
       "      <td>-0.030000</td>\n",
       "      <td>-0.370000</td>\n",
       "      <td>-3430.000000</td>\n",
       "      <td>-41.000000</td>\n",
       "      <td>-201.000000</td>\n",
       "      <td>-246.000000</td>\n",
       "      <td>0.000000</td>\n",
       "      <td>0.000000</td>\n",
       "      <td>0.000000</td>\n",
       "      <td>-19.000000</td>\n",
       "      <td>-39863.000000</td>\n",
       "    </tr>\n",
       "    <tr>\n",
       "      <th>25%</th>\n",
       "      <td>0.000000</td>\n",
       "      <td>0.000000</td>\n",
       "      <td>0.000000</td>\n",
       "      <td>0.090000</td>\n",
       "      <td>0.000000</td>\n",
       "      <td>0.000000</td>\n",
       "      <td>1.000000</td>\n",
       "      <td>0.000000</td>\n",
       "      <td>0.000000</td>\n",
       "      <td>0.000000</td>\n",
       "      <td>0.000000</td>\n",
       "      <td>0.000000</td>\n",
       "      <td>0.000000</td>\n",
       "      <td>0.000000</td>\n",
       "      <td>0.000000</td>\n",
       "    </tr>\n",
       "    <tr>\n",
       "      <th>50%</th>\n",
       "      <td>0.000000</td>\n",
       "      <td>0.000000</td>\n",
       "      <td>5.000000</td>\n",
       "      <td>0.960000</td>\n",
       "      <td>0.040000</td>\n",
       "      <td>0.050000</td>\n",
       "      <td>12.000000</td>\n",
       "      <td>0.000000</td>\n",
       "      <td>2.000000</td>\n",
       "      <td>6.000000</td>\n",
       "      <td>0.000000</td>\n",
       "      <td>2.000000</td>\n",
       "      <td>0.000000</td>\n",
       "      <td>0.000000</td>\n",
       "      <td>0.000000</td>\n",
       "    </tr>\n",
       "    <tr>\n",
       "      <th>75%</th>\n",
       "      <td>0.000000</td>\n",
       "      <td>0.000000</td>\n",
       "      <td>23.000000</td>\n",
       "      <td>5.622500</td>\n",
       "      <td>0.450000</td>\n",
       "      <td>0.490000</td>\n",
       "      <td>105.000000</td>\n",
       "      <td>6.000000</td>\n",
       "      <td>22.000000</td>\n",
       "      <td>58.000000</td>\n",
       "      <td>0.000000</td>\n",
       "      <td>66.000000</td>\n",
       "      <td>0.000000</td>\n",
       "      <td>0.000000</td>\n",
       "      <td>0.000000</td>\n",
       "    </tr>\n",
       "    <tr>\n",
       "      <th>max</th>\n",
       "      <td>150000.000000</td>\n",
       "      <td>347309.000000</td>\n",
       "      <td>1711.000000</td>\n",
       "      <td>430.760000</td>\n",
       "      <td>60.760000</td>\n",
       "      <td>54.970000</td>\n",
       "      <td>739267.000000</td>\n",
       "      <td>42797.000000</td>\n",
       "      <td>63381.000000</td>\n",
       "      <td>426850.000000</td>\n",
       "      <td>55047.000000</td>\n",
       "      <td>739267.000000</td>\n",
       "      <td>17060.000000</td>\n",
       "      <td>326711.000000</td>\n",
       "      <td>5284.000000</td>\n",
       "    </tr>\n",
       "  </tbody>\n",
       "</table>\n",
       "</div>"
      ],
      "text/plain": [
       "       Aliments pour animaux  Autres Utilisations  \\\n",
       "count           13484.000000         13484.000000   \n",
       "mean               96.725378            64.151810   \n",
       "std              1913.796919          3241.925642   \n",
       "min                 0.000000             0.000000   \n",
       "25%                 0.000000             0.000000   \n",
       "50%                 0.000000             0.000000   \n",
       "75%                 0.000000             0.000000   \n",
       "max            150000.000000        347309.000000   \n",
       "\n",
       "       Disponibilité alimentaire (Kcal/personne/jour)  \\\n",
       "count                                    13484.000000   \n",
       "mean                                        36.742955   \n",
       "std                                        109.932409   \n",
       "min                                        -21.000000   \n",
       "25%                                          0.000000   \n",
       "50%                                          5.000000   \n",
       "75%                                         23.000000   \n",
       "max                                       1711.000000   \n",
       "\n",
       "       Disponibilité alimentaire en quantité (kg/personne/an)  \\\n",
       "count                                       13484.000000        \n",
       "mean                                            9.062737        \n",
       "std                                            25.036236        \n",
       "min                                            -1.930000        \n",
       "25%                                             0.090000        \n",
       "50%                                             0.960000        \n",
       "75%                                             5.622500        \n",
       "max                                           430.760000        \n",
       "\n",
       "       Disponibilité de matière grasse en quantité (g/personne/jour)  \\\n",
       "count                                       13484.000000               \n",
       "mean                                            1.122294               \n",
       "std                                             3.468144               \n",
       "min                                            -0.030000               \n",
       "25%                                             0.000000               \n",
       "50%                                             0.040000               \n",
       "75%                                             0.450000               \n",
       "max                                            60.760000               \n",
       "\n",
       "       Disponibilité de protéines en quantité (g/personne/jour)  \\\n",
       "count                                       13484.000000          \n",
       "mean                                            1.049105          \n",
       "std                                             3.359549          \n",
       "min                                            -0.370000          \n",
       "25%                                             0.000000          \n",
       "50%                                             0.050000          \n",
       "75%                                             0.490000          \n",
       "max                                            54.970000          \n",
       "\n",
       "       Disponibilité intérieure  Exportations - Quantité  \\\n",
       "count              13484.000000             13484.000000   \n",
       "mean                 730.420795               100.278701   \n",
       "std                 9681.060826              1003.492965   \n",
       "min                -3430.000000               -41.000000   \n",
       "25%                    1.000000                 0.000000   \n",
       "50%                   12.000000                 0.000000   \n",
       "75%                  105.000000                 6.000000   \n",
       "max               739267.000000             42797.000000   \n",
       "\n",
       "       Importations - Quantité     Nourriture        Pertes     Production  \\\n",
       "count             13484.000000   13484.000000  13484.000000   13484.000000   \n",
       "mean                 96.117843     361.632898     33.647137     742.337585   \n",
       "std                 752.320985    4562.443550    628.858147    9969.682766   \n",
       "min                -201.000000    -246.000000      0.000000       0.000000   \n",
       "25%                   0.000000       0.000000      0.000000       0.000000   \n",
       "50%                   2.000000       6.000000      0.000000       2.000000   \n",
       "75%                  22.000000      58.000000      0.000000      66.000000   \n",
       "max               63381.000000  426850.000000  55047.000000  739267.000000   \n",
       "\n",
       "           Semences     Traitement  Variation de stock  \n",
       "count  13484.000000   13484.000000        13484.000000  \n",
       "mean      11.471448     163.503931           -7.742658  \n",
       "std      209.625139    4294.713597          389.832663  \n",
       "min        0.000000     -19.000000       -39863.000000  \n",
       "25%        0.000000       0.000000            0.000000  \n",
       "50%        0.000000       0.000000            0.000000  \n",
       "75%        0.000000       0.000000            0.000000  \n",
       "max    17060.000000  326711.000000         5284.000000  "
      ]
     },
     "execution_count": 38,
     "metadata": {},
     "output_type": "execute_result"
    }
   ],
   "source": [
    "dispo_alim_copy.describe()"
   ]
  },
  {
   "cell_type": "code",
   "execution_count": 39,
   "id": "cba7dedc",
   "metadata": {},
   "outputs": [],
   "source": [
    "volume_dispo_global = dispo_alim_copy['Disponibilité alimentaire (Kcal/personne/jour)'].sum()"
   ]
  },
  {
   "cell_type": "code",
   "execution_count": 40,
   "id": "7a07f6ba",
   "metadata": {
    "scrolled": true
   },
   "outputs": [],
   "source": [
    "dispo_alim_total_pays = dispo_alim_copy[['Zone', 'Disponibilité alimentaire (Kcal/personne/jour)']].groupby('Zone').sum().reset_index()"
   ]
  },
  {
   "cell_type": "code",
   "execution_count": 41,
   "id": "20a3617f",
   "metadata": {},
   "outputs": [],
   "source": [
    "capacite_alim_pays = dispo_alim_total_pays.join(pop_pays_2017.set_index('Zone'), 'Zone').rename({'Disponibilité alimentaire (Kcal/personne/jour)' : 'Disponibilité alimentaire totale (Kcal/personne/jour)'})"
   ]
  },
  {
   "cell_type": "code",
   "execution_count": 42,
   "id": "d5dfd9b9",
   "metadata": {},
   "outputs": [],
   "source": [
    "capacite_alim_pays['Disponibilité alimentaire totale'] = capacite_alim_pays['Disponibilité alimentaire (Kcal/personne/jour)'] * capacite_alim_pays['Valeur'] * 1000"
   ]
  },
  {
   "cell_type": "code",
   "execution_count": 43,
   "id": "45d3e375",
   "metadata": {},
   "outputs": [],
   "source": [
    "# Disponibilité alimentaire mondiale en Kcal\n",
    "dispo_alim_total = capacite_alim_pays['Disponibilité alimentaire totale'].sum()\n",
    "# Apport journalier d'une personne adulte estimé à 2500 Kcal\n",
    "nb_theorique_pers = dispo_alim_total / 2500"
   ]
  },
  {
   "cell_type": "code",
   "execution_count": 44,
   "id": "132a9768",
   "metadata": {},
   "outputs": [
    {
     "data": {
      "text/plain": [
       "8367593850.9324"
      ]
     },
     "execution_count": 44,
     "metadata": {},
     "output_type": "execute_result"
    }
   ],
   "source": [
    "nb_theorique_pers"
   ]
  },
  {
   "cell_type": "markdown",
   "id": "5b5f847c",
   "metadata": {},
   "source": [
    "## 2.3 Number of people which can be fooded with vegetables"
   ]
  },
  {
   "cell_type": "code",
   "execution_count": 45,
   "id": "424b4c90",
   "metadata": {},
   "outputs": [],
   "source": [
    "dispo_alim_total_pays_vege = dispo_alim[dispo_alim['Origine'] == 'vegetale'][['Zone','Disponibilité alimentaire (Kcal/personne/jour)']].groupby('Zone').sum().reset_index()"
   ]
  },
  {
   "cell_type": "code",
   "execution_count": 46,
   "id": "51c14194",
   "metadata": {},
   "outputs": [],
   "source": [
    "capacite_alim_pays_vege = dispo_alim_total_pays_vege.join(pop_pays_2017.set_index('Zone'), 'Zone')"
   ]
  },
  {
   "cell_type": "code",
   "execution_count": 47,
   "id": "7442d4b5",
   "metadata": {},
   "outputs": [],
   "source": [
    "capacite_alim_pays_vege['Disponibilité Alimentaire totale'] = capacite_alim_pays_vege['Disponibilité alimentaire (Kcal/personne/jour)'] * capacite_alim_pays_vege['Valeur'] * 1000\n",
    "dispo_total_alim_vege = capacite_alim_pays_vege['Disponibilité Alimentaire totale'].sum()\n",
    "nb_theorique_pers_vege = dispo_total_alim_vege / 2500"
   ]
  },
  {
   "cell_type": "code",
   "execution_count": 48,
   "id": "ba7e3d8c",
   "metadata": {},
   "outputs": [
    {
     "data": {
      "text/plain": [
       "6904305684.6004"
      ]
     },
     "execution_count": 48,
     "metadata": {},
     "output_type": "execute_result"
    }
   ],
   "source": [
    "nb_theorique_pers_vege"
   ]
  },
  {
   "cell_type": "code",
   "execution_count": 49,
   "id": "0314eee0",
   "metadata": {},
   "outputs": [
    {
     "data": {
      "image/png": "[encoded data removed]",
      "text/plain": [
       "<Figure size 432x288 with 1 Axes>"
      ]
     },
     "metadata": {},
     "output_type": "display_data"
    }
   ],
   "source": [
    "prop_dispo_alim_animal = (dispo_alim_total - dispo_total_alim_vege)/ dispo_alim_total\n",
    "prop_dispo_alim_vege = dispo_total_alim_vege / dispo_alim_total\n",
    "plt.pie([prop_dispo_alim_vege, prop_dispo_alim_animal], labels=[\"Animal's food\",\"Vegetal's food\"], shadow=True, autopct='%1.1f%%')\n",
    "plt.title(\"Food Catagories world repartition\")\n",
    "plt.show()"
   ]
  },
  {
   "cell_type": "code",
   "execution_count": 50,
   "id": "24459d20",
   "metadata": {},
   "outputs": [],
   "source": [
    "# écrire une fonction pour scaler le résultat produit végétale et produit animale\n",
    "\n",
    "def get_theorical_number(dispo_alim : pd.DataFrame, pop_pays : pd.DataFrame, origine='all') -> float :\n",
    "        \n",
    "        if origine != 'all':\n",
    "            dispo_alim_pays = dispo_alim[dispo_alim['Origine'] == origine][['Zone', 'Disponibilité alimentaire (Kcal/personne/jour)']].groupby('Zone').sum()\n",
    "        else :\n",
    "            dispo_alim_pays = dispo_alim[['Zone', 'Disponibilité alimentaire (Kcal/personne/jour)']].groupby('Zone').sum()\n",
    "        capacite_alim_pays = pop_pays.join(dispo_alim_pays, 'Zone')\n",
    "        capacite_alim_pays['Disponibilité alimentaire totale'] = capacite_alim_pays['Disponibilité alimentaire (Kcal/personne/jour)'] * capacite_alim_pays['Valeur'] * 1000\n",
    "        dispo_totale_alim = capacite_alim_pays['Disponibilité alimentaire totale'].sum()\n",
    "        theorical_number = dispo_totale_alim / 2500\n",
    "        return theorical_number"
   ]
  },
  {
   "cell_type": "code",
   "execution_count": 51,
   "id": "7d335014",
   "metadata": {},
   "outputs": [
    {
     "data": {
      "text/plain": [
       "8367593850.9324"
      ]
     },
     "execution_count": 51,
     "metadata": {},
     "output_type": "execute_result"
    }
   ],
   "source": [
    "get_theorical_number(dispo_alim, pop_pays_2017)"
   ]
  },
  {
   "cell_type": "markdown",
   "id": "23241ac1",
   "metadata": {},
   "source": [
    "## 2.4 The use of the global food stock "
   ]
  },
  {
   "cell_type": "code",
   "execution_count": 52,
   "id": "c11880b8",
   "metadata": {},
   "outputs": [],
   "source": [
    "#disp_int = Utilisation + perte \n",
    "#disp_int = importation + production  - exportation (Acquisition) + variation de stock"
   ]
  },
  {
   "cell_type": "code",
   "execution_count": 53,
   "id": "eba33c2a",
   "metadata": {},
   "outputs": [],
   "source": [
    "dispo_alim_copy['Disponibilité intérieure'] = dispo_alim_copy['Disponibilité intérieure'].replace(0, np.nan)\n",
    "dispo_alim_copy.dropna(how = 'all', subset = ['Disponibilité intérieure'], inplace = True)"
   ]
  },
  {
   "cell_type": "code",
   "execution_count": 54,
   "id": "b9ad6ea8",
   "metadata": {},
   "outputs": [
    {
     "data": {
      "text/plain": [
       "9848994.0"
      ]
     },
     "execution_count": 54,
     "metadata": {},
     "output_type": "execute_result"
    }
   ],
   "source": [
    "dispo_alim_copy['Disponibilité intérieure'].sum()"
   ]
  },
  {
   "cell_type": "code",
   "execution_count": 55,
   "id": "d6ea2e7e",
   "metadata": {},
   "outputs": [],
   "source": [
    "somme_utilisation = dispo_alim_copy[['Aliments pour animaux','Nourriture','Pertes', 'Autres Utilisations','Semences','Traitement']].sum()"
   ]
  },
  {
   "cell_type": "code",
   "execution_count": 56,
   "id": "f518ac22",
   "metadata": {},
   "outputs": [
    {
     "data": {
      "text/plain": [
       "9849113.0"
      ]
     },
     "execution_count": 56,
     "metadata": {},
     "output_type": "execute_result"
    }
   ],
   "source": [
    "sum(dispo_alim_copy[['Importations - Quantité', 'Production', 'Variation de stock']].sum()) - dispo_alim_copy['Exportations - Quantité'].sum()\n"
   ]
  },
  {
   "cell_type": "code",
   "execution_count": 57,
   "id": "4a875742",
   "metadata": {},
   "outputs": [
    {
     "data": {
      "text/plain": [
       "9858548.0"
      ]
     },
     "execution_count": 57,
     "metadata": {},
     "output_type": "execute_result"
    }
   ],
   "source": [
    "sum(dispo_alim_copy[['Aliments pour animaux', 'Autres Utilisations','Nourriture', 'Semences', 'Traitement', 'Pertes']].sum())"
   ]
  },
  {
   "cell_type": "code",
   "execution_count": 58,
   "id": "a21f49b5",
   "metadata": {},
   "outputs": [
    {
     "data": {
      "text/plain": [
       "array([1304245., 4876216.,  453698.])"
      ]
     },
     "execution_count": 58,
     "metadata": {},
     "output_type": "execute_result"
    }
   ],
   "source": [
    "somme_utilisation[0:3].values"
   ]
  },
  {
   "cell_type": "code",
   "execution_count": 59,
   "id": "76ef2091",
   "metadata": {},
   "outputs": [],
   "source": [
    "prop_value = np.append(somme_utilisation[0:3], np.sum(somme_utilisation[3:].values))"
   ]
  },
  {
   "cell_type": "code",
   "execution_count": 60,
   "id": "f649c54f",
   "metadata": {},
   "outputs": [
    {
     "data": {
      "text/plain": [
       "array([0.13229585, 0.49461807, 0.04602077, 0.3270653 ])"
      ]
     },
     "execution_count": 60,
     "metadata": {},
     "output_type": "execute_result"
    }
   ],
   "source": [
    "prop_value / np.sum(prop_value)"
   ]
  },
  {
   "cell_type": "code",
   "execution_count": 61,
   "id": "fff52da0",
   "metadata": {},
   "outputs": [],
   "source": [
    "def func(pct):\n",
    "    dispo_alim_totale = dispo_alim_copy['Disponibilité intérieure'].sum()\n",
    "    absolute = int(np.round(pct/100. * dispo_alim_totale))\n",
    "    return \"{:.1f}%\\n({:d} m.t)\".format(pct, absolute)"
   ]
  },
  {
   "cell_type": "code",
   "execution_count": 62,
   "id": "88a03ff8",
   "metadata": {},
   "outputs": [
    {
     "data": {
      "text/plain": [
       "<function __main__.<lambda>(pct, allvalls)>"
      ]
     },
     "execution_count": 62,
     "metadata": {},
     "output_type": "execute_result"
    }
   ],
   "source": [
    "lambda pct, allvalls : func(pct,allvals)"
   ]
  },
  {
   "cell_type": "code",
   "execution_count": 63,
   "id": "169d6a24",
   "metadata": {
    "scrolled": true
   },
   "outputs": [
    {
     "data": {
      "image/png": "[encoded data removed]",
      "text/plain": [
       "<Figure size 432x720 with 1 Axes>"
      ]
     },
     "metadata": {},
     "output_type": "display_data"
    }
   ],
   "source": [
    "np.sum(dispo_alim_copy[0:3])\n",
    "prop_dispo_alim = prop_value / np.sum(prop_value)\n",
    "plt.figure(figsize=(6,10))\n",
    "plt.pie(x=prop_dispo_alim,\n",
    "        labels= ['Aliments pour animaux', 'Nourriture', 'Pertes','Autres'], \n",
    "        shadow = True,\n",
    "        autopct = lambda pct : func(pct),\n",
    "        textprops=dict(color=\"black\", size=\"10\"),\n",
    "        explode = [0.1,0.1,0.1,0.1]\n",
    "       )\n",
    "plt.title(\"The use of global food stock\")\n",
    "plt.show()"
   ]
  },
  {
   "cell_type": "markdown",
   "id": "f4c22bbc",
   "metadata": {},
   "source": [
    "# 3. Compute data for answering to Mélanie's requests"
   ]
  },
  {
   "cell_type": "markdown",
   "id": "e977fedd",
   "metadata": {},
   "source": [
    "## 3.1.1 Top of Unnourished people proportion's by Country in 2017"
   ]
  },
  {
   "cell_type": "code",
   "execution_count": 64,
   "id": "705e0249",
   "metadata": {},
   "outputs": [],
   "source": [
    "pop_pays_2017_copy = pop_pays_2017.copy()\n",
    "sous_alim_copy = sous_alim.copy()"
   ]
  },
  {
   "cell_type": "code",
   "execution_count": 65,
   "id": "727e0776",
   "metadata": {},
   "outputs": [
    {
     "data": {
      "text/html": [
       "<div>\n",
       "<style scoped>\n",
       "    .dataframe tbody tr th:only-of-type {\n",
       "        vertical-align: middle;\n",
       "    }\n",
       "\n",
       "    .dataframe tbody tr th {\n",
       "        vertical-align: top;\n",
       "    }\n",
       "\n",
       "    .dataframe thead th {\n",
       "        text-align: right;\n",
       "    }\n",
       "</style>\n",
       "<table border=\"1\" class=\"dataframe\">\n",
       "  <thead>\n",
       "    <tr style=\"text-align: right;\">\n",
       "      <th></th>\n",
       "      <th>Zone</th>\n",
       "      <th>Valeur</th>\n",
       "    </tr>\n",
       "  </thead>\n",
       "  <tbody>\n",
       "    <tr>\n",
       "      <th>4</th>\n",
       "      <td>Afghanistan</td>\n",
       "      <td>36296.113</td>\n",
       "    </tr>\n",
       "    <tr>\n",
       "      <th>10</th>\n",
       "      <td>Afrique du Sud</td>\n",
       "      <td>57009.756</td>\n",
       "    </tr>\n",
       "    <tr>\n",
       "      <th>16</th>\n",
       "      <td>Albanie</td>\n",
       "      <td>2884.169</td>\n",
       "    </tr>\n",
       "    <tr>\n",
       "      <th>22</th>\n",
       "      <td>Algérie</td>\n",
       "      <td>41389.189</td>\n",
       "    </tr>\n",
       "    <tr>\n",
       "      <th>28</th>\n",
       "      <td>Allemagne</td>\n",
       "      <td>82658.409</td>\n",
       "    </tr>\n",
       "    <tr>\n",
       "      <th>...</th>\n",
       "      <td>...</td>\n",
       "      <td>...</td>\n",
       "    </tr>\n",
       "    <tr>\n",
       "      <th>1390</th>\n",
       "      <td>Venezuela (République bolivarienne du)</td>\n",
       "      <td>29402.484</td>\n",
       "    </tr>\n",
       "    <tr>\n",
       "      <th>1396</th>\n",
       "      <td>Viet Nam</td>\n",
       "      <td>94600.648</td>\n",
       "    </tr>\n",
       "    <tr>\n",
       "      <th>1402</th>\n",
       "      <td>Yémen</td>\n",
       "      <td>27834.819</td>\n",
       "    </tr>\n",
       "    <tr>\n",
       "      <th>1408</th>\n",
       "      <td>Zambie</td>\n",
       "      <td>16853.599</td>\n",
       "    </tr>\n",
       "    <tr>\n",
       "      <th>1414</th>\n",
       "      <td>Zimbabwe</td>\n",
       "      <td>14236.595</td>\n",
       "    </tr>\n",
       "  </tbody>\n",
       "</table>\n",
       "<p>236 rows × 2 columns</p>\n",
       "</div>"
      ],
      "text/plain": [
       "                                        Zone     Valeur\n",
       "4                                Afghanistan  36296.113\n",
       "10                            Afrique du Sud  57009.756\n",
       "16                                   Albanie   2884.169\n",
       "22                                   Algérie  41389.189\n",
       "28                                 Allemagne  82658.409\n",
       "...                                      ...        ...\n",
       "1390  Venezuela (République bolivarienne du)  29402.484\n",
       "1396                                Viet Nam  94600.648\n",
       "1402                                   Yémen  27834.819\n",
       "1408                                  Zambie  16853.599\n",
       "1414                                Zimbabwe  14236.595\n",
       "\n",
       "[236 rows x 2 columns]"
      ]
     },
     "execution_count": 65,
     "metadata": {},
     "output_type": "execute_result"
    }
   ],
   "source": [
    "pop_pays_2017_copy[['Zone', 'Valeur']]"
   ]
  },
  {
   "cell_type": "code",
   "execution_count": 66,
   "id": "3253e7f6",
   "metadata": {},
   "outputs": [],
   "source": [
    "sous_alim_copy = sous_alim_copy[sous_alim_copy['Année'] == '2016-2018'][['Zone','Valeur']]"
   ]
  },
  {
   "cell_type": "code",
   "execution_count": 67,
   "id": "be5e43fe",
   "metadata": {},
   "outputs": [],
   "source": [
    "sous_alim_copy.rename(columns={'Valeur' : 'pop_sous_alim'},inplace=True)"
   ]
  },
  {
   "cell_type": "code",
   "execution_count": 68,
   "id": "e6590285",
   "metadata": {},
   "outputs": [],
   "source": [
    "prop_pop_sous_alim = sous_alim_copy.join(pop_pays_2017_copy.set_index('Zone'),'Zone')"
   ]
  },
  {
   "cell_type": "code",
   "execution_count": 69,
   "id": "6bc67c4b",
   "metadata": {},
   "outputs": [],
   "source": [
    "# convertir la population sous alimentée en milliers d'hab\n",
    "prop_pop_sous_alim['pop_sous_alim'] = (prop_pop_sous_alim['pop_sous_alim'] * 1000)"
   ]
  },
  {
   "cell_type": "code",
   "execution_count": 70,
   "id": "4bcd29ef",
   "metadata": {},
   "outputs": [],
   "source": [
    "prop_pop_sous_alim.rename(columns={'Valeur' : 'pop_totale'}, inplace=True)"
   ]
  },
  {
   "cell_type": "code",
   "execution_count": 71,
   "id": "53627694",
   "metadata": {},
   "outputs": [],
   "source": [
    "prop_pop_sous_alim['prop_pop_sous_alim'] = prop_pop_sous_alim['pop_sous_alim'] / prop_pop_sous_alim['pop_totale']"
   ]
  },
  {
   "cell_type": "code",
   "execution_count": 72,
   "id": "8d6abc2a",
   "metadata": {},
   "outputs": [
    {
     "data": {
      "text/html": [
       "<div>\n",
       "<style scoped>\n",
       "    .dataframe tbody tr th:only-of-type {\n",
       "        vertical-align: middle;\n",
       "    }\n",
       "\n",
       "    .dataframe tbody tr th {\n",
       "        vertical-align: top;\n",
       "    }\n",
       "\n",
       "    .dataframe thead th {\n",
       "        text-align: right;\n",
       "    }\n",
       "</style>\n",
       "<table border=\"1\" class=\"dataframe\">\n",
       "  <thead>\n",
       "    <tr style=\"text-align: right;\">\n",
       "      <th></th>\n",
       "      <th>Zone</th>\n",
       "      <th>pop_sous_alim</th>\n",
       "      <th>pop_totale</th>\n",
       "      <th>prop_pop_sous_alim</th>\n",
       "    </tr>\n",
       "  </thead>\n",
       "  <tbody>\n",
       "    <tr>\n",
       "      <th>472</th>\n",
       "      <td>Haïti</td>\n",
       "      <td>5300.0</td>\n",
       "      <td>10982.366</td>\n",
       "      <td>0.482592</td>\n",
       "    </tr>\n",
       "    <tr>\n",
       "      <th>946</th>\n",
       "      <td>République populaire démocratique de Corée</td>\n",
       "      <td>12000.0</td>\n",
       "      <td>25429.825</td>\n",
       "      <td>0.471887</td>\n",
       "    </tr>\n",
       "    <tr>\n",
       "      <th>652</th>\n",
       "      <td>Madagascar</td>\n",
       "      <td>10500.0</td>\n",
       "      <td>25570.512</td>\n",
       "      <td>0.410629</td>\n",
       "    </tr>\n",
       "    <tr>\n",
       "      <th>622</th>\n",
       "      <td>Libéria</td>\n",
       "      <td>1800.0</td>\n",
       "      <td>4702.226</td>\n",
       "      <td>0.382797</td>\n",
       "    </tr>\n",
       "    <tr>\n",
       "      <th>604</th>\n",
       "      <td>Lesotho</td>\n",
       "      <td>800.0</td>\n",
       "      <td>2091.534</td>\n",
       "      <td>0.382494</td>\n",
       "    </tr>\n",
       "    <tr>\n",
       "      <th>1102</th>\n",
       "      <td>Tchad</td>\n",
       "      <td>5700.0</td>\n",
       "      <td>15016.753</td>\n",
       "      <td>0.379576</td>\n",
       "    </tr>\n",
       "    <tr>\n",
       "      <th>970</th>\n",
       "      <td>Rwanda</td>\n",
       "      <td>4200.0</td>\n",
       "      <td>11980.961</td>\n",
       "      <td>0.350556</td>\n",
       "    </tr>\n",
       "    <tr>\n",
       "      <th>730</th>\n",
       "      <td>Mozambique</td>\n",
       "      <td>9400.0</td>\n",
       "      <td>28649.018</td>\n",
       "      <td>0.328109</td>\n",
       "    </tr>\n",
       "    <tr>\n",
       "      <th>1120</th>\n",
       "      <td>Timor-Leste</td>\n",
       "      <td>400.0</td>\n",
       "      <td>1243.258</td>\n",
       "      <td>0.321735</td>\n",
       "    </tr>\n",
       "    <tr>\n",
       "      <th>4</th>\n",
       "      <td>Afghanistan</td>\n",
       "      <td>10500.0</td>\n",
       "      <td>36296.113</td>\n",
       "      <td>0.289287</td>\n",
       "    </tr>\n",
       "    <tr>\n",
       "      <th>268</th>\n",
       "      <td>Congo</td>\n",
       "      <td>1400.0</td>\n",
       "      <td>5110.695</td>\n",
       "      <td>0.273935</td>\n",
       "    </tr>\n",
       "    <tr>\n",
       "      <th>1192</th>\n",
       "      <td>Venezuela (République bolivarienne du)</td>\n",
       "      <td>8000.0</td>\n",
       "      <td>29402.484</td>\n",
       "      <td>0.272086</td>\n",
       "    </tr>\n",
       "  </tbody>\n",
       "</table>\n",
       "</div>"
      ],
      "text/plain": [
       "                                            Zone  pop_sous_alim  pop_totale  \\\n",
       "472                                        Haïti         5300.0   10982.366   \n",
       "946   République populaire démocratique de Corée        12000.0   25429.825   \n",
       "652                                   Madagascar        10500.0   25570.512   \n",
       "622                                      Libéria         1800.0    4702.226   \n",
       "604                                      Lesotho          800.0    2091.534   \n",
       "1102                                       Tchad         5700.0   15016.753   \n",
       "970                                       Rwanda         4200.0   11980.961   \n",
       "730                                   Mozambique         9400.0   28649.018   \n",
       "1120                                 Timor-Leste          400.0    1243.258   \n",
       "4                                    Afghanistan        10500.0   36296.113   \n",
       "268                                        Congo         1400.0    5110.695   \n",
       "1192      Venezuela (République bolivarienne du)         8000.0   29402.484   \n",
       "\n",
       "      prop_pop_sous_alim  \n",
       "472             0.482592  \n",
       "946             0.471887  \n",
       "652             0.410629  \n",
       "622             0.382797  \n",
       "604             0.382494  \n",
       "1102            0.379576  \n",
       "970             0.350556  \n",
       "730             0.328109  \n",
       "1120            0.321735  \n",
       "4               0.289287  \n",
       "268             0.273935  \n",
       "1192            0.272086  "
      ]
     },
     "execution_count": 72,
     "metadata": {},
     "output_type": "execute_result"
    }
   ],
   "source": [
    "prop_pop_sous_alim.sort_values('prop_pop_sous_alim', ascending=False).head(12)"
   ]
  },
  {
   "cell_type": "code",
   "execution_count": 73,
   "id": "65934097",
   "metadata": {},
   "outputs": [
    {
     "data": {
      "text/plain": [
       "<matplotlib.legend.Legend at 0x208b1156eb0>"
      ]
     },
     "execution_count": 73,
     "metadata": {},
     "output_type": "execute_result"
    },
    {
     "data": {
      "image/png": "[encoded data removed]",
      "text/plain": [
       "<Figure size 864x576 with 12 Axes>"
      ]
     },
     "metadata": {},
     "output_type": "display_data"
    }
   ],
   "source": [
    "distribution = prop_pop_sous_alim.sort_values('prop_pop_sous_alim', ascending=False).head(12)\n",
    "\n",
    "indexs = [(row,column) for row in range(0,4) for column in range(0,3)]\n",
    "\n",
    "fig, axs = plt.subplots(4,3,figsize=(12,8))\n",
    "axes_number = 0\n",
    "for index in indexs : \n",
    "    size = distribution.iloc[axes_number].prop_pop_sous_alim\n",
    "    inv_size = 1 - size\n",
    "    title = distribution.iloc[axes_number].Zone\n",
    "    axs[index].pie(x= [size, inv_size], explode = [0.2,0], autopct ='%1.1f%%' )\n",
    "    axs[index].set_title(str(axes_number + 1) + '. '+ title)\n",
    "    axes_number+=1\n",
    "fig.legend(labels=['Unnourished prop','Well-fooded prop'],\n",
    "          title='Legends')"
   ]
  },
  {
   "cell_type": "markdown",
   "id": "8d8d49dc",
   "metadata": {},
   "source": [
    "## 3.2 Top 10 of  most supported food aid countries since 2013"
   ]
  },
  {
   "cell_type": "code",
   "execution_count": 74,
   "id": "1ea3209d",
   "metadata": {},
   "outputs": [],
   "source": [
    "aide_alim_copy = aide_alim.copy()"
   ]
  },
  {
   "cell_type": "code",
   "execution_count": 75,
   "id": "6be5345b",
   "metadata": {},
   "outputs": [],
   "source": [
    "# Aide totale perçue depuis 2013\n",
    "aide_alim_copy.rename(columns={'Valeur' : 'Qte Aide'}, inplace = True)\n",
    "aide_alim_index = aide_alim_copy[aide_alim[\"Année\"] >= 2013].groupby(by=['Pays bénéficiaire', 'Année']).agg({'Qte Aide' : 'sum'})\n"
   ]
  },
  {
   "cell_type": "code",
   "execution_count": 76,
   "id": "a873db60",
   "metadata": {},
   "outputs": [],
   "source": [
    "global_supported_df = aide_alim_index.reset_index().drop(columns=['Année']).groupby(by='Pays bénéficiaire').sum().sort_values('Qte Aide', ascending = False)\n",
    "top_supported_df = global_supported_df.head(10)\n",
    "other_supported_df = global_supported_df.iloc[11:,:].sum()\n",
    "other_supported_df = top_supported_df.append(other_supported_df, ignore_index = True).set_index(top_supported_df.index.insert(11, \"Other\"))"
   ]
  },
  {
   "cell_type": "code",
   "execution_count": 77,
   "id": "21688976",
   "metadata": {},
   "outputs": [
    {
     "data": {
      "text/html": [
       "<div>\n",
       "<style scoped>\n",
       "    .dataframe tbody tr th:only-of-type {\n",
       "        vertical-align: middle;\n",
       "    }\n",
       "\n",
       "    .dataframe tbody tr th {\n",
       "        vertical-align: top;\n",
       "    }\n",
       "\n",
       "    .dataframe thead th {\n",
       "        text-align: right;\n",
       "    }\n",
       "</style>\n",
       "<table border=\"1\" class=\"dataframe\">\n",
       "  <thead>\n",
       "    <tr style=\"text-align: right;\">\n",
       "      <th></th>\n",
       "      <th>Qte Aide</th>\n",
       "    </tr>\n",
       "    <tr>\n",
       "      <th>Pays bénéficiaire</th>\n",
       "      <th></th>\n",
       "    </tr>\n",
       "  </thead>\n",
       "  <tbody>\n",
       "    <tr>\n",
       "      <th>République arabe syrienne</th>\n",
       "      <td>1858943</td>\n",
       "    </tr>\n",
       "    <tr>\n",
       "      <th>Éthiopie</th>\n",
       "      <td>1381294</td>\n",
       "    </tr>\n",
       "    <tr>\n",
       "      <th>Yémen</th>\n",
       "      <td>1206484</td>\n",
       "    </tr>\n",
       "    <tr>\n",
       "      <th>Soudan du Sud</th>\n",
       "      <td>695248</td>\n",
       "    </tr>\n",
       "    <tr>\n",
       "      <th>Soudan</th>\n",
       "      <td>669784</td>\n",
       "    </tr>\n",
       "    <tr>\n",
       "      <th>Kenya</th>\n",
       "      <td>552836</td>\n",
       "    </tr>\n",
       "    <tr>\n",
       "      <th>Bangladesh</th>\n",
       "      <td>348188</td>\n",
       "    </tr>\n",
       "    <tr>\n",
       "      <th>Somalie</th>\n",
       "      <td>292678</td>\n",
       "    </tr>\n",
       "    <tr>\n",
       "      <th>République démocratique du Congo</th>\n",
       "      <td>288502</td>\n",
       "    </tr>\n",
       "    <tr>\n",
       "      <th>Niger</th>\n",
       "      <td>276344</td>\n",
       "    </tr>\n",
       "  </tbody>\n",
       "</table>\n",
       "</div>"
      ],
      "text/plain": [
       "                                  Qte Aide\n",
       "Pays bénéficiaire                         \n",
       "République arabe syrienne          1858943\n",
       "Éthiopie                           1381294\n",
       "Yémen                              1206484\n",
       "Soudan du Sud                       695248\n",
       "Soudan                              669784\n",
       "Kenya                               552836\n",
       "Bangladesh                          348188\n",
       "Somalie                             292678\n",
       "République démocratique du Congo    288502\n",
       "Niger                               276344"
      ]
     },
     "execution_count": 77,
     "metadata": {},
     "output_type": "execute_result"
    }
   ],
   "source": [
    "top_supported_df"
   ]
  },
  {
   "cell_type": "code",
   "execution_count": 78,
   "id": "8358cb76",
   "metadata": {},
   "outputs": [],
   "source": [
    "qte_aide_totale = np.sum(other_supported_df)"
   ]
  },
  {
   "cell_type": "code",
   "execution_count": 79,
   "id": "6711d9e6",
   "metadata": {},
   "outputs": [],
   "source": [
    "def absolute_value(pct):\n",
    "    absolute = int(round(pct/100 * qte_aide_totale))\n",
    "    return \"{:.1f}%\\n({:d} t)\".format(pct, absolute)"
   ]
  },
  {
   "cell_type": "code",
   "execution_count": 80,
   "id": "16c934d8",
   "metadata": {},
   "outputs": [],
   "source": [
    "prop_ = top_supported_df['Qte Aide'] / top_supported_df['Qte Aide'].sum()\n",
    "prop_other = other_supported_df['Qte Aide'] / other_supported_df['Qte Aide'].sum()"
   ]
  },
  {
   "cell_type": "code",
   "execution_count": 81,
   "id": "ddbe453d",
   "metadata": {},
   "outputs": [
    {
     "data": {
      "text/plain": [
       "Text(0.5, 1.0, '10 most supported countries since 2013')"
      ]
     },
     "execution_count": 81,
     "metadata": {},
     "output_type": "execute_result"
    },
    {
     "data": {
      "image/png": "[encoded data removed]",
      "text/plain": [
       "<Figure size 1080x720 with 2 Axes>"
      ]
     },
     "metadata": {},
     "output_type": "display_data"
    }
   ],
   "source": [
    "fig, axs = plt.subplots(1,2,figsize=(15,10))\n",
    "axs[0].pie(prop_, labels=top_supported_df.index, autopct = '%1.1f%%', normalize = True, shadow=True)\n",
    "axs[1].pie(prop_other, labels = other_supported_df.index, autopct = lambda pct : absolute_value(pct) , normalize = True, shadow=True)\n",
    "plt.title(\"10 most supported countries since 2013\")"
   ]
  },
  {
   "cell_type": "code",
   "execution_count": 82,
   "id": "f7a5861f",
   "metadata": {},
   "outputs": [],
   "source": [
    "# Etudier la quantité d'aide en kg/hab sous alimenté pour évaluer le soutient reçu du pays bénéficiaire entre 2013 et 2016"
   ]
  },
  {
   "cell_type": "code",
   "execution_count": 283,
   "id": "a4989d43",
   "metadata": {},
   "outputs": [],
   "source": [
    "# Qte d'aide moyenne reçue entre 2013 et 2016 \n",
    "mean_aide_alim = aide_alim_copy.groupby(by=['Pays bénéficiaire', 'Année']).sum().reset_index().groupby(by=['Pays bénéficiaire']).mean().drop(columns=['Année'])"
   ]
  },
  {
   "cell_type": "code",
   "execution_count": 84,
   "id": "04256d0a",
   "metadata": {},
   "outputs": [
    {
     "data": {
      "text/html": [
       "<div>\n",
       "<style scoped>\n",
       "    .dataframe tbody tr th:only-of-type {\n",
       "        vertical-align: middle;\n",
       "    }\n",
       "\n",
       "    .dataframe tbody tr th {\n",
       "        vertical-align: top;\n",
       "    }\n",
       "\n",
       "    .dataframe thead th {\n",
       "        text-align: right;\n",
       "    }\n",
       "</style>\n",
       "<table border=\"1\" class=\"dataframe\">\n",
       "  <thead>\n",
       "    <tr style=\"text-align: right;\">\n",
       "      <th></th>\n",
       "      <th>Qte Aide</th>\n",
       "    </tr>\n",
       "    <tr>\n",
       "      <th>Pays bénéficiaire</th>\n",
       "      <th></th>\n",
       "    </tr>\n",
       "  </thead>\n",
       "  <tbody>\n",
       "    <tr>\n",
       "      <th>République arabe syrienne</th>\n",
       "      <td>464735.750000</td>\n",
       "    </tr>\n",
       "    <tr>\n",
       "      <th>Éthiopie</th>\n",
       "      <td>460431.333333</td>\n",
       "    </tr>\n",
       "    <tr>\n",
       "      <th>Yémen</th>\n",
       "      <td>301621.000000</td>\n",
       "    </tr>\n",
       "    <tr>\n",
       "      <th>Soudan du Sud</th>\n",
       "      <td>231749.333333</td>\n",
       "    </tr>\n",
       "    <tr>\n",
       "      <th>Soudan</th>\n",
       "      <td>223261.333333</td>\n",
       "    </tr>\n",
       "    <tr>\n",
       "      <th>Kenya</th>\n",
       "      <td>184278.666667</td>\n",
       "    </tr>\n",
       "    <tr>\n",
       "      <th>Bangladesh</th>\n",
       "      <td>116062.666667</td>\n",
       "    </tr>\n",
       "    <tr>\n",
       "      <th>Somalie</th>\n",
       "      <td>97559.333333</td>\n",
       "    </tr>\n",
       "    <tr>\n",
       "      <th>République démocratique du Congo</th>\n",
       "      <td>96167.333333</td>\n",
       "    </tr>\n",
       "    <tr>\n",
       "      <th>Afghanistan</th>\n",
       "      <td>92726.000000</td>\n",
       "    </tr>\n",
       "  </tbody>\n",
       "</table>\n",
       "</div>"
      ],
      "text/plain": [
       "                                       Qte Aide\n",
       "Pays bénéficiaire                              \n",
       "République arabe syrienne         464735.750000\n",
       "Éthiopie                          460431.333333\n",
       "Yémen                             301621.000000\n",
       "Soudan du Sud                     231749.333333\n",
       "Soudan                            223261.333333\n",
       "Kenya                             184278.666667\n",
       "Bangladesh                        116062.666667\n",
       "Somalie                            97559.333333\n",
       "République démocratique du Congo   96167.333333\n",
       "Afghanistan                        92726.000000"
      ]
     },
     "execution_count": 84,
     "metadata": {},
     "output_type": "execute_result"
    }
   ],
   "source": [
    "# Qte d'aide perçue estimée en 2017 \n",
    "mean_aide_alim.sort_values('Qte Aide', ascending = False).head(10)"
   ]
  },
  {
   "cell_type": "code",
   "execution_count": 85,
   "id": "faf2e3d7",
   "metadata": {},
   "outputs": [
    {
     "data": {
      "text/plain": [
       "Qte Aide    77024.0\n",
       "Name: Pakistan, dtype: float64"
      ]
     },
     "execution_count": 85,
     "metadata": {},
     "output_type": "execute_result"
    }
   ],
   "source": [
    "mean_aide_alim.loc['Pakistan']\n"
   ]
  },
  {
   "cell_type": "code",
   "execution_count": 121,
   "id": "2a135d51",
   "metadata": {},
   "outputs": [],
   "source": [
    "sous_alim_copy = sous_alim.copy()"
   ]
  },
  {
   "cell_type": "code",
   "execution_count": 122,
   "id": "0f95fcef",
   "metadata": {},
   "outputs": [],
   "source": [
    "# Reformatter la colonne Année\n",
    "lambda x : int(x.split('-')[0]) + 1\n",
    "sous_alim_copy['Année'] = sous_alim_copy['Année'].apply(lambda x : int(x.split('-')[0]) + 1)"
   ]
  },
  {
   "cell_type": "code",
   "execution_count": 130,
   "id": "280c364a",
   "metadata": {},
   "outputs": [],
   "source": [
    "sous_alim_2017 = sous_alim_copy[sous_alim_copy['Année'] == 2017].rename(columns={'Zone' : 'Pays bénéficiaire'})"
   ]
  },
  {
   "cell_type": "code",
   "execution_count": 131,
   "id": "cca2a9fd",
   "metadata": {},
   "outputs": [],
   "source": [
    "ratio_aide_pays = sous_alim_2017.join(mean_aide_alim, 'Pays bénéficiaire')"
   ]
  },
  {
   "cell_type": "code",
   "execution_count": 134,
   "id": "ac9f76f1",
   "metadata": {},
   "outputs": [
    {
     "data": {
      "text/html": [
       "<div>\n",
       "<style scoped>\n",
       "    .dataframe tbody tr th:only-of-type {\n",
       "        vertical-align: middle;\n",
       "    }\n",
       "\n",
       "    .dataframe tbody tr th {\n",
       "        vertical-align: top;\n",
       "    }\n",
       "\n",
       "    .dataframe thead th {\n",
       "        text-align: right;\n",
       "    }\n",
       "</style>\n",
       "<table border=\"1\" class=\"dataframe\">\n",
       "  <thead>\n",
       "    <tr style=\"text-align: right;\">\n",
       "      <th></th>\n",
       "      <th>Pays bénéficiaire</th>\n",
       "      <th>Année</th>\n",
       "      <th>Valeur</th>\n",
       "      <th>Qte Aide</th>\n",
       "    </tr>\n",
       "  </thead>\n",
       "  <tbody>\n",
       "  </tbody>\n",
       "</table>\n",
       "</div>"
      ],
      "text/plain": [
       "Empty DataFrame\n",
       "Columns: [Pays bénéficiaire, Année, Valeur, Qte Aide]\n",
       "Index: []"
      ]
     },
     "execution_count": 134,
     "metadata": {},
     "output_type": "execute_result"
    }
   ],
   "source": [
    "# Nan : Qte d'aide manquante pour le pays concerné\n",
    "ratio_aide_pays[ratio_aide_pays['Pays bénéficiaire'] == 'République arabe syrienne']"
   ]
  },
  {
   "cell_type": "code",
   "execution_count": 91,
   "id": "8b2a0e98",
   "metadata": {},
   "outputs": [],
   "source": [
    "# Suppression des pays avec une quantité d'aide perçue nulle\n",
    "ratio_aide_pays.dropna(inplace=True)"
   ]
  },
  {
   "cell_type": "code",
   "execution_count": 92,
   "id": "d15c0f0b",
   "metadata": {},
   "outputs": [],
   "source": [
    "ratio_aide_pays.rename(columns={'Valeur' : 'pop_sous_alim'}, inplace=True)"
   ]
  },
  {
   "cell_type": "code",
   "execution_count": 93,
   "id": "e183a8b2",
   "metadata": {},
   "outputs": [],
   "source": [
    "ratio_aide_pays['Qte Aide (kg/hab)']  = round(((ratio_aide_pays['Qte Aide']) * 1000 / (ratio_aide_pays['pop_sous_alim'] * 1000000)), 4)"
   ]
  },
  {
   "cell_type": "code",
   "execution_count": 94,
   "id": "ddbc9d2b",
   "metadata": {},
   "outputs": [],
   "source": [
    "ranking_ratio_aide_pays = ratio_aide_pays.sort_values('Qte Aide (kg/hab)', ascending = False)"
   ]
  },
  {
   "cell_type": "code",
   "execution_count": 120,
   "id": "f4a0e2fe",
   "metadata": {},
   "outputs": [
    {
     "data": {
      "text/html": [
       "<div>\n",
       "<style scoped>\n",
       "    .dataframe tbody tr th:only-of-type {\n",
       "        vertical-align: middle;\n",
       "    }\n",
       "\n",
       "    .dataframe tbody tr th {\n",
       "        vertical-align: top;\n",
       "    }\n",
       "\n",
       "    .dataframe thead th {\n",
       "        text-align: right;\n",
       "    }\n",
       "</style>\n",
       "<table border=\"1\" class=\"dataframe\">\n",
       "  <thead>\n",
       "    <tr style=\"text-align: right;\">\n",
       "      <th></th>\n",
       "      <th>Pays bénéficiaire</th>\n",
       "      <th>Année</th>\n",
       "      <th>pop_sous_alim</th>\n",
       "      <th>Qte Aide</th>\n",
       "      <th>Qte Aide (kg/hab)</th>\n",
       "    </tr>\n",
       "  </thead>\n",
       "  <tbody>\n",
       "    <tr>\n",
       "      <th>1.0</th>\n",
       "      <td>Mali</td>\n",
       "      <td>2017</td>\n",
       "      <td>1.0</td>\n",
       "      <td>49862.000000</td>\n",
       "      <td>49.8620</td>\n",
       "    </tr>\n",
       "    <tr>\n",
       "      <th>2.0</th>\n",
       "      <td>Soudan</td>\n",
       "      <td>2017</td>\n",
       "      <td>5.0</td>\n",
       "      <td>223261.333333</td>\n",
       "      <td>44.6523</td>\n",
       "    </tr>\n",
       "    <tr>\n",
       "      <th>3.0</th>\n",
       "      <td>République dominicaine</td>\n",
       "      <td>2017</td>\n",
       "      <td>0.6</td>\n",
       "      <td>21126.500000</td>\n",
       "      <td>35.2108</td>\n",
       "    </tr>\n",
       "    <tr>\n",
       "      <th>4.0</th>\n",
       "      <td>Mauritanie</td>\n",
       "      <td>2017</td>\n",
       "      <td>0.5</td>\n",
       "      <td>14295.500000</td>\n",
       "      <td>28.5910</td>\n",
       "    </tr>\n",
       "    <tr>\n",
       "      <th>5.0</th>\n",
       "      <td>Nicaragua</td>\n",
       "      <td>2017</td>\n",
       "      <td>1.1</td>\n",
       "      <td>28833.000000</td>\n",
       "      <td>26.2118</td>\n",
       "    </tr>\n",
       "    <tr>\n",
       "      <th>6.0</th>\n",
       "      <td>Éthiopie</td>\n",
       "      <td>2017</td>\n",
       "      <td>21.1</td>\n",
       "      <td>460431.333333</td>\n",
       "      <td>21.8214</td>\n",
       "    </tr>\n",
       "    <tr>\n",
       "      <th>7.0</th>\n",
       "      <td>Sénégal</td>\n",
       "      <td>2017</td>\n",
       "      <td>1.5</td>\n",
       "      <td>29920.666667</td>\n",
       "      <td>19.9471</td>\n",
       "    </tr>\n",
       "    <tr>\n",
       "      <th>8.0</th>\n",
       "      <td>Algérie</td>\n",
       "      <td>2017</td>\n",
       "      <td>1.3</td>\n",
       "      <td>20278.500000</td>\n",
       "      <td>15.5988</td>\n",
       "    </tr>\n",
       "    <tr>\n",
       "      <th>9.0</th>\n",
       "      <td>Togo</td>\n",
       "      <td>2017</td>\n",
       "      <td>1.6</td>\n",
       "      <td>24804.000000</td>\n",
       "      <td>15.5025</td>\n",
       "    </tr>\n",
       "    <tr>\n",
       "      <th>10.0</th>\n",
       "      <td>Kenya</td>\n",
       "      <td>2017</td>\n",
       "      <td>11.9</td>\n",
       "      <td>184278.666667</td>\n",
       "      <td>15.4856</td>\n",
       "    </tr>\n",
       "    <tr>\n",
       "      <th>11.0</th>\n",
       "      <td>Tchad</td>\n",
       "      <td>2017</td>\n",
       "      <td>5.7</td>\n",
       "      <td>66991.500000</td>\n",
       "      <td>11.7529</td>\n",
       "    </tr>\n",
       "    <tr>\n",
       "      <th>12.0</th>\n",
       "      <td>Gambie</td>\n",
       "      <td>2017</td>\n",
       "      <td>0.3</td>\n",
       "      <td>3281.500000</td>\n",
       "      <td>10.9383</td>\n",
       "    </tr>\n",
       "    <tr>\n",
       "      <th>13.0</th>\n",
       "      <td>Honduras</td>\n",
       "      <td>2017</td>\n",
       "      <td>1.3</td>\n",
       "      <td>13683.000000</td>\n",
       "      <td>10.5254</td>\n",
       "    </tr>\n",
       "    <tr>\n",
       "      <th>14.0</th>\n",
       "      <td>Jordanie</td>\n",
       "      <td>2017</td>\n",
       "      <td>0.8</td>\n",
       "      <td>8092.000000</td>\n",
       "      <td>10.1150</td>\n",
       "    </tr>\n",
       "    <tr>\n",
       "      <th>15.0</th>\n",
       "      <td>Guatemala</td>\n",
       "      <td>2017</td>\n",
       "      <td>2.7</td>\n",
       "      <td>24731.500000</td>\n",
       "      <td>9.1598</td>\n",
       "    </tr>\n",
       "  </tbody>\n",
       "</table>\n",
       "</div>"
      ],
      "text/plain": [
       "           Pays bénéficiaire  Année  pop_sous_alim       Qte Aide  \\\n",
       "1.0                     Mali   2017            1.0   49862.000000   \n",
       "2.0                   Soudan   2017            5.0  223261.333333   \n",
       "3.0   République dominicaine   2017            0.6   21126.500000   \n",
       "4.0               Mauritanie   2017            0.5   14295.500000   \n",
       "5.0                Nicaragua   2017            1.1   28833.000000   \n",
       "6.0                 Éthiopie   2017           21.1  460431.333333   \n",
       "7.0                  Sénégal   2017            1.5   29920.666667   \n",
       "8.0                  Algérie   2017            1.3   20278.500000   \n",
       "9.0                     Togo   2017            1.6   24804.000000   \n",
       "10.0                   Kenya   2017           11.9  184278.666667   \n",
       "11.0                   Tchad   2017            5.7   66991.500000   \n",
       "12.0                  Gambie   2017            0.3    3281.500000   \n",
       "13.0                Honduras   2017            1.3   13683.000000   \n",
       "14.0                Jordanie   2017            0.8    8092.000000   \n",
       "15.0               Guatemala   2017            2.7   24731.500000   \n",
       "\n",
       "      Qte Aide (kg/hab)  \n",
       "1.0             49.8620  \n",
       "2.0             44.6523  \n",
       "3.0             35.2108  \n",
       "4.0             28.5910  \n",
       "5.0             26.2118  \n",
       "6.0             21.8214  \n",
       "7.0             19.9471  \n",
       "8.0             15.5988  \n",
       "9.0             15.5025  \n",
       "10.0            15.4856  \n",
       "11.0            11.7529  \n",
       "12.0            10.9383  \n",
       "13.0            10.5254  \n",
       "14.0            10.1150  \n",
       "15.0             9.1598  "
      ]
     },
     "execution_count": 120,
     "metadata": {},
     "output_type": "execute_result"
    }
   ],
   "source": [
    "ranking_ratio_aide_pays.head(15).set_index(np.linspace(1,15,15))"
   ]
  },
  {
   "cell_type": "markdown",
   "id": "1bd6f02d",
   "metadata": {},
   "source": [
    "## 3.3 Food safety and coverage  "
   ]
  },
  {
   "cell_type": "code",
   "execution_count": 96,
   "id": "9e6846d6",
   "metadata": {},
   "outputs": [],
   "source": [
    "# Etudier l'impact des aides sur la quantité disponible par habitant dans les pays les plus déficitaires.\n",
    "# Objectif : Prioriser les aides pour les pays les plus déficitaires "
   ]
  },
  {
   "cell_type": "code",
   "execution_count": 97,
   "id": "645150f6",
   "metadata": {},
   "outputs": [],
   "source": [
    "# Les pays avec le plus de disponibilité par hab pour "
   ]
  },
  {
   "cell_type": "code",
   "execution_count": 101,
   "id": "68beda42",
   "metadata": {},
   "outputs": [],
   "source": [
    "dispo_alim_copy = dispo_alim.copy()"
   ]
  },
  {
   "cell_type": "code",
   "execution_count": 102,
   "id": "0d432213",
   "metadata": {},
   "outputs": [],
   "source": [
    "dispo_int_for_ranking = dispo_alim_copy.groupby(by=['Zone']).sum()[['Disponibilité alimentaire (Kcal/personne/jour)']]"
   ]
  },
  {
   "cell_type": "code",
   "execution_count": 103,
   "id": "e042952d",
   "metadata": {},
   "outputs": [],
   "source": [
    "pays_riche_alim = dispo_int_for_ranking.sort_values('Disponibilité alimentaire (Kcal/personne/jour)',ascending = False).head(15)\n",
    "pays_pauvre_alim = dispo_int_for_ranking.sort_values('Disponibilité alimentaire (Kcal/personne/jour)',ascending = True).head(15)"
   ]
  },
  {
   "cell_type": "code",
   "execution_count": 104,
   "id": "9f3016f2",
   "metadata": {},
   "outputs": [
    {
     "data": {
      "text/html": [
       "<div>\n",
       "<style scoped>\n",
       "    .dataframe tbody tr th:only-of-type {\n",
       "        vertical-align: middle;\n",
       "    }\n",
       "\n",
       "    .dataframe tbody tr th {\n",
       "        vertical-align: top;\n",
       "    }\n",
       "\n",
       "    .dataframe thead th {\n",
       "        text-align: right;\n",
       "    }\n",
       "</style>\n",
       "<table border=\"1\" class=\"dataframe\">\n",
       "  <thead>\n",
       "    <tr style=\"text-align: right;\">\n",
       "      <th></th>\n",
       "      <th>Disponibilité alimentaire (Kcal/personne/jour)</th>\n",
       "    </tr>\n",
       "    <tr>\n",
       "      <th>Zone</th>\n",
       "      <th></th>\n",
       "    </tr>\n",
       "  </thead>\n",
       "  <tbody>\n",
       "    <tr>\n",
       "      <th>Autriche</th>\n",
       "      <td>3770.0</td>\n",
       "    </tr>\n",
       "    <tr>\n",
       "      <th>Belgique</th>\n",
       "      <td>3737.0</td>\n",
       "    </tr>\n",
       "    <tr>\n",
       "      <th>Turquie</th>\n",
       "      <td>3708.0</td>\n",
       "    </tr>\n",
       "    <tr>\n",
       "      <th>États-Unis d'Amérique</th>\n",
       "      <td>3682.0</td>\n",
       "    </tr>\n",
       "    <tr>\n",
       "      <th>Israël</th>\n",
       "      <td>3610.0</td>\n",
       "    </tr>\n",
       "    <tr>\n",
       "      <th>Irlande</th>\n",
       "      <td>3602.0</td>\n",
       "    </tr>\n",
       "    <tr>\n",
       "      <th>Italie</th>\n",
       "      <td>3578.0</td>\n",
       "    </tr>\n",
       "    <tr>\n",
       "      <th>Luxembourg</th>\n",
       "      <td>3540.0</td>\n",
       "    </tr>\n",
       "    <tr>\n",
       "      <th>Égypte</th>\n",
       "      <td>3518.0</td>\n",
       "    </tr>\n",
       "    <tr>\n",
       "      <th>Allemagne</th>\n",
       "      <td>3503.0</td>\n",
       "    </tr>\n",
       "    <tr>\n",
       "      <th>Koweït</th>\n",
       "      <td>3499.0</td>\n",
       "    </tr>\n",
       "    <tr>\n",
       "      <th>Canada</th>\n",
       "      <td>3499.0</td>\n",
       "    </tr>\n",
       "    <tr>\n",
       "      <th>Monténégro</th>\n",
       "      <td>3490.0</td>\n",
       "    </tr>\n",
       "    <tr>\n",
       "      <th>Norvège</th>\n",
       "      <td>3483.0</td>\n",
       "    </tr>\n",
       "    <tr>\n",
       "      <th>France</th>\n",
       "      <td>3482.0</td>\n",
       "    </tr>\n",
       "  </tbody>\n",
       "</table>\n",
       "</div>"
      ],
      "text/plain": [
       "                       Disponibilité alimentaire (Kcal/personne/jour)\n",
       "Zone                                                                 \n",
       "Autriche                                                       3770.0\n",
       "Belgique                                                       3737.0\n",
       "Turquie                                                        3708.0\n",
       "États-Unis d'Amérique                                          3682.0\n",
       "Israël                                                         3610.0\n",
       "Irlande                                                        3602.0\n",
       "Italie                                                         3578.0\n",
       "Luxembourg                                                     3540.0\n",
       "Égypte                                                         3518.0\n",
       "Allemagne                                                      3503.0\n",
       "Koweït                                                         3499.0\n",
       "Canada                                                         3499.0\n",
       "Monténégro                                                     3490.0\n",
       "Norvège                                                        3483.0\n",
       "France                                                         3482.0"
      ]
     },
     "execution_count": 104,
     "metadata": {},
     "output_type": "execute_result"
    }
   ],
   "source": [
    "pays_riche_alim"
   ]
  },
  {
   "cell_type": "code",
   "execution_count": 138,
   "id": "79bbbeda",
   "metadata": {},
   "outputs": [
    {
     "data": {
      "text/html": [
       "<div>\n",
       "<style scoped>\n",
       "    .dataframe tbody tr th:only-of-type {\n",
       "        vertical-align: middle;\n",
       "    }\n",
       "\n",
       "    .dataframe tbody tr th {\n",
       "        vertical-align: top;\n",
       "    }\n",
       "\n",
       "    .dataframe thead th {\n",
       "        text-align: right;\n",
       "    }\n",
       "</style>\n",
       "<table border=\"1\" class=\"dataframe\">\n",
       "  <thead>\n",
       "    <tr style=\"text-align: right;\">\n",
       "      <th></th>\n",
       "      <th>Disponibilité alimentaire (Kcal/personne/jour)</th>\n",
       "    </tr>\n",
       "    <tr>\n",
       "      <th>Zone</th>\n",
       "      <th></th>\n",
       "    </tr>\n",
       "  </thead>\n",
       "  <tbody>\n",
       "    <tr>\n",
       "      <th>République centrafricaine</th>\n",
       "      <td>1879.0</td>\n",
       "    </tr>\n",
       "    <tr>\n",
       "      <th>Zambie</th>\n",
       "      <td>1924.0</td>\n",
       "    </tr>\n",
       "    <tr>\n",
       "      <th>Madagascar</th>\n",
       "      <td>2056.0</td>\n",
       "    </tr>\n",
       "    <tr>\n",
       "      <th>Afghanistan</th>\n",
       "      <td>2087.0</td>\n",
       "    </tr>\n",
       "    <tr>\n",
       "      <th>Haïti</th>\n",
       "      <td>2089.0</td>\n",
       "    </tr>\n",
       "    <tr>\n",
       "      <th>République populaire démocratique de Corée</th>\n",
       "      <td>2093.0</td>\n",
       "    </tr>\n",
       "    <tr>\n",
       "      <th>Tchad</th>\n",
       "      <td>2109.0</td>\n",
       "    </tr>\n",
       "    <tr>\n",
       "      <th>Zimbabwe</th>\n",
       "      <td>2113.0</td>\n",
       "    </tr>\n",
       "    <tr>\n",
       "      <th>Ouganda</th>\n",
       "      <td>2126.0</td>\n",
       "    </tr>\n",
       "    <tr>\n",
       "      <th>Timor-Leste</th>\n",
       "      <td>2129.0</td>\n",
       "    </tr>\n",
       "    <tr>\n",
       "      <th>Éthiopie</th>\n",
       "      <td>2129.0</td>\n",
       "    </tr>\n",
       "    <tr>\n",
       "      <th>Namibie</th>\n",
       "      <td>2166.0</td>\n",
       "    </tr>\n",
       "    <tr>\n",
       "      <th>Tadjikistan</th>\n",
       "      <td>2199.0</td>\n",
       "    </tr>\n",
       "    <tr>\n",
       "      <th>République-Unie de Tanzanie</th>\n",
       "      <td>2204.0</td>\n",
       "    </tr>\n",
       "    <tr>\n",
       "      <th>Kenya</th>\n",
       "      <td>2205.0</td>\n",
       "    </tr>\n",
       "  </tbody>\n",
       "</table>\n",
       "</div>"
      ],
      "text/plain": [
       "                                            Disponibilité alimentaire (Kcal/personne/jour)\n",
       "Zone                                                                                      \n",
       "République centrafricaine                                                           1879.0\n",
       "Zambie                                                                              1924.0\n",
       "Madagascar                                                                          2056.0\n",
       "Afghanistan                                                                         2087.0\n",
       "Haïti                                                                               2089.0\n",
       "République populaire démocratique de Corée                                          2093.0\n",
       "Tchad                                                                               2109.0\n",
       "Zimbabwe                                                                            2113.0\n",
       "Ouganda                                                                             2126.0\n",
       "Timor-Leste                                                                         2129.0\n",
       "Éthiopie                                                                            2129.0\n",
       "Namibie                                                                             2166.0\n",
       "Tadjikistan                                                                         2199.0\n",
       "République-Unie de Tanzanie                                                         2204.0\n",
       "Kenya                                                                               2205.0"
      ]
     },
     "execution_count": 138,
     "metadata": {},
     "output_type": "execute_result"
    }
   ],
   "source": [
    "pays_pauvre_alim"
   ]
  },
  {
   "cell_type": "markdown",
   "id": "b0f4b4fe",
   "metadata": {},
   "source": [
    "## Food safety additional analysis "
   ]
  },
  {
   "cell_type": "code",
   "execution_count": 139,
   "id": "52d120ad",
   "metadata": {},
   "outputs": [],
   "source": [
    "# Quantité nécessaire en nutriment pour une alimentation équilibrée et un apport de 2500Kcal\n",
    "# 15 % proteine --> 375 Kcal / 4\n",
    "# 40 % lipide --> 1000 Kcal / 9 \n",
    "# 45 % glucide --> 1125 Kcal / 4"
   ]
  },
  {
   "cell_type": "code",
   "execution_count": 140,
   "id": "66ffb555",
   "metadata": {},
   "outputs": [],
   "source": [
    "apport_kg = sum([375/4 , 1000/9, 1125/4])"
   ]
  },
  {
   "cell_type": "code",
   "execution_count": 141,
   "id": "e563ad44",
   "metadata": {},
   "outputs": [
    {
     "data": {
      "text/plain": [
       "486.1111111111111"
      ]
     },
     "execution_count": 141,
     "metadata": {},
     "output_type": "execute_result"
    }
   ],
   "source": [
    "apport_kg"
   ]
  },
  {
   "cell_type": "code",
   "execution_count": 143,
   "id": "04e8e485",
   "metadata": {},
   "outputs": [],
   "source": [
    "def func_kcal(pct):\n",
    "    absolute = int(np.round(pct/100. * 2500))\n",
    "    return \"{:.1f}%\\n({:d} Kcal)\".format(pct, absolute)"
   ]
  },
  {
   "cell_type": "code",
   "execution_count": 144,
   "id": "421e7655",
   "metadata": {},
   "outputs": [],
   "source": [
    "def func_g(pct):\n",
    "    absolute = int(np.round(pct/100. * apport_kg))\n",
    "    return \"{:.1f}%\\n({:d} g)\".format(pct, absolute)"
   ]
  },
  {
   "cell_type": "code",
   "execution_count": 145,
   "id": "08ce7d9e",
   "metadata": {},
   "outputs": [
    {
     "data": {
      "text/plain": [
       "Text(0.5, 0.98, \"nutriment-adult's recommanded proportion\")"
      ]
     },
     "execution_count": 145,
     "metadata": {},
     "output_type": "execute_result"
    },
    {
     "data": {
      "image/png": "[encoded data removed]",
      "text/plain": [
       "<Figure size 720x576 with 2 Axes>"
      ]
     },
     "metadata": {},
     "output_type": "display_data"
    }
   ],
   "source": [
    "fig, axs = plt.subplots(1,2,figsize=(10,8))\n",
    "axs[0].pie(x=[0.15, 0.40, 0.45], labels = ['proteins', 'lipids', 'glucids'], explode = [0.1,0,0], shadow = True, autopct = lambda pct : func_kcal(pct))\n",
    "axs[1].pie(x=[0.15, 0.40, 0.45], labels = ['proteins', 'lipids', 'glucids'], explode = [0.1,0,0], shadow = True, autopct = lambda pct : func_g(pct))\n",
    "fig.suptitle(\"nutriment-adult's recommanded proportion\")"
   ]
  },
  {
   "cell_type": "markdown",
   "id": "d43c1b5e",
   "metadata": {},
   "source": [
    "### Protein's daily apport's analysis "
   ]
  },
  {
   "cell_type": "code",
   "execution_count": 155,
   "id": "d18e7f39",
   "metadata": {},
   "outputs": [],
   "source": [
    "qte_proteine_hab = dispo_alim_copy.groupby(by=['Zone']).sum()['Disponibilité de protéines en quantité (g/personne/jour)'].reset_index()"
   ]
  },
  {
   "cell_type": "code",
   "execution_count": 157,
   "id": "0da2484d",
   "metadata": {},
   "outputs": [
    {
     "data": {
      "text/html": [
       "<div>\n",
       "<style scoped>\n",
       "    .dataframe tbody tr th:only-of-type {\n",
       "        vertical-align: middle;\n",
       "    }\n",
       "\n",
       "    .dataframe tbody tr th {\n",
       "        vertical-align: top;\n",
       "    }\n",
       "\n",
       "    .dataframe thead th {\n",
       "        text-align: right;\n",
       "    }\n",
       "</style>\n",
       "<table border=\"1\" class=\"dataframe\">\n",
       "  <thead>\n",
       "    <tr style=\"text-align: right;\">\n",
       "      <th></th>\n",
       "      <th>Zone</th>\n",
       "      <th>Disponibilité de protéines en quantité (g/personne/jour)</th>\n",
       "    </tr>\n",
       "  </thead>\n",
       "  <tbody>\n",
       "    <tr>\n",
       "      <th>5</th>\n",
       "      <td>Angola</td>\n",
       "      <td>57.27</td>\n",
       "    </tr>\n",
       "    <tr>\n",
       "      <th>0</th>\n",
       "      <td>Afghanistan</td>\n",
       "      <td>58.26</td>\n",
       "    </tr>\n",
       "    <tr>\n",
       "      <th>6</th>\n",
       "      <td>Antigua-et-Barbuda</td>\n",
       "      <td>83.49</td>\n",
       "    </tr>\n",
       "    <tr>\n",
       "      <th>1</th>\n",
       "      <td>Afrique du Sud</td>\n",
       "      <td>85.33</td>\n",
       "    </tr>\n",
       "    <tr>\n",
       "      <th>9</th>\n",
       "      <td>Arménie</td>\n",
       "      <td>90.06</td>\n",
       "    </tr>\n",
       "    <tr>\n",
       "      <th>7</th>\n",
       "      <td>Arabie saoudite</td>\n",
       "      <td>91.59</td>\n",
       "    </tr>\n",
       "    <tr>\n",
       "      <th>3</th>\n",
       "      <td>Algérie</td>\n",
       "      <td>91.92</td>\n",
       "    </tr>\n",
       "    <tr>\n",
       "      <th>4</th>\n",
       "      <td>Allemagne</td>\n",
       "      <td>101.39</td>\n",
       "    </tr>\n",
       "    <tr>\n",
       "      <th>8</th>\n",
       "      <td>Argentine</td>\n",
       "      <td>102.60</td>\n",
       "    </tr>\n",
       "    <tr>\n",
       "      <th>2</th>\n",
       "      <td>Albanie</td>\n",
       "      <td>111.37</td>\n",
       "    </tr>\n",
       "  </tbody>\n",
       "</table>\n",
       "</div>"
      ],
      "text/plain": [
       "                 Zone  \\\n",
       "5              Angola   \n",
       "0         Afghanistan   \n",
       "6  Antigua-et-Barbuda   \n",
       "1      Afrique du Sud   \n",
       "9             Arménie   \n",
       "7     Arabie saoudite   \n",
       "3             Algérie   \n",
       "4           Allemagne   \n",
       "8           Argentine   \n",
       "2             Albanie   \n",
       "\n",
       "   Disponibilité de protéines en quantité (g/personne/jour)  \n",
       "5                                              57.27         \n",
       "0                                              58.26         \n",
       "6                                              83.49         \n",
       "1                                              85.33         \n",
       "9                                              90.06         \n",
       "7                                              91.59         \n",
       "3                                              91.92         \n",
       "4                                             101.39         \n",
       "8                                             102.60         \n",
       "2                                             111.37         "
      ]
     },
     "execution_count": 157,
     "metadata": {},
     "output_type": "execute_result"
    }
   ],
   "source": [
    "qte_proteine_hab.head(10).sort_values('Disponibilité de protéines en quantité (g/personne/jour)', ascending=True)"
   ]
  },
  {
   "cell_type": "code",
   "execution_count": 158,
   "id": "b96f35f2",
   "metadata": {},
   "outputs": [],
   "source": [
    "qte_protein_hab_cat = pd.cut(qte_proteine_hab['Disponibilité de protéines en quantité (g/personne/jour)'], bins=[0,30,70,90,120,200] , labels=['Very low', 'low', 'normal', 'high', 'too much']).reset_index()\n",
    "qte_protein_hab_cat.columns\n",
    "qte_protein_hab_cat.rename(columns={'Zone': 'Pays', 'Disponibilité de protéines en quantité (g/personne/jour)': 'Categorie dispo proteine'}, inplace=True)\n"
   ]
  },
  {
   "cell_type": "code",
   "execution_count": 159,
   "id": "9d53d119",
   "metadata": {
    "scrolled": true
   },
   "outputs": [
    {
     "data": {
      "text/html": [
       "<div>\n",
       "<style scoped>\n",
       "    .dataframe tbody tr th:only-of-type {\n",
       "        vertical-align: middle;\n",
       "    }\n",
       "\n",
       "    .dataframe tbody tr th {\n",
       "        vertical-align: top;\n",
       "    }\n",
       "\n",
       "    .dataframe thead th {\n",
       "        text-align: right;\n",
       "    }\n",
       "</style>\n",
       "<table border=\"1\" class=\"dataframe\">\n",
       "  <thead>\n",
       "    <tr style=\"text-align: right;\">\n",
       "      <th></th>\n",
       "      <th>index</th>\n",
       "    </tr>\n",
       "    <tr>\n",
       "      <th>Categorie dispo proteine</th>\n",
       "      <th></th>\n",
       "    </tr>\n",
       "  </thead>\n",
       "  <tbody>\n",
       "    <tr>\n",
       "      <th>Very low</th>\n",
       "      <td>0</td>\n",
       "    </tr>\n",
       "    <tr>\n",
       "      <th>low</th>\n",
       "      <td>59</td>\n",
       "    </tr>\n",
       "    <tr>\n",
       "      <th>normal</th>\n",
       "      <td>56</td>\n",
       "    </tr>\n",
       "    <tr>\n",
       "      <th>high</th>\n",
       "      <td>54</td>\n",
       "    </tr>\n",
       "    <tr>\n",
       "      <th>too much</th>\n",
       "      <td>5</td>\n",
       "    </tr>\n",
       "  </tbody>\n",
       "</table>\n",
       "</div>"
      ],
      "text/plain": [
       "                          index\n",
       "Categorie dispo proteine       \n",
       "Very low                      0\n",
       "low                          59\n",
       "normal                       56\n",
       "high                         54\n",
       "too much                      5"
      ]
     },
     "execution_count": 159,
     "metadata": {},
     "output_type": "execute_result"
    }
   ],
   "source": [
    "qte_protein_hab_cat.groupby(by=['Categorie dispo proteine']).count()"
   ]
  },
  {
   "cell_type": "markdown",
   "id": "45dd1e45",
   "metadata": {},
   "source": [
    "## Generalized food coverage analysis  "
   ]
  },
  {
   "cell_type": "code",
   "execution_count": 177,
   "id": "423b1fd8",
   "metadata": {},
   "outputs": [],
   "source": [
    "#Portion alimentaire est d'0.6kg par jour et par personne\n",
    "seuil_thoerique_an = 365 * 1\n",
    "pop_pays_2017_copy = pop_pays_2017.copy()"
   ]
  },
  {
   "cell_type": "code",
   "execution_count": 178,
   "id": "8a22c3d9",
   "metadata": {},
   "outputs": [],
   "source": [
    "dispo_alim_copy = dispo_alim.copy()\n",
    "\n",
    "dispo_alim_pays = pd.DataFrame(dispo_alim_copy.groupby(by='Zone').sum()['Nourriture'])\n",
    "pop_pays_2017_copy.set_index('Zone', inplace=True)\n",
    "couver_alimentaire_pays = pd.concat([dispo_alim_pays, pop_pays_2017_copy], axis = 1)"
   ]
  },
  {
   "cell_type": "code",
   "execution_count": 179,
   "id": "47173fd0",
   "metadata": {},
   "outputs": [],
   "source": [
    "couver_alimentaire_pays['couverture alimentaire (kg / personne / jour)'] = (couver_alimentaire_pays['Nourriture']*1000) / (couver_alimentaire_pays['Valeur'] *365)"
   ]
  },
  {
   "cell_type": "code",
   "execution_count": 180,
   "id": "4b7ae437",
   "metadata": {},
   "outputs": [],
   "source": [
    "couver_alimentaire_pays.dropna(inplace=True)"
   ]
  },
  {
   "cell_type": "code",
   "execution_count": 181,
   "id": "4bff67fa",
   "metadata": {},
   "outputs": [
    {
     "data": {
      "text/plain": [
       "Nourriture                                        7867.000000\n",
       "Valeur                                           18512.430000\n",
       "couverture alimentaire (kg / personne / jour)        1.164268\n",
       "Name: Mali, dtype: float64"
      ]
     },
     "execution_count": 181,
     "metadata": {},
     "output_type": "execute_result"
    }
   ],
   "source": [
    "couver_alimentaire_pays.loc['Mali']"
   ]
  },
  {
   "cell_type": "code",
   "execution_count": 187,
   "id": "935fdb5a",
   "metadata": {},
   "outputs": [
    {
     "data": {
      "text/html": [
       "<div>\n",
       "<style scoped>\n",
       "    .dataframe tbody tr th:only-of-type {\n",
       "        vertical-align: middle;\n",
       "    }\n",
       "\n",
       "    .dataframe tbody tr th {\n",
       "        vertical-align: top;\n",
       "    }\n",
       "\n",
       "    .dataframe thead th {\n",
       "        text-align: right;\n",
       "    }\n",
       "</style>\n",
       "<table border=\"1\" class=\"dataframe\">\n",
       "  <thead>\n",
       "    <tr style=\"text-align: right;\">\n",
       "      <th></th>\n",
       "      <th>Zone</th>\n",
       "      <th>Nourriture</th>\n",
       "      <th>Valeur</th>\n",
       "      <th>couverture alimentaire (kg / personne / jour)</th>\n",
       "    </tr>\n",
       "  </thead>\n",
       "  <tbody>\n",
       "    <tr>\n",
       "      <th>150</th>\n",
       "      <td>Tchad</td>\n",
       "      <td>4097.0</td>\n",
       "      <td>15016.753</td>\n",
       "      <td>0.747476</td>\n",
       "    </tr>\n",
       "    <tr>\n",
       "      <th>0</th>\n",
       "      <td>Afghanistan</td>\n",
       "      <td>10735.0</td>\n",
       "      <td>36296.113</td>\n",
       "      <td>0.810306</td>\n",
       "    </tr>\n",
       "    <tr>\n",
       "      <th>164</th>\n",
       "      <td>Zambie</td>\n",
       "      <td>5088.0</td>\n",
       "      <td>16853.599</td>\n",
       "      <td>0.827107</td>\n",
       "    </tr>\n",
       "    <tr>\n",
       "      <th>170</th>\n",
       "      <td>Éthiopie</td>\n",
       "      <td>33361.0</td>\n",
       "      <td>106399.924</td>\n",
       "      <td>0.859023</td>\n",
       "    </tr>\n",
       "    <tr>\n",
       "      <th>56</th>\n",
       "      <td>Gambie</td>\n",
       "      <td>701.0</td>\n",
       "      <td>2213.889</td>\n",
       "      <td>0.867500</td>\n",
       "    </tr>\n",
       "    <tr>\n",
       "      <th>163</th>\n",
       "      <td>Yémen</td>\n",
       "      <td>9162.0</td>\n",
       "      <td>27834.819</td>\n",
       "      <td>0.901797</td>\n",
       "    </tr>\n",
       "    <tr>\n",
       "      <th>62</th>\n",
       "      <td>Guinée-Bissau</td>\n",
       "      <td>609.0</td>\n",
       "      <td>1828.145</td>\n",
       "      <td>0.912670</td>\n",
       "    </tr>\n",
       "    <tr>\n",
       "      <th>165</th>\n",
       "      <td>Zimbabwe</td>\n",
       "      <td>4762.0</td>\n",
       "      <td>14236.595</td>\n",
       "      <td>0.916411</td>\n",
       "    </tr>\n",
       "    <tr>\n",
       "      <th>152</th>\n",
       "      <td>Timor-Leste</td>\n",
       "      <td>419.0</td>\n",
       "      <td>1243.258</td>\n",
       "      <td>0.923336</td>\n",
       "    </tr>\n",
       "    <tr>\n",
       "      <th>148</th>\n",
       "      <td>Sénégal</td>\n",
       "      <td>5329.0</td>\n",
       "      <td>15419.355</td>\n",
       "      <td>0.946862</td>\n",
       "    </tr>\n",
       "    <tr>\n",
       "      <th>87</th>\n",
       "      <td>Libéria</td>\n",
       "      <td>1653.0</td>\n",
       "      <td>4702.226</td>\n",
       "      <td>0.963111</td>\n",
       "    </tr>\n",
       "    <tr>\n",
       "      <th>14</th>\n",
       "      <td>Bangladesh</td>\n",
       "      <td>57092.0</td>\n",
       "      <td>159685.424</td>\n",
       "      <td>0.979529</td>\n",
       "    </tr>\n",
       "    <tr>\n",
       "      <th>65</th>\n",
       "      <td>Haïti</td>\n",
       "      <td>4101.0</td>\n",
       "      <td>10982.366</td>\n",
       "      <td>1.023060</td>\n",
       "    </tr>\n",
       "    <tr>\n",
       "      <th>107</th>\n",
       "      <td>Niger</td>\n",
       "      <td>8132.0</td>\n",
       "      <td>21602.382</td>\n",
       "      <td>1.031342</td>\n",
       "    </tr>\n",
       "    <tr>\n",
       "      <th>91</th>\n",
       "      <td>Madagascar</td>\n",
       "      <td>9741.0</td>\n",
       "      <td>25570.512</td>\n",
       "      <td>1.043689</td>\n",
       "    </tr>\n",
       "  </tbody>\n",
       "</table>\n",
       "</div>"
      ],
      "text/plain": [
       "              Zone  Nourriture      Valeur  \\\n",
       "150          Tchad      4097.0   15016.753   \n",
       "0      Afghanistan     10735.0   36296.113   \n",
       "164         Zambie      5088.0   16853.599   \n",
       "170       Éthiopie     33361.0  106399.924   \n",
       "56          Gambie       701.0    2213.889   \n",
       "163          Yémen      9162.0   27834.819   \n",
       "62   Guinée-Bissau       609.0    1828.145   \n",
       "165       Zimbabwe      4762.0   14236.595   \n",
       "152    Timor-Leste       419.0    1243.258   \n",
       "148        Sénégal      5329.0   15419.355   \n",
       "87         Libéria      1653.0    4702.226   \n",
       "14      Bangladesh     57092.0  159685.424   \n",
       "65           Haïti      4101.0   10982.366   \n",
       "107          Niger      8132.0   21602.382   \n",
       "91      Madagascar      9741.0   25570.512   \n",
       "\n",
       "     couverture alimentaire (kg / personne / jour)  \n",
       "150                                       0.747476  \n",
       "0                                         0.810306  \n",
       "164                                       0.827107  \n",
       "170                                       0.859023  \n",
       "56                                        0.867500  \n",
       "163                                       0.901797  \n",
       "62                                        0.912670  \n",
       "165                                       0.916411  \n",
       "152                                       0.923336  \n",
       "148                                       0.946862  \n",
       "87                                        0.963111  \n",
       "14                                        0.979529  \n",
       "65                                        1.023060  \n",
       "107                                       1.031342  \n",
       "91                                        1.043689  "
      ]
     },
     "execution_count": 187,
     "metadata": {},
     "output_type": "execute_result"
    }
   ],
   "source": [
    "couver_alimentaire_pays.sort_values('couverture alimentaire (kg / personne / jour)', ascending = True).head(15)"
   ]
  },
  {
   "cell_type": "code",
   "execution_count": 188,
   "id": "2b52d712",
   "metadata": {},
   "outputs": [],
   "source": [
    "couver_alimentaire_pays.reset_index(inplace = True)"
   ]
  },
  {
   "cell_type": "code",
   "execution_count": 189,
   "id": "1aa80a6b",
   "metadata": {},
   "outputs": [],
   "source": [
    "nb_pays_sup_seuil = pd.DataFrame((couver_alimentaire_pays['couverture alimentaire (kg / personne / jour)'] > 1)).describe().loc['freq']\n",
    "nb_total_pays = len(couver_alimentaire_pays)\n",
    "nb_pays_inf_seuil =  nb_total_pays - nb_pays_sup_seuil\n",
    "x = list(nb_pays_sup_seuil/nb_total_pays) + list(nb_pays_inf_seuil/nb_total_pays)"
   ]
  },
  {
   "cell_type": "code",
   "execution_count": 190,
   "id": "8bb77f38",
   "metadata": {},
   "outputs": [],
   "source": [
    "serie_categorise = pd.cut(couver_alimentaire_pays['couverture alimentaire (kg / personne / jour)'], bins = [0,1,1.5,2,3,10], labels = ['very poor', 'poor', 'sufficient', 'rich','very rich'])\n",
    "\n",
    "couver_alimentaire_pays.groupby(serie_categorise)['Zone'].count() / couver_alimentaire_pays.groupby(serie_categorise)['Zone'].count().sum()\n",
    "prop_rich_alim_pays = couver_alimentaire_pays.groupby(serie_categorise)['Zone'].count() / couver_alimentaire_pays.groupby(serie_categorise)['Zone'].count().sum()\n"
   ]
  },
  {
   "cell_type": "code",
   "execution_count": 191,
   "id": "d7879485",
   "metadata": {},
   "outputs": [
    {
     "data": {
      "text/plain": [
       "([<matplotlib.patches.Wedge at 0x208b48e9730>,\n",
       "  <matplotlib.patches.Wedge at 0x208b48e9e20>,\n",
       "  <matplotlib.patches.Wedge at 0x208b48f14f0>,\n",
       "  <matplotlib.patches.Wedge at 0x208b48f1b80>,\n",
       "  <matplotlib.patches.Wedge at 0x208b48fb250>],\n",
       " [Text(1.0736834627076814, 0.2391732048287244, 'very poor'),\n",
       "  Text(0.33609474744700385, 1.047396926068878, 'poor'),\n",
       "  Text(-1.09541601480365, 0.10031826609192221, 'sufficient'),\n",
       "  Text(0.3551685109863935, -1.0410837280467446, 'rich'),\n",
       "  Text(1.0934010833731267, -0.12030823279590247, 'very rich')],\n",
       " [Text(0.5856455251132807, 0.13045811172475874, '7.0%'),\n",
       "  Text(0.18332440769836572, 0.571307414219388, '26.2%'),\n",
       "  Text(-0.5974996444383546, 0.05471905423195756, '30.8%'),\n",
       "  Text(0.193728278719851, -0.5678638516618606, '32.6%'),\n",
       "  Text(0.5964005909307962, -0.06562267243412861, '3.5%')])"
      ]
     },
     "execution_count": 191,
     "metadata": {},
     "output_type": "execute_result"
    },
    {
     "data": {
      "image/png": "[encoded data removed]",
      "text/plain": [
       "<Figure size 720x432 with 2 Axes>"
      ]
     },
     "metadata": {},
     "output_type": "display_data"
    }
   ],
   "source": [
    "fig, axe = plt.subplots(1,2, figsize=(10,6))\n",
    "axe[0].pie(x, labels=['food surplus', 'food deficit'], shadow=True, explode=[0,0.1], autopct = '%1.1f%%')\n",
    "axe[0].set_title(\"Food deficit / food surplus countries's proportion\")\n",
    "axe[1].pie(prop_rich_alim_pays, labels =['very poor', 'poor', 'sufficient', 'rich','very rich'], autopct = '%1.1f%%')"
   ]
  },
  {
   "cell_type": "markdown",
   "id": "2dc80abb",
   "metadata": {},
   "source": [
    "# 4. Additional analysis to Julien's "
   ]
  },
  {
   "cell_type": "markdown",
   "id": "db9b3168",
   "metadata": {},
   "source": [
    "## 4.1 Different way to compute countries's total food ressources"
   ]
  },
  {
   "cell_type": "code",
   "execution_count": 192,
   "id": "e9a32a3b",
   "metadata": {},
   "outputs": [],
   "source": [
    "dispo_alim_copy = dispo_alim.copy()\n",
    "pop_pays_2017_copy = pop_pays_2017.copy()"
   ]
  },
  {
   "cell_type": "code",
   "execution_count": 194,
   "id": "3e136aad",
   "metadata": {},
   "outputs": [],
   "source": [
    "dispo_alim_copy['Disponibilité intérieur calculée 1'] = dispo_alim['Importations - Quantité'] + dispo_alim['Production'] - dispo_alim['Exportations - Quantité'] + dispo_alim['Variation de stock']\n",
    "dispo_alim_copy['Disponibilité intérieur calculée 2'] = dispo_alim['Nourriture'] + dispo_alim['Autres Utilisations']  + dispo_alim['Aliments pour animaux'] + dispo_alim['Semences'] + dispo_alim['Traitement'] + dispo_alim['Pertes']"
   ]
  },
  {
   "cell_type": "markdown",
   "id": "f38ce653",
   "metadata": {},
   "source": [
    "## 4.2 The Cereals's usages distribution"
   ]
  },
  {
   "cell_type": "code",
   "execution_count": 195,
   "id": "106918f7",
   "metadata": {},
   "outputs": [],
   "source": [
    "# Récupération des données pour cette analyse\n",
    "\n",
    "dispo_alim_copy = dispo_alim.copy()\n",
    "#Extraire la liste des céréales depuis le site FAO\n",
    "cereals_type = [\"Blé\", \"Maïs\", \"Riz (Eq Blanchi)\", \"Orge\", \"Seigle\", \"Avoine\", \"Millet\", \"Sorgho\", \"Céréales, Autres\"]\n",
    "utilisation_cereal_cat = dispo_alim_copy[dispo_alim_copy['Produit'].isin(cereals_type)]"
   ]
  },
  {
   "cell_type": "code",
   "execution_count": 196,
   "id": "914c0283",
   "metadata": {},
   "outputs": [],
   "source": [
    "def cereals_repartition(df, product = 'all', pays = 'all'):\n",
    "    \n",
    "    cereals_usage_2017 = df[dispo_alim_copy['Produit'].isin(cereals_type)].groupby(by=['Zone']).agg({'Aliments pour animaux':'sum',\n",
    "                                                                                        'Nourriture' : 'sum'})\n",
    "    cereals_usage_pop = 0\n",
    "    cereals_usage_animals = 0\n",
    "     \n",
    "    \n",
    "    if (product, pays) == ('all', 'all') : \n",
    "        cereals_usage_pop = cereals_usage_2017.Nourriture.sum()\n",
    "        cereals_usage_animals = cereals_usage_2017['Aliments pour animaux'].sum()\n",
    "        utilisation_totale_cereale = cereals_usage_2017.sum().sum()\n",
    "    else :\n",
    "        if pd.DataFrame(cereals_usage_2017.loc[pays]).empty :\n",
    "            raise ValueError(\"'{}' is not defined\".format(pays))\n",
    "        try : \n",
    "            cereals_usage_pop = cereals_usage_2017.loc[pays, 'Nourriture']\n",
    "        except KeyError as e:\n",
    "            return 'No data'\n",
    "        \n",
    "        try : \n",
    "             cereals_usage_animals = cereals_usage_2017.loc[pays, 'Aliments pour animaux']\n",
    "        except KeyError as e:\n",
    "            return e\n",
    "        utilisation_totale_cereale = cereals_usage_2017.loc[pays].sum().sum()\n",
    "    \n",
    "    prop_utilisation = np.append((cereals_usage_pop / utilisation_totale_cereale),(cereals_usage_animals / utilisation_totale_cereale))\n",
    "    fig, axe = plt.subplots(figsize=(8,12))\n",
    "    axe.pie(prop_utilisation, labels = [\"fooded population's usage\", \"fooded animals's usage\"], autopct = '%1.1f%%')\n",
    "        "
   ]
  },
  {
   "cell_type": "code",
   "execution_count": 204,
   "id": "71d529d6",
   "metadata": {},
   "outputs": [
    {
     "data": {
      "image/png": "[encoded data removed]",
      "text/plain": [
       "<Figure size 576x864 with 1 Axes>"
      ]
     },
     "metadata": {},
     "output_type": "display_data"
    }
   ],
   "source": [
    "cereals_repartition(dispo_alim_copy, pays = 'Tchad')"
   ]
  },
  {
   "cell_type": "markdown",
   "id": "3ce2a5fb",
   "metadata": {},
   "source": [
    "## 4.3 The thai's manioc-usage distribution"
   ]
  },
  {
   "cell_type": "code",
   "execution_count": 221,
   "id": "09414227",
   "metadata": {},
   "outputs": [],
   "source": [
    "thai_manioc_prod = dispo_alim_copy.loc[dispo_alim_copy['Produit'] == 'Manioc'].loc[dispo_alim_copy['Zone'] == 'Thaïlande'].loc[:, ].Production\n",
    "mondiale_manioc_prod = dispo_alim_copy.loc[dispo_alim_copy['Produit'] == 'Manioc', 'Production'].sum()\n",
    "np_array = np.append(thai_manioc_prod/mondiale_manioc_prod, 1 - thai_manioc_prod/mondiale_manioc_prod)"
   ]
  },
  {
   "cell_type": "code",
   "execution_count": 262,
   "id": "40ca5091",
   "metadata": {},
   "outputs": [],
   "source": [
    "def absolute_value(pct):\n",
    "    absolute = round(pct * mondiale_manioc_prod / 100)\n",
    "    return '{:.1f}%\\n({:d} m.t)'.format(pct, absolute)"
   ]
  },
  {
   "cell_type": "code",
   "execution_count": 269,
   "id": "1cfcfd07",
   "metadata": {},
   "outputs": [
    {
     "data": {
      "image/png": "[encoded data removed]",
      "text/plain": [
       "<Figure size 576x864 with 1 Axes>"
      ]
     },
     "metadata": {},
     "output_type": "display_data"
    }
   ],
   "source": [
    "plt.subplots(figsize=(8,12))\n",
    "plt.pie(x=np_array, labels=[\"Thai manioc's production\",\"global manioc's production\"], explode=[0.1,0], shadow = True, autopct = lambda x : absolute_value(x))\n",
    "plt.title(\"Thai manioc's production vs global manioc's production\")\n",
    "plt.show()"
   ]
  },
  {
   "cell_type": "code",
   "execution_count": 264,
   "id": "577db242",
   "metadata": {},
   "outputs": [
    {
     "data": {
      "text/plain": [
       "255002.0"
      ]
     },
     "execution_count": 264,
     "metadata": {},
     "output_type": "execute_result"
    }
   ],
   "source": [
    "dispo_alim_copy.loc[dispo_alim_copy['Produit'] == 'Manioc', 'Production'].sum()"
   ]
  },
  {
   "cell_type": "code",
   "execution_count": 278,
   "id": "7ecaf95e",
   "metadata": {},
   "outputs": [
    {
     "data": {
      "text/html": [
       "<div>\n",
       "<style scoped>\n",
       "    .dataframe tbody tr th:only-of-type {\n",
       "        vertical-align: middle;\n",
       "    }\n",
       "\n",
       "    .dataframe tbody tr th {\n",
       "        vertical-align: top;\n",
       "    }\n",
       "\n",
       "    .dataframe thead th {\n",
       "        text-align: right;\n",
       "    }\n",
       "</style>\n",
       "<table border=\"1\" class=\"dataframe\">\n",
       "  <thead>\n",
       "    <tr style=\"text-align: right;\">\n",
       "      <th></th>\n",
       "      <th>Production</th>\n",
       "      <th>Nourriture</th>\n",
       "      <th>Disponibilité alimentaire (Kcal/personne/jour)</th>\n",
       "    </tr>\n",
       "  </thead>\n",
       "  <tbody>\n",
       "    <tr>\n",
       "      <th>110</th>\n",
       "      <td>0.0</td>\n",
       "      <td>0.0</td>\n",
       "      <td>0.0</td>\n",
       "    </tr>\n",
       "    <tr>\n",
       "      <th>390</th>\n",
       "      <td>0.0</td>\n",
       "      <td>0.0</td>\n",
       "      <td>0.0</td>\n",
       "    </tr>\n",
       "    <tr>\n",
       "      <th>475</th>\n",
       "      <td>16412.0</td>\n",
       "      <td>4249.0</td>\n",
       "      <td>560.0</td>\n",
       "    </tr>\n",
       "    <tr>\n",
       "      <th>563</th>\n",
       "      <td>0.0</td>\n",
       "      <td>0.0</td>\n",
       "      <td>4.0</td>\n",
       "    </tr>\n",
       "    <tr>\n",
       "      <th>655</th>\n",
       "      <td>0.0</td>\n",
       "      <td>0.0</td>\n",
       "      <td>0.0</td>\n",
       "    </tr>\n",
       "    <tr>\n",
       "      <th>...</th>\n",
       "      <td>...</td>\n",
       "      <td>...</td>\n",
       "      <td>...</td>\n",
       "    </tr>\n",
       "    <tr>\n",
       "      <th>15108</th>\n",
       "      <td>0.0</td>\n",
       "      <td>0.0</td>\n",
       "      <td>0.0</td>\n",
       "    </tr>\n",
       "    <tr>\n",
       "      <th>15201</th>\n",
       "      <td>0.0</td>\n",
       "      <td>14.0</td>\n",
       "      <td>3.0</td>\n",
       "    </tr>\n",
       "    <tr>\n",
       "      <th>15294</th>\n",
       "      <td>46.0</td>\n",
       "      <td>40.0</td>\n",
       "      <td>6.0</td>\n",
       "    </tr>\n",
       "    <tr>\n",
       "      <th>15390</th>\n",
       "      <td>0.0</td>\n",
       "      <td>46.0</td>\n",
       "      <td>0.0</td>\n",
       "    </tr>\n",
       "    <tr>\n",
       "      <th>15567</th>\n",
       "      <td>3.0</td>\n",
       "      <td>3.0</td>\n",
       "      <td>15.0</td>\n",
       "    </tr>\n",
       "  </tbody>\n",
       "</table>\n",
       "<p>134 rows × 3 columns</p>\n",
       "</div>"
      ],
      "text/plain": [
       "       Production  Nourriture  Disponibilité alimentaire (Kcal/personne/jour)\n",
       "110           0.0         0.0                                             0.0\n",
       "390           0.0         0.0                                             0.0\n",
       "475       16412.0      4249.0                                           560.0\n",
       "563           0.0         0.0                                             4.0\n",
       "655           0.0         0.0                                             0.0\n",
       "...           ...         ...                                             ...\n",
       "15108         0.0         0.0                                             0.0\n",
       "15201         0.0        14.0                                             3.0\n",
       "15294        46.0        40.0                                             6.0\n",
       "15390         0.0        46.0                                             0.0\n",
       "15567         3.0         3.0                                            15.0\n",
       "\n",
       "[134 rows x 3 columns]"
      ]
     },
     "execution_count": 278,
     "metadata": {},
     "output_type": "execute_result"
    }
   ],
   "source": [
    "dispo_alim_copy.loc[dispo_alim_copy['Produit'] == 'Manioc', ['Production','Nourriture', 'Disponibilité alimentaire (Kcal/personne/jour)']]"
   ]
  },
  {
   "cell_type": "code",
   "execution_count": 265,
   "id": "cb3c512b",
   "metadata": {},
   "outputs": [],
   "source": [
    "manioc_thai_use_cat = dispo_alim_copy.loc[dispo_alim_copy['Produit'] == 'Manioc'].loc[dispo_alim_copy['Zone'] == 'Thaïlande', ['Nourriture','Aliments pour animaux','Exportations - Quantité','Autres Utilisations']].sum()\n",
    "manioc_total_usage = manioc_thai_use_cat.sum()\n",
    "manioc_thai_use_prop = manioc_thai_use_cat / manioc_total_usage"
   ]
  },
  {
   "cell_type": "code",
   "execution_count": 266,
   "id": "55225f17",
   "metadata": {},
   "outputs": [],
   "source": [
    "def absolute_value_manioc(pct):\n",
    "    absolute = round(pct * manioc_total_usage / 100)\n",
    "    return '{:.1f}%\\n({:d} m.t)'.format(pct, absolute)"
   ]
  },
  {
   "cell_type": "code",
   "execution_count": 268,
   "id": "d8ff03b6",
   "metadata": {},
   "outputs": [
    {
     "data": {
      "image/png": "[encoded data removed]",
      "text/plain": [
       "<Figure size 576x864 with 1 Axes>"
      ]
     },
     "metadata": {},
     "output_type": "display_data"
    }
   ],
   "source": [
    "plt.subplots(figsize=(8,12))\n",
    "plt.pie(manioc_thai_use_prop, labels = manioc_thai_use_cat.index, shadow = True, autopct = lambda x : absolute_value_manioc(x))\n",
    "plt.title(\"Thai manioc usage's distribution\")\n",
    "plt.show()"
   ]
  },
  {
   "cell_type": "code",
   "execution_count": null,
   "id": "028aeb5a",
   "metadata": {},
   "outputs": [],
   "source": []
  }
 ],
 "metadata": {
  "kernelspec": {
   "display_name": "Python 3",
   "language": "python",
   "name": "python3"
  },
  "language_info": {
   "codemirror_mode": {
    "name": "ipython",
    "version": 3
   },
   "file_extension": ".py",
   "mimetype": "text/x-python",
   "name": "python",
   "nbconvert_exporter": "python",
   "pygments_lexer": "ipython3",
   "version": "3.8.8"
  }
 },
 "nbformat": 4,
 "nbformat_minor": 5
}
